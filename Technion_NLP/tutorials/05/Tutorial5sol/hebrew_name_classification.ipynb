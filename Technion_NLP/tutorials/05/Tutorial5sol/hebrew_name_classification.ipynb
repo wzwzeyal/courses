{
 "cells": [
  {
   "cell_type": "code",
   "execution_count": 2,
   "metadata": {
    "id": "iw9HlVXvQhFM",
    "pycharm": {
     "name": "#%%\n"
    }
   },
   "outputs": [],
   "source": [
    "% matplotlib inline"
   ]
  },
  {
   "cell_type": "markdown",
   "metadata": {
    "id": "rykvZaURQhFN",
    "pycharm": {
     "name": "#%% md\n"
    }
   },
   "source": [
    "\n",
    "NLP From Scratch: Classifying Names with a Character-Level RNN\n",
    "**************************************************************\n",
    "**Author**: `Sean Robertson <https://github.com/spro/practical-pytorch>`_\n",
    "\n",
    "We will be building and training a basic character-level RNN to classify\n",
    "words. This tutorial, along with the following two, show how to do\n",
    "preprocess data for NLP modeling \"from scratch\", in particular not using\n",
    "many of the convenience functions of `torchtext`, so you can see how\n",
    "preprocessing for NLP modeling works at a low level.\n",
    "\n",
    "A character-level RNN reads words as a series of characters -\n",
    "outputting a prediction and \"hidden state\" at each step, feeding its\n",
    "previous hidden state into each next step. We take the final prediction\n",
    "to be the output, i.e. which class the word belongs to.\n",
    "\n",
    "Specifically, we'll train on a few thousand surnames from 18 languages\n",
    "of origin, and predict which language a name is from based on the\n",
    "spelling:\n",
    "\n",
    "::\n",
    "\n",
    "    $ python predict.py Hinton\n",
    "    (-0.47) Scottish\n",
    "    (-1.52) English\n",
    "    (-3.57) Irish\n",
    "\n",
    "    $ python predict.py Schmidhuber\n",
    "    (-0.19) German\n",
    "    (-2.48) Czech\n",
    "    (-2.68) Dutch\n",
    "\n",
    "\n",
    "**Recommended Reading:**\n",
    "\n",
    "I assume you have at least installed PyTorch, know Python, and\n",
    "understand Tensors:\n",
    "\n",
    "-  https://pytorch.org/ For installation instructions\n",
    "-  :doc:`/beginner/deep_learning_60min_blitz` to get started with PyTorch in general\n",
    "-  :doc:`/beginner/pytorch_with_examples` for a wide and deep overview\n",
    "-  :doc:`/beginner/former_torchies_tutorial` if you are former Lua Torch user\n",
    "\n",
    "It would also be useful to know about RNNs and how they work:\n",
    "\n",
    "-  `The Unreasonable Effectiveness of Recurrent Neural\n",
    "   Networks <https://karpathy.github.io/2015/05/21/rnn-effectiveness/>`__\n",
    "   shows a bunch of real life examples\n",
    "-  `Understanding LSTM\n",
    "   Networks <https://colah.github.io/posts/2015-08-Understanding-LSTMs/>`__\n",
    "   is about LSTMs specifically but also informative about RNNs in\n",
    "   general\n",
    "\n",
    "Preparing the Data\n",
    "==================\n",
    "\n",
    ".. Note::\n",
    "   Download the data from\n",
    "   `here <https://download.pytorch.org/tutorial/data.zip>`_\n",
    "   and extract it to the current directory.\n",
    "\n",
    "Included in the ``data/names`` directory are 18 text files named as\n",
    "\"[Language].txt\". Each file contains a bunch of names, one name per\n",
    "line, mostly romanized (but we still need to convert from Unicode to\n",
    "ASCII).\n",
    "\n",
    "We'll end up with a dictionary of lists of names per language,\n",
    "``{language: [names ...]}``. The generic variables \"category\" and \"line\"\n",
    "(for language and name in our case) are used for later extensibility.\n"
   ]
  },
  {
   "cell_type": "code",
   "execution_count": null,
   "outputs": [],
   "source": [],
   "metadata": {
    "collapsed": false,
    "pycharm": {
     "name": "#%%\n"
    }
   }
  },
  {
   "cell_type": "code",
   "source": [
    "hebrew_letters = \"אבגדהוזחטיכלמנסעפצקרשת\"\n",
    "hebrew_suffix_letters = \"ךםןףץ\"\n",
    "\n",
    "all_letters = hebrew_letters + hebrew_suffix_letters + \" .,;'\"\n",
    "\n",
    "n_letters = len(all_letters)"
   ],
   "metadata": {
    "id": "D66CoqOkRluD",
    "pycharm": {
     "name": "#%%\n"
    }
   },
   "execution_count": 10,
   "outputs": []
  },
  {
   "cell_type": "code",
   "execution_count": 3,
   "outputs": [],
   "source": [
    "#  Imports\n",
    "import requests\n",
    "from bs4 import BeautifulSoup as bs\n",
    "import tqdm"
   ],
   "metadata": {
    "collapsed": false,
    "pycharm": {
     "name": "#%%\n"
    }
   }
  },
  {
   "cell_type": "code",
   "execution_count": null,
   "outputs": [],
   "source": [
    "#  Webscarping https://babynames.baby-land.co.il\n",
    "\n",
    "def create_from_babynames():\n",
    "   base_url = \"https://babynames.baby-land.co.il/namelist/?_sft_name_gender={}\"\n",
    "\n",
    "   boys_names = []\n",
    "   girls_names = []\n",
    "   unisex_names = []\n",
    "\n",
    "   req = requests.get(base_url.format(\"boy\"))\n",
    "   soup = bs(req.text, 'html.parser')\n",
    "   for t in soup.select('a[class=boys]'):\n",
    "       boys_names.append(t.text)\n",
    "\n",
    "   req = requests.get(base_url.format(\"girl\"))\n",
    "   soup = bs(req.text, 'html.parser')\n",
    "   for t in soup.select('a[class=girl]'):\n",
    "       girls_names.append(t.text)\n",
    "\n",
    "   req = requests.get(base_url.format(\"unisex\"))\n",
    "   soup = bs(req.text, 'html.parser')\n",
    "   for t in soup.select('a[class=unisex]'):\n",
    "       unisex_names.append(t.text)\n",
    "\n",
    "   return boys_names + unisex_names, girls_names + unisex_names\n",
    "\n",
    "boys_names, girls_names = create_from_babynames()\n",
    "\n",
    "\n"
   ],
   "metadata": {
    "collapsed": false,
    "pycharm": {
     "name": "#%%\n",
     "is_executing": true
    }
   }
  },
  {
   "cell_type": "code",
   "execution_count": 12,
   "outputs": [
    {
     "name": "stdout",
     "output_type": "stream",
     "text": [
      "Scraping isralibaby ...\n"
     ]
    },
    {
     "name": "stderr",
     "output_type": "stream",
     "text": [
      "100%|██████████| 22/22 [00:37<00:00,  1.72s/it]\n"
     ]
    }
   ],
   "source": [
    "#  Webscarping https://www.israelibaby.co.il\n",
    "\n",
    "def create_from_israelibaby():\n",
    "    \"\"\"\n",
    "\n",
    "    :return:\n",
    "    \"\"\"\n",
    "    print(\"Scraping isralibaby ...\")\n",
    "    base_url = \"https://www.israelibaby.co.il/name-{}-{}\"\n",
    "\n",
    "    boys_names = []\n",
    "    girls_names = []\n",
    "\n",
    "    for letter in tqdm.tqdm(range(len(hebrew_letters))):\n",
    "        # boys\n",
    "        url = base_url.format(1, letter)\n",
    "        req = requests.get(url)\n",
    "        soup = bs(req.text, 'html.parser')\n",
    "        for t in soup.select('div[class=name]'):\n",
    "            boys_names.append(t.text)\n",
    "\n",
    "        # girls\n",
    "        url = base_url.format(2, letter)\n",
    "        req = requests.get(url)\n",
    "        soup = bs(req.text, 'html.parser')\n",
    "        for t in soup.select('div[class=name]'):\n",
    "            girls_names.append(t.text)\n",
    "\n",
    "    return boys_names, girls_names\n",
    "\n",
    "boys_names2, girls_names2 = create_from_israelibaby()"
   ],
   "metadata": {
    "collapsed": false,
    "pycharm": {
     "name": "#%%\n"
    }
   }
  },
  {
   "cell_type": "code",
   "execution_count": 46,
   "outputs": [
    {
     "name": "stdout",
     "output_type": "stream",
     "text": [
      "Scraping baby_names ...\n"
     ]
    },
    {
     "name": "stderr",
     "output_type": "stream",
     "text": [
      "100%|██████████| 22/22 [01:02<00:00,  2.86s/it]\n"
     ]
    }
   ],
   "source": [
    "#  Webscarping https://www.israelibaby.co.il\n",
    "\n",
    "def create_from_baby_names():\n",
    "    \"\"\"\n",
    "    Scrapes the 'https://www.baby-names.co.il' site,\n",
    "    Goes over the boys site, and for each letter gets the name and update the boys list\n",
    "    Do the same for the girls\n",
    "    :return: the boys list and the girl list\n",
    "    \"\"\"\n",
    "    print(\"Scraping baby_names ...\")\n",
    "\n",
    "\n",
    "\n",
    "    boys_base_url = 'https://www.baby-names.co.il/category/%D7%9B%D7%9C-%D7%94%D7%A9%D7%9E%D7%95%D7%AA/%D7%A9%D7%9E%D7%95%D7%AA-%D7%9C%D7%91%D7%A0%D7%99%D7%9D/?ap={}'\n",
    "\n",
    "    boys_base_page_url = \"https://www.baby-names.co.il/category/%D7%9B%D7%9C-%D7%94%D7%A9%D7%9E%D7%95%D7%AA/page/{}/?ap={}\"\n",
    "\n",
    "    girls_base_url = \"https://www.baby-names.co.il/category/%D7%9B%D7%9C-%D7%94%D7%A9%D7%9E%D7%95%D7%AA/%D7%A9%D7%9E%D7%95%D7%AA-%D7%9C%D7%91%D7%A0%D7%95%D7%AA/?ap={}\"\n",
    "\n",
    "    girls_base_page_url = \"https://www.baby-names.co.il/category/%D7%9B%D7%9C-%D7%94%D7%A9%D7%9E%D7%95%D7%AA/%D7%A9%D7%9E%D7%95%D7%AA-%D7%9C%D7%91%D7%A0%D7%95%D7%AA/page/{}/?ap={}\"\n",
    "\n",
    "    boys_names = []\n",
    "    girls_names = []\n",
    "\n",
    "    # hebrew_letters = \"א\"\n",
    "\n",
    "    for letter in tqdm.tqdm(hebrew_letters):\n",
    "        # boys\n",
    "        url = boys_base_url.format(letter)\n",
    "        req = requests.get(url)\n",
    "        soup = bs(req.text, 'html.parser')\n",
    "        pages = soup.select('span[class=pagination-meta]')\n",
    "        if (len(pages) > 0):\n",
    "            # multiple pages\n",
    "            nof_pages = int(pages[0].text.split(\" \")[-1]) + 1\n",
    "            for page in range(nof_pages):\n",
    "                url_with_page = boys_base_page_url.format(page, letter)\n",
    "                req = requests.get(url_with_page)\n",
    "                soup = bs(req.text, 'html.parser')\n",
    "                for t in soup.select('a[title*=פירוש]'):\n",
    "                    boys_names.append(t.text)\n",
    "        else:\n",
    "            # single page\n",
    "            for t in soup.select('a[title*=פירוש]'):\n",
    "                boys_names.append(t.text)\n",
    "\n",
    "        #girls\n",
    "        url = girls_base_url.format(letter)\n",
    "        req = requests.get(url)\n",
    "        soup = bs(req.text, 'html.parser')\n",
    "        pages = soup.select('span[class=pagination-meta]')\n",
    "        if (len(pages) > 0):\n",
    "            # multiple pages\n",
    "            nof_pages = int(pages[0].text.split(\" \")[-1]) + 1\n",
    "            for page in range(nof_pages):\n",
    "                url_with_page = girls_base_page_url.format(page, letter)\n",
    "                req = requests.get(url_with_page)\n",
    "                soup = bs(req.text, 'html.parser')\n",
    "                for t in soup.select('a[title*=פירוש]'):\n",
    "                    girls_names.append(t.text)\n",
    "        else:\n",
    "            # single page\n",
    "            for t in soup.select('a[title*=פירוש]'):\n",
    "                girls_names.append(t.text)\n",
    "\n",
    "\n",
    "        # print(f\"{url_suffix}: {nof_pages}\")\n",
    "\n",
    "        # for t in soup.select('a[title*=פירוש]'):\n",
    "        #     boys_names.append(t.text)\n",
    "        #\n",
    "        #\n",
    "        # # girls\n",
    "        # url = girls_base_url.format(url_suffix)\n",
    "        # req = requests.get(url)\n",
    "        # soup = bs(req.text, 'html.parser')\n",
    "        # for t in soup.select('a[title*=פירוש]'):\n",
    "        #     girls_names.append(t.text)\n",
    "\n",
    "    return boys_names, girls_names\n",
    "\n",
    "boys_names3, girls_names3 = create_from_baby_names()"
   ],
   "metadata": {
    "collapsed": false,
    "pycharm": {
     "name": "#%%\n"
    }
   }
  },
  {
   "cell_type": "code",
   "execution_count": 48,
   "outputs": [
    {
     "data": {
      "text/plain": "2382"
     },
     "execution_count": 48,
     "metadata": {},
     "output_type": "execute_result"
    }
   ],
   "source": [
    "len(girls_names3)"
   ],
   "metadata": {
    "collapsed": false,
    "pycharm": {
     "name": "#%%\n"
    }
   }
  },
  {
   "cell_type": "code",
   "execution_count": null,
   "outputs": [],
   "source": [],
   "metadata": {
    "collapsed": false,
    "pycharm": {
     "name": "#%%\n"
    }
   }
  },
  {
   "cell_type": "code",
   "execution_count": null,
   "outputs": [],
   "source": [],
   "metadata": {
    "collapsed": false,
    "pycharm": {
     "name": "#%%\n"
    }
   }
  },
  {
   "cell_type": "code",
   "execution_count": null,
   "outputs": [],
   "source": [],
   "metadata": {
    "collapsed": false,
    "pycharm": {
     "name": "#%%\n"
    }
   }
  },
  {
   "cell_type": "code",
   "execution_count": 49,
   "outputs": [],
   "source": [
    "# combine the results\n",
    "\n",
    "boys_names_total = list(set(boys_names + boys_names2 + boys_names3))\n",
    "girls_names_total = list(set(girls_names + girls_names2 + girls_names3))\n"
   ],
   "metadata": {
    "collapsed": false,
    "pycharm": {
     "name": "#%%\n"
    }
   }
  },
  {
   "cell_type": "code",
   "execution_count": 50,
   "outputs": [
    {
     "data": {
      "text/plain": "(1852, 2315)"
     },
     "execution_count": 50,
     "metadata": {},
     "output_type": "execute_result"
    }
   ],
   "source": [
    "len(boys_names_total), len(girls_names_total)"
   ],
   "metadata": {
    "collapsed": false,
    "pycharm": {
     "name": "#%%\n"
    }
   }
  },
  {
   "cell_type": "code",
   "execution_count": 51,
   "outputs": [],
   "source": [
    "# create the files\n",
    "import os\n",
    "\n",
    "def create_files(output_path, boys_names, girls_names):\n",
    "    \"\"\"\n",
    "    Create the boys and girls text files\n",
    "    If a name appears both in the boys and girls list, it will be written\n",
    "    to a unisex text file\n",
    "    :param output_path: the output path\n",
    "    :param boys_names: list with all the boys names\n",
    "    :param girls_names: list with all the boys names\n",
    "    :return: None\n",
    "    \"\"\"\n",
    "\n",
    "    if not os.path.isdir(output_path):\n",
    "        os.mkdir(output_path)\n",
    "\n",
    "    unisex_names = []\n",
    "\n",
    "    with open(f'./{output_path}/boys.txt', 'w') as fp:\n",
    "        for item in boys_names:\n",
    "            if item in girls_names:\n",
    "                unisex_names.append(item)\n",
    "                girls_names.remove(item)\n",
    "            else:\n",
    "                fp.write(\"%s\\n\" % item)\n",
    "\n",
    "    with open(f'./{output_path}/girls.txt', 'w') as fp:\n",
    "        for item in girls_names:\n",
    "            fp.write(\"%s\\n\" % item)\n",
    "\n",
    "    with open(f'./{output_path}/unisex.txt', 'w') as fp:\n",
    "        for item in unisex_names:\n",
    "            fp.write(\"%s\\n\" % item)\n",
    "\n",
    "data_path = \"./hebrew_names\"\n",
    "create_files(data_path, boys_names_total, girls_names_total)\n"
   ],
   "metadata": {
    "collapsed": false,
    "pycharm": {
     "name": "#%%\n"
    }
   }
  },
  {
   "cell_type": "code",
   "execution_count": null,
   "outputs": [],
   "source": [],
   "metadata": {
    "collapsed": false,
    "pycharm": {
     "name": "#%%\n"
    }
   }
  },
  {
   "cell_type": "code",
   "execution_count": 53,
   "metadata": {
    "colab": {
     "base_uri": "https://localhost:8080/"
    },
    "id": "R6W8ur0RQhFO",
    "outputId": "d7e1a1e8-8a99-4ea7-e985-788739fd2f31",
    "pycharm": {
     "name": "#%%\n"
    }
   },
   "outputs": [
    {
     "name": "stdout",
     "output_type": "stream",
     "text": [
      "././hebrew_names/unisex.txt\n",
      "././hebrew_names/boys.txt\n",
      "././hebrew_names/girls.txt\n",
      "3\n"
     ]
    }
   ],
   "source": [
    "from __future__ import unicode_literals, print_function, division\n",
    "from io import open\n",
    "import glob\n",
    "import os\n",
    "import tqdm\n",
    "\n",
    "\n",
    "def findFiles(path): return glob.glob(path)\n",
    "\n",
    "# print(findFiles('names/*.txt'))\n",
    "\n",
    "import unicodedata\n",
    "import string\n",
    "\n",
    "# Turn a Unicode string to plain ASCII, thanks to https://stackoverflow.com/a/518232/2809427\n",
    "def unicodeToAscii(s):\n",
    "    return ''.join(\n",
    "        c for c in unicodedata.normalize('NFD', s)\n",
    "        if unicodedata.category(c) != 'Mn'\n",
    "        and c in all_letters\n",
    "    )\n",
    "\n",
    "\n",
    "# Build the category_lines dictionary, a list of names per language\n",
    "category_lines = {}\n",
    "all_categories = []\n",
    "\n",
    "# Read a file and split into lines\n",
    "def readLines(filename):\n",
    "    lines = open(filename, encoding='utf-8').read().strip().split('\\n')\n",
    "    return [unicodeToAscii(line) for line in lines]\n",
    "\n",
    "for filename in findFiles(f'./{data_path}/*.txt'):\n",
    "    print(filename)\n",
    "    category = os.path.splitext(os.path.basename(filename))[0]\n",
    "    all_categories.append(category)\n",
    "    lines = readLines(filename)\n",
    "    category_lines[category] = lines\n",
    "\n",
    "n_categories = len(all_categories)\n",
    "print(n_categories)"
   ]
  },
  {
   "cell_type": "markdown",
   "metadata": {
    "id": "X6hDGbH_QhFP",
    "pycharm": {
     "name": "#%% md\n"
    }
   },
   "source": [
    "Now we have ``category_lines``, a dictionary mapping each category\n",
    "(language) to a list of lines (names). We also kept track of\n",
    "``all_categories`` (just a list of languages) and ``n_categories`` for\n",
    "later reference.\n",
    "\n",
    "\n"
   ]
  },
  {
   "cell_type": "code",
   "execution_count": 54,
   "outputs": [
    {
     "name": "stdout",
     "output_type": "stream",
     "text": [
      "['unisex', 'boys', 'girls']\n"
     ]
    }
   ],
   "source": [
    "print(all_categories)"
   ],
   "metadata": {
    "collapsed": false,
    "pycharm": {
     "name": "#%%\n"
    }
   }
  },
  {
   "cell_type": "code",
   "execution_count": 55,
   "metadata": {
    "colab": {
     "base_uri": "https://localhost:8080/"
    },
    "id": "1OGPHaDoQhFP",
    "outputId": "38a81734-a46f-49bc-c4b7-7872ef88d50a",
    "pycharm": {
     "name": "#%%\n"
    }
   },
   "outputs": [
    {
     "name": "stdout",
     "output_type": "stream",
     "text": [
      "['אהבניאל', 'ירמיה', 'יואש ', 'אסא', 'בנאור']\n"
     ]
    }
   ],
   "source": [
    "print(category_lines['boys'][:5])"
   ]
  },
  {
   "cell_type": "markdown",
   "metadata": {
    "id": "Ew7Sd-CXQhFP",
    "pycharm": {
     "name": "#%% md\n"
    }
   },
   "source": [
    "Turning Names into Tensors\n",
    "--------------------------\n",
    "\n",
    "Now that we have all the names organized, we need to turn them into\n",
    "Tensors to make any use of them.\n",
    "\n",
    "To represent a single letter, we use a \"one-hot vector\" of size\n",
    "``<1 x n_letters>``. A one-hot vector is filled with 0s except for a 1\n",
    "at index of the current letter, e.g. ``\"b\" = <0 1 0 0 0 ...>``.\n",
    "\n",
    "To make a word we join a bunch of those into a 2D matrix\n",
    "``<line_length x 1 x n_letters>``.\n",
    "\n",
    "That extra 1 dimension is because PyTorch assumes everything is in\n",
    "batches - we're just using a batch size of 1 here.\n",
    "\n",
    "\n"
   ]
  },
  {
   "cell_type": "code",
   "execution_count": 56,
   "metadata": {
    "id": "jVBOZiowQhFQ",
    "colab": {
     "base_uri": "https://localhost:8080/"
    },
    "outputId": "6fd2de17-178d-4da5-f201-f4841d9f5cda",
    "pycharm": {
     "name": "#%%\n"
    }
   },
   "outputs": [
    {
     "name": "stdout",
     "output_type": "stream",
     "text": [
      "tensor([[0., 0., 0., 0., 0., 0., 0., 0., 0., 0., 0., 0., 0., 0., 0., 0., 0., 0.,\n",
      "         0., 0., 0., 0., 0., 1., 0., 0., 0., 0., 0., 0., 0., 0.]])\n",
      "torch.Size([4, 1, 32])\n"
     ]
    }
   ],
   "source": [
    "import torch\n",
    "\n",
    "\n",
    "# Find letter index from all_letters, e.g. \"a\" = 0\n",
    "def letterToIndex(letter):\n",
    "    return all_letters.find(letter)\n",
    "\n",
    "\n",
    "# Just for demonstration, turn a letter into a <1 x n_letters> Tensor\n",
    "def letterToTensor(letter):\n",
    "    tensor = torch.zeros(1, n_letters)\n",
    "    tensor[0][letterToIndex(letter)] = 1\n",
    "    return tensor\n",
    "\n",
    "\n",
    "# Turn a line into a <line_length x 1 x n_letters>,\n",
    "# or an array of one-hot letter vectors\n",
    "def lineToTensor(line):\n",
    "    tensor = torch.zeros(len(line), 1, n_letters)\n",
    "    for i, letter in enumerate(line):\n",
    "        tensor[i][0][letterToIndex(letter)] = 1\n",
    "    return tensor\n",
    "\n",
    "\n",
    "print(letterToTensor('ם'))\n",
    "\n",
    "print(lineToTensor('שלום').size())"
   ]
  },
  {
   "cell_type": "markdown",
   "metadata": {
    "id": "Oz8fnpz7QhFQ",
    "pycharm": {
     "name": "#%% md\n"
    }
   },
   "source": [
    "Creating the Network\n",
    "====================\n",
    "\n",
    "Before autograd, creating a recurrent neural network in Torch involved\n",
    "cloning the parameters of a layer over several timesteps. The layers\n",
    "held hidden state and gradients which are now entirely handled by the\n",
    "graph itself. This means you can implement a RNN in a very \"pure\" way,\n",
    "as regular feed-forward layers.\n",
    "\n",
    "This RNN module (mostly copied from `the PyTorch for Torch users\n",
    "tutorial <https://pytorch.org/tutorials/beginner/former_torchies/\n",
    "nn_tutorial.html#example-2-recurrent-net>`__)\n",
    "is just 2 linear layers which operate on an input and hidden state, with\n",
    "a LogSoftmax layer after the output.\n",
    "\n",
    ".. figure:: https://i.imgur.com/Z2xbySO.png\n",
    "   :alt:\n",
    "\n",
    "\n",
    "\n"
   ]
  },
  {
   "cell_type": "code",
   "execution_count": 57,
   "metadata": {
    "id": "b8XIA_HBQhFQ",
    "pycharm": {
     "name": "#%%\n"
    }
   },
   "outputs": [],
   "source": [
    "import torch.nn as nn\n",
    "\n",
    "\n",
    "class RNN(nn.Module):\n",
    "    def __init__(self, input_size, hidden_size, output_size):\n",
    "        super(RNN, self).__init__()\n",
    "        self.hidden_size = hidden_size\n",
    "        self.i2h = nn.Linear(input_size + hidden_size, hidden_size)\n",
    "        self.i2o = nn.Linear(input_size + hidden_size, output_size)\n",
    "        self.softmax = nn.LogSoftmax(dim=1)\n",
    "\n",
    "    def forward(self, input, hidden):\n",
    "        input_combined = torch.cat((input, hidden), 1)\n",
    "        hidden = self.i2h(input_combined)\n",
    "        output = self.i2o(input_combined)\n",
    "        output = self.softmax(output)\n",
    "        return output, hidden\n",
    "\n",
    "    def initHidden(self):\n",
    "        return torch.zeros(1, self.hidden_size)\n",
    "\n",
    "\n",
    "n_hidden = 256\n",
    "rnn = RNN(n_letters, n_hidden, n_categories)"
   ]
  },
  {
   "cell_type": "markdown",
   "metadata": {
    "id": "2246-wjXQhFR",
    "pycharm": {
     "name": "#%% md\n"
    }
   },
   "source": [
    "To run a step of this network we need to pass an input (in our case, the\n",
    "Tensor for the current letter) and a previous hidden state (which we\n",
    "initialize as zeros at first). We'll get back the output (probability of\n",
    "each language) and a next hidden state (which we keep for the next\n",
    "step).\n",
    "\n",
    "\n"
   ]
  },
  {
   "cell_type": "code",
   "execution_count": 58,
   "metadata": {
    "id": "5i3M4KNiQhFR",
    "pycharm": {
     "name": "#%%\n"
    }
   },
   "outputs": [],
   "source": [
    "input = letterToTensor('א')\n",
    "hidden = torch.zeros(1, n_hidden)\n",
    "\n",
    "output, next_hidden = rnn(input, hidden)"
   ]
  },
  {
   "cell_type": "markdown",
   "metadata": {
    "id": "3btjAGlNQhFR",
    "pycharm": {
     "name": "#%% md\n"
    }
   },
   "source": [
    "For the sake of efficiency we don't want to be creating a new Tensor for\n",
    "every step, so we will use ``lineToTensor`` instead of\n",
    "``letterToTensor`` and use slices. This could be further optimized by\n",
    "pre-computing batches of Tensors.\n",
    "\n",
    "\n"
   ]
  },
  {
   "cell_type": "code",
   "execution_count": 59,
   "metadata": {
    "id": "G7sWTLoqQhFR",
    "colab": {
     "base_uri": "https://localhost:8080/"
    },
    "outputId": "462c048e-39c4-4257-fdfe-732d16a2bf3a",
    "pycharm": {
     "name": "#%%\n"
    }
   },
   "outputs": [
    {
     "name": "stdout",
     "output_type": "stream",
     "text": [
      "tensor([[-1.0339, -1.1255, -1.1398]], grad_fn=<LogSoftmaxBackward0>)\n"
     ]
    }
   ],
   "source": [
    "input = lineToTensor('יפית')\n",
    "hidden = torch.zeros(1, n_hidden)\n",
    "\n",
    "output, next_hidden = rnn(input[0], hidden)\n",
    "print(output)"
   ]
  },
  {
   "cell_type": "markdown",
   "metadata": {
    "id": "YEpvbxf6QhFR",
    "pycharm": {
     "name": "#%% md\n"
    }
   },
   "source": [
    "As you can see the output is a ``<1 x n_categories>`` Tensor, where\n",
    "every item is the likelihood of that category (higher is more likely).\n",
    "\n",
    "\n"
   ]
  },
  {
   "cell_type": "markdown",
   "metadata": {
    "id": "3Crjr8K1QhFR",
    "pycharm": {
     "name": "#%% md\n"
    }
   },
   "source": [
    "Training\n",
    "========\n",
    "Preparing for Training\n",
    "----------------------\n",
    "\n",
    "Before going into training we should make a few helper functions. The\n",
    "first is to interpret the output of the network, which we know to be a\n",
    "likelihood of each category. We can use ``Tensor.topk`` to get the index\n",
    "of the greatest value:\n",
    "\n",
    "\n"
   ]
  },
  {
   "cell_type": "code",
   "execution_count": 60,
   "metadata": {
    "id": "rsb3pN6OQhFS",
    "colab": {
     "base_uri": "https://localhost:8080/"
    },
    "outputId": "c1ef967c-dd09-41e0-a13d-145650f3527b",
    "pycharm": {
     "name": "#%%\n"
    }
   },
   "outputs": [
    {
     "name": "stdout",
     "output_type": "stream",
     "text": [
      "('unisex', 0)\n"
     ]
    }
   ],
   "source": [
    "def categoryFromOutput(output):\n",
    "    top_n, top_i = output.topk(1)\n",
    "    category_i = top_i[0].item()\n",
    "    return all_categories[category_i], category_i\n",
    "\n",
    "\n",
    "print(categoryFromOutput(output))"
   ]
  },
  {
   "cell_type": "markdown",
   "metadata": {
    "id": "LhCO7reVQhFS",
    "pycharm": {
     "name": "#%% md\n"
    }
   },
   "source": [
    "We will also want a quick way to get a training example (a name and its\n",
    "language):\n",
    "\n",
    "\n"
   ]
  },
  {
   "cell_type": "code",
   "execution_count": 61,
   "metadata": {
    "id": "lOUi7Qh7QhFS",
    "colab": {
     "base_uri": "https://localhost:8080/"
    },
    "outputId": "2a27d8e5-6472-4426-dfbb-410c4225d418",
    "pycharm": {
     "name": "#%%\n"
    }
   },
   "outputs": [
    {
     "name": "stdout",
     "output_type": "stream",
     "text": [
      "category = girls / line = מאיה לי\n",
      "category = boys / line = ינוב\n",
      "category = girls / line = רוקסן\n",
      "category = unisex / line = מתתיה\n",
      "category = unisex / line = שולי\n",
      "category = boys / line = מצליח\n",
      "category = girls / line = פשוש\n",
      "category = girls / line = מליסה\n",
      "category = boys / line = דב\n",
      "category = girls / line = ירקונה\n"
     ]
    }
   ],
   "source": [
    "import random\n",
    "\n",
    "\n",
    "def randomChoice(l):\n",
    "    return l[random.randint(0, len(l) - 1)]\n",
    "\n",
    "\n",
    "def randomTrainingExample():\n",
    "    category = randomChoice(all_categories)\n",
    "    line = randomChoice(category_lines[category])\n",
    "    category_tensor = torch.tensor([all_categories.index(category)], dtype=torch.long)\n",
    "    line_tensor = lineToTensor(line)\n",
    "\n",
    "    return category, line, category_tensor, line_tensor\n",
    "\n",
    "\n",
    "for i in range(10):\n",
    "    category, line, category_tensor, line_tensor = randomTrainingExample()\n",
    "    print('category =', category, '/ line =', line)"
   ]
  },
  {
   "cell_type": "markdown",
   "metadata": {
    "id": "e9HbfakuQhFS",
    "pycharm": {
     "name": "#%% md\n"
    }
   },
   "source": [
    "Training the Network\n",
    "--------------------\n",
    "\n",
    "Now all it takes to train this network is show it a bunch of examples,\n",
    "have it make guesses, and tell it if it's wrong.\n",
    "\n",
    "For the loss function ``nn.NLLLoss`` is appropriate, since the last\n",
    "layer of the RNN is ``nn.LogSoftmax``.\n",
    "\n",
    "\n"
   ]
  },
  {
   "cell_type": "code",
   "execution_count": 62,
   "metadata": {
    "id": "jp59YhMyQhFS",
    "pycharm": {
     "name": "#%%\n"
    }
   },
   "outputs": [],
   "source": [
    "criterion = nn.NLLLoss()"
   ]
  },
  {
   "cell_type": "markdown",
   "metadata": {
    "id": "S-cbG6A8QhFS",
    "pycharm": {
     "name": "#%% md\n"
    }
   },
   "source": [
    "Each loop of training will:\n",
    "\n",
    "-  Create input and target tensors\n",
    "-  Create a zeroed initial hidden state\n",
    "-  Read each letter in and\n",
    "\n",
    "   -  Keep hidden state for next letter\n",
    "\n",
    "-  Compare final output to target\n",
    "-  Back-propagate\n",
    "-  Return the output and loss\n",
    "\n",
    "\n"
   ]
  },
  {
   "cell_type": "code",
   "execution_count": 63,
   "metadata": {
    "id": "wiIbRxJ-QhFS",
    "pycharm": {
     "name": "#%%\n"
    }
   },
   "outputs": [],
   "source": [
    "learning_rate = 0.005  # If you set this too high, it might explode. If too low, it might not learn\n",
    "\n",
    "\n",
    "def train(category_tensor, line_tensor):\n",
    "    hidden = rnn.initHidden()\n",
    "\n",
    "    rnn.zero_grad()\n",
    "\n",
    "    for i in range(line_tensor.size()[0]):\n",
    "        output, hidden = rnn(line_tensor[i], hidden)\n",
    "\n",
    "    loss = criterion(output, category_tensor)\n",
    "    loss.backward()\n",
    "\n",
    "    # Add parameters' gradients to their values, multiplied by learning rate\n",
    "    for p in rnn.parameters():\n",
    "        p.data.add_(p.grad.data, alpha=-learning_rate)\n",
    "\n",
    "    return output, loss.item()"
   ]
  },
  {
   "cell_type": "markdown",
   "metadata": {
    "id": "v86cQuh2QhFS",
    "pycharm": {
     "name": "#%% md\n"
    }
   },
   "source": [
    "Now we just have to run that with a bunch of examples. Since the\n",
    "``train`` function returns both the output and loss we can print its\n",
    "guesses and also keep track of loss for plotting. Since there are 1000s\n",
    "of examples we print only every ``print_every`` examples, and take an\n",
    "average of the loss.\n",
    "\n",
    "\n"
   ]
  },
  {
   "cell_type": "code",
   "execution_count": 64,
   "metadata": {
    "id": "3uAJERTlQhFS",
    "colab": {
     "base_uri": "https://localhost:8080/"
    },
    "outputId": "3737e10b-9d0c-4490-a663-1777e8141571",
    "pycharm": {
     "name": "#%%\n"
    }
   },
   "outputs": [
    {
     "name": "stdout",
     "output_type": "stream",
     "text": [
      "5000 5% (0m 3s) 0.2460 קרולינה / girls ✓\n",
      "10000 10% (0m 6s) 0.4621 דלי / unisex ✓\n",
      "15000 15% (0m 10s) 0.1184 לילית / girls ✓\n",
      "20000 20% (0m 13s) 0.3892 מרווה / girls ✓\n",
      "25000 25% (0m 17s) 0.6715 דב / boys ✓\n",
      "30000 30% (0m 20s) 0.2728 לוסיה / girls ✓\n",
      "35000 35% (0m 23s) 1.3052 גלדיס / boys ✗ (girls)\n",
      "40000 40% (0m 26s) 0.3036 בינימין / boys ✓\n",
      "45000 45% (0m 30s) 0.5139 אלדד / boys ✓\n",
      "50000 50% (0m 33s) 3.0468 ירמיה / girls ✗ (boys)\n",
      "55000 55% (0m 36s) 1.3318 לוסיל / unisex ✗ (girls)\n",
      "60000 60% (0m 40s) 0.7672 אנג'ליקה / girls ✓\n",
      "65000 65% (0m 43s) 1.2611 בני / unisex ✗ (boys)\n",
      "70000 70% (0m 46s) 2.8794 גרייס / boys ✗ (unisex)\n",
      "75000 75% (0m 49s) 0.5227 צורית / girls ✓\n",
      "80000 80% (0m 53s) 0.0697 ישעיהו / boys ✓\n",
      "85000 85% (0m 56s) 0.1439 גיטה / girls ✓\n",
      "90000 90% (0m 59s) 0.5148 גליל / unisex ✓\n",
      "95000 95% (1m 3s) 1.1101 נתיב / boys ✗ (unisex)\n",
      "100000 100% (1m 6s) 1.1093 שאשא / boys ✗ (unisex)\n"
     ]
    }
   ],
   "source": [
    "import time\n",
    "import math\n",
    "\n",
    "n_iters = 100000\n",
    "print_every = 5000\n",
    "plot_every = 1000\n",
    "\n",
    "# Keep track of losses for plotting\n",
    "current_loss = 0\n",
    "all_losses = []\n",
    "\n",
    "\n",
    "def timeSince(since):\n",
    "    now = time.time()\n",
    "    s = now - since\n",
    "    m = math.floor(s / 60)\n",
    "    s -= m * 60\n",
    "    return '%dm %ds' % (m, s)\n",
    "\n",
    "\n",
    "start = time.time()\n",
    "\n",
    "for iter in range(1, n_iters + 1):\n",
    "    category, line, category_tensor, line_tensor = randomTrainingExample()\n",
    "    output, loss = train(category_tensor, line_tensor)\n",
    "    current_loss += loss\n",
    "\n",
    "    # Print iter number, loss, name and guess\n",
    "    if iter % print_every == 0:\n",
    "        guess, guess_i = categoryFromOutput(output)\n",
    "        correct = '✓' if guess == category else '✗ (%s)' % category\n",
    "        print(\n",
    "            '%d %d%% (%s) %.4f %s / %s %s' % (iter, iter / n_iters * 100, timeSince(start), loss, line, guess, correct))\n",
    "\n",
    "    # Add current loss avg to list of losses\n",
    "    if iter % plot_every == 0:\n",
    "        all_losses.append(current_loss / plot_every)\n",
    "        current_loss = 0"
   ]
  },
  {
   "cell_type": "markdown",
   "metadata": {
    "id": "KkyAIR_VQhFT",
    "pycharm": {
     "name": "#%% md\n"
    }
   },
   "source": [
    "Plotting the Results\n",
    "--------------------\n",
    "\n",
    "Plotting the historical loss from ``all_losses`` shows the network\n",
    "learning:\n",
    "\n",
    "\n"
   ]
  },
  {
   "cell_type": "code",
   "execution_count": 65,
   "metadata": {
    "id": "JKCizliAQhFT",
    "colab": {
     "base_uri": "https://localhost:8080/",
     "height": 283
    },
    "outputId": "67f7ed2b-87e6-4cd8-daf6-229a5a321188",
    "pycharm": {
     "name": "#%%\n"
    }
   },
   "outputs": [
    {
     "data": {
      "text/plain": "[<matplotlib.lines.Line2D at 0x7ff7488d3af0>]"
     },
     "execution_count": 65,
     "metadata": {},
     "output_type": "execute_result"
    },
    {
     "data": {
      "text/plain": "<Figure size 432x288 with 1 Axes>",
      "image/png": "[encoded data removed]"
     },
     "metadata": {
      "needs_background": "light"
     },
     "output_type": "display_data"
    }
   ],
   "source": [
    "import matplotlib.pyplot as plt\n",
    "import matplotlib.ticker as ticker\n",
    "\n",
    "plt.figure()\n",
    "plt.plot(all_losses)"
   ]
  },
  {
   "cell_type": "markdown",
   "metadata": {
    "id": "y_OqT819QhFT",
    "pycharm": {
     "name": "#%% md\n"
    }
   },
   "source": [
    "Evaluating the Results\n",
    "======================\n",
    "\n",
    "To see how well the network performs on different categories, we will\n",
    "create a confusion matrix, indicating for every actual language (rows)\n",
    "which language the network guesses (columns). To calculate the confusion\n",
    "matrix a bunch of samples are run through the network with\n",
    "``evaluate()``, which is the same as ``train()`` minus the backprop.\n",
    "\n",
    "\n"
   ]
  },
  {
   "cell_type": "code",
   "execution_count": 66,
   "metadata": {
    "id": "WR1Gga8hQhFT",
    "colab": {
     "base_uri": "https://localhost:8080/",
     "height": 320
    },
    "outputId": "e7faa5c0-d7fc-4f88-e35a-4e9b869ee6be",
    "pycharm": {
     "name": "#%%\n"
    }
   },
   "outputs": [
    {
     "name": "stderr",
     "output_type": "stream",
     "text": [
      "/tmp/ipykernel_454935/830367755.py:35: UserWarning: FixedFormatter should only be used together with FixedLocator\n",
      "  ax.set_xticklabels([''] + all_categories, rotation=90)\n",
      "/tmp/ipykernel_454935/830367755.py:36: UserWarning: FixedFormatter should only be used together with FixedLocator\n",
      "  ax.set_yticklabels([''] + all_categories)\n"
     ]
    },
    {
     "data": {
      "text/plain": "<Figure size 432x288 with 2 Axes>",
      "image/png": "[encoded data removed]"
     },
     "metadata": {
      "needs_background": "light"
     },
     "output_type": "display_data"
    }
   ],
   "source": [
    "# Keep track of correct guesses in a confusion matrix\n",
    "confusion = torch.zeros(n_categories, n_categories)\n",
    "n_confusion = 10000\n",
    "\n",
    "\n",
    "# Just return an output given a line\n",
    "def evaluate(line_tensor):\n",
    "    hidden = rnn.initHidden()\n",
    "\n",
    "    for i in range(line_tensor.size()[0]):\n",
    "        output, hidden = rnn(line_tensor[i], hidden)\n",
    "\n",
    "    return output\n",
    "\n",
    "\n",
    "# Go through a bunch of examples and record which are correctly guessed\n",
    "for i in range(n_confusion):\n",
    "    category, line, category_tensor, line_tensor = randomTrainingExample()\n",
    "    output = evaluate(line_tensor)\n",
    "    guess, guess_i = categoryFromOutput(output)\n",
    "    category_i = all_categories.index(category)\n",
    "    confusion[category_i][guess_i] += 1\n",
    "\n",
    "# Normalize by dividing every row by its sum\n",
    "for i in range(n_categories):\n",
    "    confusion[i] = confusion[i] / confusion[i].sum()\n",
    "\n",
    "# Set up plot\n",
    "fig = plt.figure()\n",
    "ax = fig.add_subplot(111)\n",
    "cax = ax.matshow(confusion.numpy())\n",
    "fig.colorbar(cax)\n",
    "\n",
    "# Set up axes\n",
    "ax.set_xticklabels([''] + all_categories, rotation=90)\n",
    "ax.set_yticklabels([''] + all_categories)\n",
    "\n",
    "# Force label at every tick\n",
    "ax.xaxis.set_major_locator(ticker.MultipleLocator(1))\n",
    "ax.yaxis.set_major_locator(ticker.MultipleLocator(1))\n",
    "\n",
    "# sphinx_gallery_thumbnail_number = 2\n",
    "plt.show()"
   ]
  },
  {
   "cell_type": "markdown",
   "metadata": {
    "id": "5Q1aKKEKQhFT",
    "pycharm": {
     "name": "#%% md\n"
    }
   },
   "source": [
    "You can pick out bright spots off the main axis that show which\n",
    "languages it guesses incorrectly, e.g. Chinese for Korean, and Spanish\n",
    "for Italian. It seems to do very well with Greek, and very poorly with\n",
    "English (perhaps because of overlap with other languages).\n",
    "\n",
    "\n"
   ]
  },
  {
   "cell_type": "code",
   "execution_count": 67,
   "outputs": [
    {
     "data": {
      "text/plain": "tensor([[0.5898, 0.2137, 0.1965],\n        [0.2648, 0.6680, 0.0672],\n        [0.1473, 0.0734, 0.7793]])"
     },
     "execution_count": 67,
     "metadata": {},
     "output_type": "execute_result"
    }
   ],
   "source": [
    "confusion"
   ],
   "metadata": {
    "collapsed": false,
    "pycharm": {
     "name": "#%%\n"
    }
   }
  },
  {
   "cell_type": "markdown",
   "metadata": {
    "id": "19yE9VrRQhFT",
    "pycharm": {
     "name": "#%% md\n"
    }
   },
   "source": [
    "Running on User Input\n",
    "---------------------\n",
    "\n",
    "\n"
   ]
  },
  {
   "cell_type": "code",
   "execution_count": 68,
   "metadata": {
    "id": "poqdhYgaQhFT",
    "colab": {
     "base_uri": "https://localhost:8080/"
    },
    "outputId": "beaf9995-d595-4604-c70f-7597becb638d",
    "pycharm": {
     "name": "#%%\n"
    }
   },
   "outputs": [
    {
     "name": "stdout",
     "output_type": "stream",
     "text": [
      "\n",
      "> בועז\n",
      "(-0.46) boys\n",
      "(-1.32) unisex\n",
      "(-2.30) girls\n",
      "\n",
      "> אודי\n",
      "(-0.57) unisex\n",
      "(-1.19) boys\n",
      "(-2.03) girls\n",
      "\n",
      "> יפית\n",
      "(-0.16) girls\n",
      "(-2.05) unisex\n",
      "(-3.98) boys\n",
      "\n",
      "> אירה\n",
      "(-0.49) girls\n",
      "(-1.00) unisex\n",
      "(-3.86) boys\n"
     ]
    }
   ],
   "source": [
    "def predict(input_line, n_predictions=3):\n",
    "    print('\\n> %s' % input_line)\n",
    "    with torch.no_grad():\n",
    "        output = evaluate(lineToTensor(input_line))\n",
    "\n",
    "        # Get top N categories\n",
    "        topv, topi = output.topk(n_predictions, 1, True)\n",
    "        predictions = []\n",
    "\n",
    "        for i in range(n_predictions):\n",
    "            value = topv[0][i].item()\n",
    "            category_index = topi[0][i].item()\n",
    "            print('(%.2f) %s' % (value, all_categories[category_index]))\n",
    "            predictions.append([value, all_categories[category_index]])\n",
    "\n",
    "\n",
    "predict('בועז')\n",
    "predict('אודי')\n",
    "predict('יפית')\n",
    "predict('אירה')"
   ]
  },
  {
   "cell_type": "markdown",
   "metadata": {
    "id": "hCmpZArdQhFT",
    "pycharm": {
     "name": "#%% md\n"
    }
   },
   "source": [
    "The final versions of the scripts `in the Practical PyTorch\n",
    "repo <https://github.com/spro/practical-pytorch/tree/master/char-rnn-classification>`__\n",
    "split the above code into a few files:\n",
    "\n",
    "-  ``data.py`` (loads files)\n",
    "-  ``model.py`` (defines the RNN)\n",
    "-  ``train.py`` (runs training)\n",
    "-  ``predict.py`` (runs ``predict()`` with command line arguments)\n",
    "-  ``server.py`` (serve prediction as a JSON API with bottle.py)\n",
    "\n",
    "Run ``train.py`` to train and save the network.\n",
    "\n",
    "Run ``predict.py`` with a name to view predictions:\n",
    "\n",
    "::\n",
    "\n",
    "    $ python predict.py Hazaki\n",
    "    (-0.42) Japanese\n",
    "    (-1.39) Polish\n",
    "    (-3.51) Czech\n",
    "\n",
    "Run ``server.py`` and visit http://localhost:5533/Yourname to get JSON\n",
    "output of predictions.\n",
    "\n",
    "\n"
   ]
  },
  {
   "cell_type": "markdown",
   "metadata": {
    "id": "EfR76xhUQhFT",
    "pycharm": {
     "name": "#%% md\n"
    }
   },
   "source": [
    "Exercises\n",
    "=========\n",
    "\n",
    "-  Try with a different dataset of line -> category, for example:\n",
    "\n",
    "   -  Any word -> language\n",
    "   -  First name -> gender\n",
    "   -  Character name -> writer\n",
    "   -  Page title -> blog or subreddit\n",
    "\n",
    "-  Get better results with a bigger and/or better shaped network\n",
    "\n",
    "   -  Add more linear layers\n",
    "   -  Try the ``nn.LSTM`` and ``nn.GRU`` layers\n",
    "   -  Combine multiple of these RNNs as a higher level network\n",
    "\n",
    "\n"
   ]
  },
  {
   "cell_type": "code",
   "source": [],
   "metadata": {
    "id": "pDJ5TOfgXXKg",
    "pycharm": {
     "name": "#%%\n"
    }
   },
   "execution_count": null,
   "outputs": []
  }
 ],
 "metadata": {
  "kernelspec": {
   "display_name": "Python 3",
   "language": "python",
   "name": "python3"
  },
  "language_info": {
   "codemirror_mode": {
    "name": "ipython",
    "version": 3
   },
   "file_extension": ".py",
   "mimetype": "text/x-python",
   "name": "python",
   "nbconvert_exporter": "python",
   "pygments_lexer": "ipython3",
   "version": "3.7.13"
  },
  "colab": {
   "name": "char_rnn_classification_tutorial.ipynb.txt",
   "provenance": []
  }
 },
 "nbformat": 4,
 "nbformat_minor": 0
}