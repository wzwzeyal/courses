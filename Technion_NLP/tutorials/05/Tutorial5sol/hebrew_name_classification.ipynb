{
 "cells": [
  {
   "cell_type": "code",
   "execution_count": 1,
   "outputs": [],
   "source": [
    "## Class Assignment - Classifying first name -> Gender"
   ],
   "metadata": {
    "collapsed": false,
    "pycharm": {
     "name": "#%%\n"
    }
   }
  },
  {
   "cell_type": "code",
   "execution_count": 2,
   "outputs": [],
   "source": [
    "# In order to use the solution as shown in the class (for classifying last names to nationality)\n",
    "# I have scraped 3 hebrew sites for names:\n",
    "# 1. https://babynames.baby-land.co.il\n",
    "# 2. https://www.israelibaby.co.il\n",
    "# 3. https://www.baby-names.co.il\n",
    "\n",
    "# After generating two lists of boys and girls name, I have created 3 files, one for each gender\n",
    "# boy, girl and unisex\n",
    "# in the same structure as was used in last name classification\n",
    "# Also, the letters are now hebrew and not latin\n",
    "\n",
    "# the rest of the notebook stayed the same\n",
    "\n",
    "# The revised cells are marked with ** Eyal **"
   ],
   "metadata": {
    "collapsed": false,
    "pycharm": {
     "name": "#%%\n"
    }
   }
  },
  {
   "cell_type": "code",
   "execution_count": 2,
   "outputs": [],
   "source": [],
   "metadata": {
    "collapsed": false,
    "pycharm": {
     "name": "#%%\n"
    }
   }
  },
  {
   "cell_type": "code",
   "execution_count": 2,
   "outputs": [],
   "source": [],
   "metadata": {
    "collapsed": false,
    "pycharm": {
     "name": "#%%\n"
    }
   }
  },
  {
   "cell_type": "markdown",
   "metadata": {
    "id": "rykvZaURQhFN",
    "pycharm": {
     "name": "#%% md\n"
    }
   },
   "source": [
    "\n",
    "NLP From Scratch: Classifying Names with a Character-Level RNN\n",
    "**************************************************************\n",
    "**Author**: `Sean Robertson <https://github.com/spro/practical-pytorch>`_\n",
    "\n",
    "We will be building and training a basic character-level RNN to classify\n",
    "words. This tutorial, along with the following two, show how to do\n",
    "preprocess data for NLP modeling \"from scratch\", in particular not using\n",
    "many of the convenience functions of `torchtext`, so you can see how\n",
    "preprocessing for NLP modeling works at a low level.\n",
    "\n",
    "A character-level RNN reads words as a series of characters -\n",
    "outputting a prediction and \"hidden state\" at each step, feeding its\n",
    "previous hidden state into each next step. We take the final prediction\n",
    "to be the output, i.e. which class the word belongs to.\n",
    "\n",
    "Specifically, we'll train on a few thousand surnames from 18 languages\n",
    "of origin, and predict which language a name is from based on the\n",
    "spelling:\n",
    "\n",
    "::\n",
    "\n",
    "    $ python predict.py Hinton\n",
    "    (-0.47) Scottish\n",
    "    (-1.52) English\n",
    "    (-3.57) Irish\n",
    "\n",
    "    $ python predict.py Schmidhuber\n",
    "    (-0.19) German\n",
    "    (-2.48) Czech\n",
    "    (-2.68) Dutch\n",
    "\n",
    "\n",
    "**Recommended Reading:**\n",
    "\n",
    "I assume you have at least installed PyTorch, know Python, and\n",
    "understand Tensors:\n",
    "\n",
    "-  https://pytorch.org/ For installation instructions\n",
    "-  :doc:`/beginner/deep_learning_60min_blitz` to get started with PyTorch in general\n",
    "-  :doc:`/beginner/pytorch_with_examples` for a wide and deep overview\n",
    "-  :doc:`/beginner/former_torchies_tutorial` if you are former Lua Torch user\n",
    "\n",
    "It would also be useful to know about RNNs and how they work:\n",
    "\n",
    "-  `The Unreasonable Effectiveness of Recurrent Neural\n",
    "   Networks <https://karpathy.github.io/2015/05/21/rnn-effectiveness/>`__\n",
    "   shows a bunch of real life examples\n",
    "-  `Understanding LSTM\n",
    "   Networks <https://colah.github.io/posts/2015-08-Understanding-LSTMs/>`__\n",
    "   is about LSTMs specifically but also informative about RNNs in\n",
    "   general\n",
    "\n",
    "Preparing the Data\n",
    "==================\n",
    "\n",
    ".. Note::\n",
    "   Download the data from\n",
    "   `here <https://download.pytorch.org/tutorial/data.zip>`_\n",
    "   and extract it to the current directory.\n",
    "\n",
    "Included in the ``data/names`` directory are 18 text files named as\n",
    "\"[Language].txt\". Each file contains a bunch of names, one name per\n",
    "line, mostly romanized (but we still need to convert from Unicode to\n",
    "ASCII).\n",
    "\n",
    "We'll end up with a dictionary of lists of names per language,\n",
    "``{language: [names ...]}``. The generic variables \"category\" and \"line\"\n",
    "(for language and name in our case) are used for later extensibility.\n"
   ]
  },
  {
   "cell_type": "code",
   "execution_count": 3,
   "outputs": [],
   "source": [
    "import tqdm"
   ],
   "metadata": {
    "collapsed": false,
    "pycharm": {
     "name": "#%%\n"
    }
   }
  },
  {
   "cell_type": "code",
   "execution_count": 4,
   "outputs": [],
   "source": [
    "# ** Eyal **\n",
    "\n",
    "hebrew_letters = \"אבגדהוזחטיכלמנסעפצקרשת\"\n",
    "hebrew_suffix_letters = \"ךםןףץ\"\n",
    "\n",
    "all_letters = hebrew_letters + hebrew_suffix_letters + \" .,;'\"\n",
    "\n",
    "n_letters = len(all_letters)"
   ],
   "metadata": {
    "collapsed": false,
    "pycharm": {
     "name": "#%%\n"
    }
   }
  },
  {
   "cell_type": "code",
   "execution_count": 5,
   "outputs": [],
   "source": [
    "# ** Eyal **\n",
    "\n",
    "#  Imports\n",
    "import requests\n",
    "from bs4 import BeautifulSoup as bs"
   ],
   "metadata": {
    "collapsed": false,
    "pycharm": {
     "name": "#%%\n"
    }
   }
  },
  {
   "cell_type": "code",
   "execution_count": 6,
   "outputs": [
    {
     "name": "stdout",
     "output_type": "stream",
     "text": [
      "Scraping babynames ...\n",
      "Boys ...\n",
      "Girls ...\n"
     ]
    },
    {
     "name": "stderr",
     "output_type": "stream",
     "text": [
      "100%|██████████| 183/183 [00:00<00:00, 349525.33it/s]\n",
      "100%|██████████| 299/299 [00:00<00:00, 407836.39it/s]\n"
     ]
    }
   ],
   "source": [
    "# ** Eyal **\n",
    "\n",
    "#  Webscarping https://babynames.baby-land.co.il\n",
    "\n",
    "def create_from_babynames():\n",
    "\n",
    "   print(\"Scraping babynames ...\")\n",
    "   base_url = \"https://babynames.baby-land.co.il/namelist/?_sft_name_gender={}\"\n",
    "\n",
    "   boys_names = []\n",
    "   girls_names = []\n",
    "   unisex_names = []\n",
    "\n",
    "   print(\"Boys ...\")\n",
    "   req = requests.get(base_url.format(\"boy\"))\n",
    "   soup = bs(req.text, 'html.parser')\n",
    "   for t in soup.select('a[class=boys]'):\n",
    "       boys_names.append(t.text)\n",
    "\n",
    "   print(\"Girls ...\")\n",
    "   req = requests.get(base_url.format(\"girl\"))\n",
    "   soup = bs(req.text, 'html.parser')\n",
    "   for t in tqdm.tqdm(soup.select('a[class=girl]')):\n",
    "       girls_names.append(t.text)\n",
    "\n",
    "   req = requests.get(base_url.format(\"unisex\"))\n",
    "   soup = bs(req.text, 'html.parser')\n",
    "   for t in tqdm.tqdm(soup.select('a[class=unisex]')):\n",
    "       unisex_names.append(t.text)\n",
    "\n",
    "   return boys_names + unisex_names, girls_names + unisex_names\n",
    "\n",
    "boys_names1, girls_names1 = create_from_babynames()\n",
    "\n",
    "\n"
   ],
   "metadata": {
    "collapsed": false,
    "pycharm": {
     "name": "#%%\n"
    }
   }
  },
  {
   "cell_type": "code",
   "execution_count": 8,
   "outputs": [
    {
     "name": "stdout",
     "output_type": "stream",
     "text": [
      "Scraping isralibaby ...\n"
     ]
    },
    {
     "name": "stderr",
     "output_type": "stream",
     "text": [
      "100%|██████████| 22/22 [00:29<00:00,  1.36s/it]\n"
     ]
    }
   ],
   "source": [
    "# ** Eyal **\n",
    "\n",
    "import tqdm\n",
    "\n",
    "#  Webscarping https://www.israelibaby.co.il\n",
    "\n",
    "def create_from_israelibaby():\n",
    "    \"\"\"\n",
    "\n",
    "    :return:\n",
    "    \"\"\"\n",
    "    print(\"Scraping isralibaby ...\")\n",
    "    base_url = \"https://www.israelibaby.co.il/name-{}-{}\"\n",
    "\n",
    "    boys_names = []\n",
    "    girls_names = []\n",
    "\n",
    "    for letter in tqdm.tqdm(range(len(hebrew_letters))):\n",
    "        # boys\n",
    "        url = base_url.format(1, letter)\n",
    "        req = requests.get(url)\n",
    "        soup = bs(req.text, 'html.parser')\n",
    "        for t in soup.select('div[class=name]'):\n",
    "            boys_names.append(t.text)\n",
    "\n",
    "        # girls\n",
    "        url = base_url.format(2, letter)\n",
    "        req = requests.get(url)\n",
    "        soup = bs(req.text, 'html.parser')\n",
    "        for t in soup.select('div[class=name]'):\n",
    "            girls_names.append(t.text)\n",
    "\n",
    "    return boys_names, girls_names\n",
    "\n",
    "boys_names2, girls_names2 = create_from_israelibaby()"
   ],
   "metadata": {
    "collapsed": false,
    "pycharm": {
     "name": "#%%\n"
    }
   }
  },
  {
   "cell_type": "code",
   "execution_count": 9,
   "outputs": [
    {
     "name": "stdout",
     "output_type": "stream",
     "text": [
      "Scraping baby_names ...\n"
     ]
    },
    {
     "name": "stderr",
     "output_type": "stream",
     "text": [
      "100%|██████████| 22/22 [01:13<00:00,  3.35s/it]\n"
     ]
    }
   ],
   "source": [
    "# ** Eyal **\n",
    "\n",
    "#  Webscarping https://www.baby-names.co.il\n",
    "\n",
    "def create_from_baby_names():\n",
    "    \"\"\"\n",
    "    Scrapes the 'https://www.baby-names.co.il' site,\n",
    "    Goes over the boys site, and for each letter\n",
    "    1. Check for pages\n",
    "    2. Get the names from the page(s)\n",
    "    Do the same for the girls\n",
    "\n",
    "    :return: the boys list and the girl list\n",
    "    \"\"\"\n",
    "    print(\"Scraping baby_names ...\")\n",
    "\n",
    "    boys_base_url = 'https://www.baby-names.co.il/category/%D7%9B%D7%9C-%D7%94%D7%A9%D7%9E%D7%95%D7%AA/%D7%A9%D7%9E%D7%95%D7%AA-%D7%9C%D7%91%D7%A0%D7%99%D7%9D/?ap={}'\n",
    "\n",
    "    boys_base_page_url = \"https://www.baby-names.co.il/category/%D7%9B%D7%9C-%D7%94%D7%A9%D7%9E%D7%95%D7%AA/page/{}/?ap={}\"\n",
    "\n",
    "    girls_base_url = \"https://www.baby-names.co.il/category/%D7%9B%D7%9C-%D7%94%D7%A9%D7%9E%D7%95%D7%AA/%D7%A9%D7%9E%D7%95%D7%AA-%D7%9C%D7%91%D7%A0%D7%95%D7%AA/?ap={}\"\n",
    "\n",
    "    girls_base_page_url = \"https://www.baby-names.co.il/category/%D7%9B%D7%9C-%D7%94%D7%A9%D7%9E%D7%95%D7%AA/%D7%A9%D7%9E%D7%95%D7%AA-%D7%9C%D7%91%D7%A0%D7%95%D7%AA/page/{}/?ap={}\"\n",
    "\n",
    "    boy_names = []\n",
    "    girl_names = []\n",
    "\n",
    "    for letter in tqdm.tqdm(hebrew_letters):\n",
    "        boy_names = get_names(boys_base_page_url, boys_base_url, letter)\n",
    "        girl_names = get_names(girls_base_page_url, girls_base_url, letter)\n",
    "\n",
    "    return boy_names, girl_names\n",
    "\n",
    "\n",
    "def get_names(base_page_url, base_url, letter):\n",
    "\n",
    "    \"\"\"\n",
    "    Get the names from the page\n",
    "    :param base_page_url: the page url with placeholder for letter and page\n",
    "    :param base_url: the page url with placeholder for letter\n",
    "    :param letter: current letter\n",
    "    :return: list of names\n",
    "    \"\"\"\n",
    "    names = []\n",
    "    name_select_pattern = 'a[title*=פירוש]'\n",
    "\n",
    "    url = base_url.format(letter)\n",
    "    req = requests.get(url)\n",
    "    soup = bs(req.text, 'html.parser')\n",
    "    pages = soup.select('span[class=pagination-meta]')\n",
    "    if len(pages) > 0:\n",
    "        # multiple pages\n",
    "        handle_multiple_pages(base_page_url, letter, names, pages, name_select_pattern)\n",
    "    else:\n",
    "        # single page\n",
    "        for t in soup.select(name_select_pattern):\n",
    "            names.append(t.text)\n",
    "    return names\n",
    "\n",
    "\n",
    "def handle_multiple_pages(base_page_url, letter, names, pages, pattern):\n",
    "    nof_pages = int(pages[0].text.split(\" \")[-1]) + 1\n",
    "    for page in range(nof_pages):\n",
    "        url_with_page = base_page_url.format(page, letter)\n",
    "        req = requests.get(url_with_page)\n",
    "        soup = bs(req.text, 'html.parser')\n",
    "        for t in soup.select(pattern):\n",
    "            names.append(t.text)\n",
    "\n",
    "\n",
    "boys_names3, girls_names3 = create_from_baby_names()"
   ],
   "metadata": {
    "collapsed": false,
    "pycharm": {
     "name": "#%%\n"
    }
   }
  },
  {
   "cell_type": "code",
   "execution_count": 10,
   "outputs": [],
   "source": [
    "# ** Eyal **\n",
    "\n",
    "# combine the results\n",
    "\n",
    "boys_names_total = list(set(boys_names1 + boys_names2 + boys_names3))\n",
    "girls_names_total = list(set(girls_names1 + girls_names2 + girls_names3))\n"
   ],
   "metadata": {
    "collapsed": false,
    "pycharm": {
     "name": "#%%\n"
    }
   }
  },
  {
   "cell_type": "code",
   "execution_count": 11,
   "outputs": [
    {
     "data": {
      "text/plain": "(780, 964)"
     },
     "execution_count": 11,
     "metadata": {},
     "output_type": "execute_result"
    }
   ],
   "source": [
    "len(boys_names_total), len(girls_names_total)"
   ],
   "metadata": {
    "collapsed": false,
    "pycharm": {
     "name": "#%%\n"
    }
   }
  },
  {
   "cell_type": "code",
   "execution_count": 12,
   "outputs": [],
   "source": [
    "# ** Eyal **\n",
    "\n",
    "# create the files\n",
    "import os\n",
    "\n",
    "def create_files(output_path, boys_names, girls_names):\n",
    "    \"\"\"\n",
    "    Create the boys and girls text files\n",
    "    If a name appears both in the boys and girls list, it will be written\n",
    "    to a unisex text file\n",
    "    :param output_path: the output path\n",
    "    :param boys_names: list with all the boys names\n",
    "    :param girls_names: list with all the boys names\n",
    "    :return: None\n",
    "    \"\"\"\n",
    "\n",
    "    if not os.path.isdir(output_path):\n",
    "        os.mkdir(output_path)\n",
    "\n",
    "    unisex_names = []\n",
    "\n",
    "    with open(f'./{output_path}/boys.txt', 'w') as fp:\n",
    "        for item in boys_names:\n",
    "            if item in girls_names:\n",
    "                unisex_names.append(item)\n",
    "                girls_names.remove(item)\n",
    "            else:\n",
    "                fp.write(\"%s\\n\" % item)\n",
    "\n",
    "    with open(f'./{output_path}/girls.txt', 'w') as fp:\n",
    "        for item in girls_names:\n",
    "            fp.write(\"%s\\n\" % item)\n",
    "\n",
    "    with open(f'./{output_path}/unisex.txt', 'w') as fp:\n",
    "        for item in unisex_names:\n",
    "            fp.write(\"%s\\n\" % item)\n",
    "\n",
    "data_path = \"./hebrew_names\"\n",
    "create_files(data_path, boys_names_total, girls_names_total)"
   ],
   "metadata": {
    "collapsed": false,
    "pycharm": {
     "name": "#%%\n"
    }
   }
  },
  {
   "cell_type": "code",
   "execution_count": 12,
   "outputs": [],
   "source": [],
   "metadata": {
    "collapsed": false,
    "pycharm": {
     "name": "#%%\n"
    }
   }
  },
  {
   "cell_type": "code",
   "execution_count": 13,
   "outputs": [
    {
     "name": "stdout",
     "output_type": "stream",
     "text": [
      "././hebrew_names/boys.txt\n",
      "././hebrew_names/unisex.txt\n",
      "././hebrew_names/girls.txt\n",
      "3\n"
     ]
    }
   ],
   "source": [
    "from __future__ import unicode_literals, print_function, division\n",
    "from io import open\n",
    "import glob\n",
    "import os\n",
    "import tqdm\n",
    "\n",
    "\n",
    "def findFiles(path): return glob.glob(path)\n",
    "\n",
    "# print(findFiles('names/*.txt'))\n",
    "\n",
    "import unicodedata\n",
    "import string\n",
    "\n",
    "# Turn a Unicode string to plain ASCII, thanks to https://stackoverflow.com/a/518232/2809427\n",
    "def unicodeToAscii(s):\n",
    "    return ''.join(\n",
    "        c for c in unicodedata.normalize('NFD', s)\n",
    "        if unicodedata.category(c) != 'Mn'\n",
    "        and c in all_letters\n",
    "    )\n",
    "\n",
    "\n",
    "# Build the category_lines dictionary, a list of names per language\n",
    "category_lines = {}\n",
    "all_categories = []\n",
    "\n",
    "# Read a file and split into lines\n",
    "def readLines(filename):\n",
    "    lines = open(filename, encoding='utf-8').read().strip().split('\\n')\n",
    "    return [unicodeToAscii(line) for line in lines]\n",
    "\n",
    "for filename in findFiles(f'./{data_path}/*.txt'):\n",
    "    print(filename)\n",
    "    category = os.path.splitext(os.path.basename(filename))[0]\n",
    "    all_categories.append(category)\n",
    "    lines = readLines(filename)\n",
    "    category_lines[category] = lines\n",
    "\n",
    "n_categories = len(all_categories)\n",
    "print(n_categories)"
   ],
   "metadata": {
    "collapsed": false,
    "pycharm": {
     "name": "#%%\n"
    }
   }
  },
  {
   "cell_type": "markdown",
   "source": [
    "Now we have ``category_lines``, a dictionary mapping each category\n",
    "(language) to a list of lines (names). We also kept track of\n",
    "``all_categories`` (just a list of languages) and ``n_categories`` for\n",
    "later reference.\n",
    "\n",
    "\n"
   ],
   "metadata": {
    "collapsed": false,
    "pycharm": {
     "name": "#%% md\n"
    }
   }
  },
  {
   "cell_type": "code",
   "execution_count": 14,
   "outputs": [
    {
     "name": "stdout",
     "output_type": "stream",
     "text": [
      "['boys', 'unisex', 'girls']\n"
     ]
    }
   ],
   "source": [
    "print(all_categories)"
   ],
   "metadata": {
    "collapsed": false,
    "pycharm": {
     "name": "#%%\n"
    }
   }
  },
  {
   "cell_type": "code",
   "execution_count": 15,
   "outputs": [
    {
     "name": "stdout",
     "output_type": "stream",
     "text": [
      "['גלעד', 'אביגדור', 'אלישב', 'מרדכי', 'ינון']\n"
     ]
    }
   ],
   "source": [
    "# ** Eyal **\n",
    "\n",
    "print(category_lines['boys'][:5])"
   ],
   "metadata": {
    "collapsed": false,
    "pycharm": {
     "name": "#%%\n"
    }
   }
  },
  {
   "cell_type": "markdown",
   "source": [
    "Turning Names into Tensors\n",
    "--------------------------\n",
    "\n",
    "Now that we have all the names organized, we need to turn them into\n",
    "Tensors to make any use of them.\n",
    "\n",
    "To represent a single letter, we use a \"one-hot vector\" of size\n",
    "``<1 x n_letters>``. A one-hot vector is filled with 0s except for a 1\n",
    "at index of the current letter, e.g. ``\"b\" = <0 1 0 0 0 ...>``.\n",
    "\n",
    "To make a word we join a bunch of those into a 2D matrix\n",
    "``<line_length x 1 x n_letters>``.\n",
    "\n",
    "That extra 1 dimension is because PyTorch assumes everything is in\n",
    "batches - we're just using a batch size of 1 here.\n",
    "\n",
    "\n"
   ],
   "metadata": {
    "collapsed": false,
    "pycharm": {
     "name": "#%% md\n"
    }
   }
  },
  {
   "cell_type": "code",
   "execution_count": 16,
   "outputs": [
    {
     "name": "stdout",
     "output_type": "stream",
     "text": [
      "tensor([[0., 0., 0., 0., 0., 0., 0., 0., 0., 0., 0., 0., 0., 0., 0., 0., 0., 0.,\n",
      "         0., 0., 0., 0., 0., 1., 0., 0., 0., 0., 0., 0., 0., 0.]])\n",
      "torch.Size([4, 1, 32])\n"
     ]
    }
   ],
   "source": [
    "import torch\n",
    "\n",
    "\n",
    "# Find letter index from all_letters, e.g. \"a\" = 0\n",
    "def letterToIndex(letter):\n",
    "    return all_letters.find(letter)\n",
    "\n",
    "\n",
    "# Just for demonstration, turn a letter into a <1 x n_letters> Tensor\n",
    "def letterToTensor(letter):\n",
    "    tensor = torch.zeros(1, n_letters)\n",
    "    tensor[0][letterToIndex(letter)] = 1\n",
    "    return tensor\n",
    "\n",
    "\n",
    "# Turn a line into a <line_length x 1 x n_letters>,\n",
    "# or an array of one-hot letter vectors\n",
    "def lineToTensor(line):\n",
    "    tensor = torch.zeros(len(line), 1, n_letters)\n",
    "    for i, letter in enumerate(line):\n",
    "        tensor[i][0][letterToIndex(letter)] = 1\n",
    "    return tensor\n",
    "\n",
    "\n",
    "print(letterToTensor('ם'))\n",
    "\n",
    "print(lineToTensor('שלום').size())"
   ],
   "metadata": {
    "collapsed": false,
    "pycharm": {
     "name": "#%%\n"
    }
   }
  },
  {
   "cell_type": "markdown",
   "source": [
    "Creating the Network\n",
    "====================\n",
    "\n",
    "Before autograd, creating a recurrent neural network in Torch involved\n",
    "cloning the parameters of a layer over several timesteps. The layers\n",
    "held hidden state and gradients which are now entirely handled by the\n",
    "graph itself. This means you can implement a RNN in a very \"pure\" way,\n",
    "as regular feed-forward layers.\n",
    "\n",
    "This RNN module (mostly copied from `the PyTorch for Torch users\n",
    "tutorial <https://pytorch.org/tutorials/beginner/former_torchies/\n",
    "nn_tutorial.html#example-2-recurrent-net>`__)\n",
    "is just 2 linear layers which operate on an input and hidden state, with\n",
    "a LogSoftmax layer after the output.\n",
    "\n",
    ".. figure:: https://i.imgur.com/Z2xbySO.png\n",
    "   :alt:\n",
    "\n",
    "\n",
    "\n"
   ],
   "metadata": {
    "collapsed": false,
    "pycharm": {
     "name": "#%% md\n"
    }
   }
  },
  {
   "cell_type": "code",
   "execution_count": 17,
   "outputs": [],
   "source": [
    "import torch.nn as nn\n",
    "\n",
    "\n",
    "class RNN(nn.Module):\n",
    "    def __init__(self, input_size, hidden_size, output_size):\n",
    "        super(RNN, self).__init__()\n",
    "        self.hidden_size = hidden_size\n",
    "        self.i2h = nn.Linear(input_size + hidden_size, hidden_size)\n",
    "        self.i2o = nn.Linear(input_size + hidden_size, output_size)\n",
    "        self.softmax = nn.LogSoftmax(dim=1)\n",
    "\n",
    "    def forward(self, input, hidden):\n",
    "        input_combined = torch.cat((input, hidden), 1)\n",
    "        hidden = self.i2h(input_combined)\n",
    "        output = self.i2o(input_combined)\n",
    "        output = self.softmax(output)\n",
    "        return output, hidden\n",
    "\n",
    "    def initHidden(self):\n",
    "        return torch.zeros(1, self.hidden_size)\n",
    "\n",
    "\n",
    "n_hidden = 256\n",
    "rnn = RNN(n_letters, n_hidden, n_categories)"
   ],
   "metadata": {
    "collapsed": false,
    "pycharm": {
     "name": "#%%\n"
    }
   }
  },
  {
   "cell_type": "markdown",
   "source": [
    "To run a step of this network we need to pass an input (in our case, the\n",
    "Tensor for the current letter) and a previous hidden state (which we\n",
    "initialize as zeros at first). We'll get back the output (probability of\n",
    "each language) and a next hidden state (which we keep for the next\n",
    "step).\n",
    "\n",
    "\n"
   ],
   "metadata": {
    "collapsed": false,
    "pycharm": {
     "name": "#%% md\n"
    }
   }
  },
  {
   "cell_type": "code",
   "execution_count": null,
   "outputs": [],
   "source": [],
   "metadata": {
    "collapsed": false,
    "pycharm": {
     "name": "#%%\n"
    }
   }
  },
  {
   "cell_type": "code",
   "execution_count": 86,
   "outputs": [],
   "source": [
    "class LSTM(nn.Module):\n",
    "    def __init__(self, input_size, hidden_size, output_size):\n",
    "        super(LSTM, self).__init__()\n",
    "        self.hidden_size = hidden_size\n",
    "        self.f = nn.Linear(input_size + hidden_size, hidden_size)\n",
    "        self.i = nn.Linear(input_size + hidden_size, hidden_size)\n",
    "        self.o = nn.Linear(input_size + hidden_size, hidden_size)\n",
    "        self.c_tilda = nn.Linear(input_size + hidden_size, hidden_size)\n",
    "        self.tanh = nn.Tanh()\n",
    "        self.sigmoid = nn.Sigmoid()\n",
    "        self.Output = nn.Linear(hidden_size, output_size)\n",
    "\n",
    "    def forward(self, inp, hid, c):\n",
    "        print (inp.shape)\n",
    "        print(hid.shape)\n",
    "        input_combined = torch.cat((inp, hid), 1)\n",
    "        f = self.sigmoid(self.f(input_combined))\n",
    "        ii = self.sigmoid(self.i(input_combined))\n",
    "        o = self.sigmoid(self.o(input_combined))\n",
    "        c_tilda = self.tanh(self.c_tilda(input_combined))\n",
    "        c ?= torch.mul(f, self.c) + torch.mul(ii, c_tilda)\n",
    "\n",
    "        h = torch.mul(o, self.tanh(c))\n",
    "        out = self.sigmoid(self.Output(h))\n",
    "        return out, h, c\n",
    "\n",
    "    def initHidden(self):\n",
    "        return torch.zeros(1, self.hidden_size)\n",
    "\n",
    "lstm = LSTM(n_letters, n_hidden, n_categories)"
   ],
   "metadata": {
    "collapsed": false,
    "pycharm": {
     "name": "#%%\n"
    }
   }
  },
  {
   "cell_type": "code",
   "execution_count": 84,
   "outputs": [
    {
     "ename": "TypeError",
     "evalue": "forward() missing 1 required positional argument: 'c'",
     "output_type": "error",
     "traceback": [
      "\u001B[0;31m---------------------------------------------------------------------------\u001B[0m",
      "\u001B[0;31mTypeError\u001B[0m                                 Traceback (most recent call last)",
      "Input \u001B[0;32mIn [84]\u001B[0m, in \u001B[0;36m<cell line: 4>\u001B[0;34m()\u001B[0m\n\u001B[1;32m      1\u001B[0m \u001B[38;5;28minput\u001B[39m \u001B[38;5;241m=\u001B[39m letterToTensor(\u001B[38;5;124m'\u001B[39m\u001B[38;5;124mא\u001B[39m\u001B[38;5;124m'\u001B[39m)\n\u001B[1;32m      2\u001B[0m hidden \u001B[38;5;241m=\u001B[39m torch\u001B[38;5;241m.\u001B[39mzeros(\u001B[38;5;241m1\u001B[39m, n_hidden)\n\u001B[0;32m----> 4\u001B[0m output, next_hidden \u001B[38;5;241m=\u001B[39m \u001B[43mlstm\u001B[49m\u001B[43m(\u001B[49m\u001B[38;5;28;43minput\u001B[39;49m\u001B[43m,\u001B[49m\u001B[43m \u001B[49m\u001B[43mhidden\u001B[49m\u001B[43m)\u001B[49m\n\u001B[1;32m      5\u001B[0m output, next_hidden\n",
      "File \u001B[0;32m~/git/courses/venv/lib/python3.8/site-packages/torch/nn/modules/module.py:1130\u001B[0m, in \u001B[0;36mModule._call_impl\u001B[0;34m(self, *input, **kwargs)\u001B[0m\n\u001B[1;32m   1126\u001B[0m \u001B[38;5;66;03m# If we don't have any hooks, we want to skip the rest of the logic in\u001B[39;00m\n\u001B[1;32m   1127\u001B[0m \u001B[38;5;66;03m# this function, and just call forward.\u001B[39;00m\n\u001B[1;32m   1128\u001B[0m \u001B[38;5;28;01mif\u001B[39;00m \u001B[38;5;129;01mnot\u001B[39;00m (\u001B[38;5;28mself\u001B[39m\u001B[38;5;241m.\u001B[39m_backward_hooks \u001B[38;5;129;01mor\u001B[39;00m \u001B[38;5;28mself\u001B[39m\u001B[38;5;241m.\u001B[39m_forward_hooks \u001B[38;5;129;01mor\u001B[39;00m \u001B[38;5;28mself\u001B[39m\u001B[38;5;241m.\u001B[39m_forward_pre_hooks \u001B[38;5;129;01mor\u001B[39;00m _global_backward_hooks\n\u001B[1;32m   1129\u001B[0m         \u001B[38;5;129;01mor\u001B[39;00m _global_forward_hooks \u001B[38;5;129;01mor\u001B[39;00m _global_forward_pre_hooks):\n\u001B[0;32m-> 1130\u001B[0m     \u001B[38;5;28;01mreturn\u001B[39;00m \u001B[43mforward_call\u001B[49m\u001B[43m(\u001B[49m\u001B[38;5;241;43m*\u001B[39;49m\u001B[38;5;28;43minput\u001B[39;49m\u001B[43m,\u001B[49m\u001B[43m \u001B[49m\u001B[38;5;241;43m*\u001B[39;49m\u001B[38;5;241;43m*\u001B[39;49m\u001B[43mkwargs\u001B[49m\u001B[43m)\u001B[49m\n\u001B[1;32m   1131\u001B[0m \u001B[38;5;66;03m# Do not call functions when jit is used\u001B[39;00m\n\u001B[1;32m   1132\u001B[0m full_backward_hooks, non_full_backward_hooks \u001B[38;5;241m=\u001B[39m [], []\n",
      "\u001B[0;31mTypeError\u001B[0m: forward() missing 1 required positional argument: 'c'"
     ]
    }
   ],
   "source": [
    "input = letterToTensor('א')\n",
    "hidden = torch.zeros(1, n_hidden)\n",
    "\n",
    "output, next_hidden = lstm(input, hidden)\n",
    "output, next_hidden"
   ],
   "metadata": {
    "collapsed": false,
    "pycharm": {
     "name": "#%%\n"
    }
   }
  },
  {
   "cell_type": "markdown",
   "source": [
    "For the sake of efficiency we don't want to be creating a new Tensor for\n",
    "every step, so we will use ``lineToTensor`` instead of\n",
    "``letterToTensor`` and use slices. This could be further optimized by\n",
    "pre-computing batches of Tensors.\n",
    "\n",
    "\n"
   ],
   "metadata": {
    "collapsed": false,
    "pycharm": {
     "name": "#%% md\n"
    }
   }
  },
  {
   "cell_type": "code",
   "execution_count": 85,
   "outputs": [
    {
     "ename": "TypeError",
     "evalue": "forward() missing 1 required positional argument: 'c'",
     "output_type": "error",
     "traceback": [
      "\u001B[0;31m---------------------------------------------------------------------------\u001B[0m",
      "\u001B[0;31mTypeError\u001B[0m                                 Traceback (most recent call last)",
      "Input \u001B[0;32mIn [85]\u001B[0m, in \u001B[0;36m<cell line: 6>\u001B[0;34m()\u001B[0m\n\u001B[1;32m      3\u001B[0m \u001B[38;5;28minput\u001B[39m \u001B[38;5;241m=\u001B[39m lineToTensor(\u001B[38;5;124m'\u001B[39m\u001B[38;5;124mיפית\u001B[39m\u001B[38;5;124m'\u001B[39m)\n\u001B[1;32m      4\u001B[0m hidden \u001B[38;5;241m=\u001B[39m torch\u001B[38;5;241m.\u001B[39mzeros(\u001B[38;5;241m1\u001B[39m, n_hidden)\n\u001B[0;32m----> 6\u001B[0m output, next_hidden \u001B[38;5;241m=\u001B[39m \u001B[43mlstm\u001B[49m\u001B[43m(\u001B[49m\u001B[38;5;28;43minput\u001B[39;49m\u001B[43m[\u001B[49m\u001B[38;5;241;43m0\u001B[39;49m\u001B[43m]\u001B[49m\u001B[43m,\u001B[49m\u001B[43m \u001B[49m\u001B[43mhidden\u001B[49m\u001B[43m)\u001B[49m\n\u001B[1;32m      7\u001B[0m \u001B[38;5;28mprint\u001B[39m(output)\n",
      "File \u001B[0;32m~/git/courses/venv/lib/python3.8/site-packages/torch/nn/modules/module.py:1130\u001B[0m, in \u001B[0;36mModule._call_impl\u001B[0;34m(self, *input, **kwargs)\u001B[0m\n\u001B[1;32m   1126\u001B[0m \u001B[38;5;66;03m# If we don't have any hooks, we want to skip the rest of the logic in\u001B[39;00m\n\u001B[1;32m   1127\u001B[0m \u001B[38;5;66;03m# this function, and just call forward.\u001B[39;00m\n\u001B[1;32m   1128\u001B[0m \u001B[38;5;28;01mif\u001B[39;00m \u001B[38;5;129;01mnot\u001B[39;00m (\u001B[38;5;28mself\u001B[39m\u001B[38;5;241m.\u001B[39m_backward_hooks \u001B[38;5;129;01mor\u001B[39;00m \u001B[38;5;28mself\u001B[39m\u001B[38;5;241m.\u001B[39m_forward_hooks \u001B[38;5;129;01mor\u001B[39;00m \u001B[38;5;28mself\u001B[39m\u001B[38;5;241m.\u001B[39m_forward_pre_hooks \u001B[38;5;129;01mor\u001B[39;00m _global_backward_hooks\n\u001B[1;32m   1129\u001B[0m         \u001B[38;5;129;01mor\u001B[39;00m _global_forward_hooks \u001B[38;5;129;01mor\u001B[39;00m _global_forward_pre_hooks):\n\u001B[0;32m-> 1130\u001B[0m     \u001B[38;5;28;01mreturn\u001B[39;00m \u001B[43mforward_call\u001B[49m\u001B[43m(\u001B[49m\u001B[38;5;241;43m*\u001B[39;49m\u001B[38;5;28;43minput\u001B[39;49m\u001B[43m,\u001B[49m\u001B[43m \u001B[49m\u001B[38;5;241;43m*\u001B[39;49m\u001B[38;5;241;43m*\u001B[39;49m\u001B[43mkwargs\u001B[49m\u001B[43m)\u001B[49m\n\u001B[1;32m   1131\u001B[0m \u001B[38;5;66;03m# Do not call functions when jit is used\u001B[39;00m\n\u001B[1;32m   1132\u001B[0m full_backward_hooks, non_full_backward_hooks \u001B[38;5;241m=\u001B[39m [], []\n",
      "\u001B[0;31mTypeError\u001B[0m: forward() missing 1 required positional argument: 'c'"
     ]
    }
   ],
   "source": [
    "# ** Eyal **\n",
    "\n",
    "input = lineToTensor('יפית')\n",
    "hidden = torch.zeros(1, n_hidden)\n",
    "\n",
    "output, next_hidden = lstm(input[0], hidden)\n",
    "print(output)"
   ],
   "metadata": {
    "collapsed": false,
    "pycharm": {
     "name": "#%%\n"
    }
   }
  },
  {
   "cell_type": "markdown",
   "source": [
    "As you can see the output is a ``<1 x n_categories>`` Tensor, where\n",
    "every item is the likelihood of that category (higher is more likely).\n",
    "\n",
    "\n"
   ],
   "metadata": {
    "collapsed": false,
    "pycharm": {
     "name": "#%% md\n"
    }
   }
  },
  {
   "cell_type": "markdown",
   "source": [
    "Training\n",
    "========\n",
    "Preparing for Training\n",
    "----------------------\n",
    "\n",
    "Before going into training we should make a few helper functions. The\n",
    "first is to interpret the output of the network, which we know to be a\n",
    "likelihood of each category. We can use ``Tensor.topk`` to get the index\n",
    "of the greatest value:\n",
    "\n",
    "\n"
   ],
   "metadata": {
    "collapsed": false,
    "pycharm": {
     "name": "#%% md\n"
    }
   }
  },
  {
   "cell_type": "code",
   "execution_count": 78,
   "outputs": [
    {
     "name": "stdout",
     "output_type": "stream",
     "text": [
      "('girls', 2)\n"
     ]
    }
   ],
   "source": [
    "def categoryFromOutput(output):\n",
    "    top_n, top_i = output.topk(1)\n",
    "    category_i = top_i[0].item()\n",
    "    return all_categories[category_i], category_i\n",
    "\n",
    "\n",
    "print(categoryFromOutput(output))"
   ],
   "metadata": {
    "collapsed": false,
    "pycharm": {
     "name": "#%%\n"
    }
   }
  },
  {
   "cell_type": "markdown",
   "source": [
    "We will also want a quick way to get a training example (a name and its\n",
    "language):\n",
    "\n",
    "\n"
   ],
   "metadata": {
    "collapsed": false,
    "pycharm": {
     "name": "#%% md\n"
    }
   }
  },
  {
   "cell_type": "code",
   "execution_count": 79,
   "outputs": [
    {
     "name": "stdout",
     "output_type": "stream",
     "text": [
      "category = boys / line = יעקב\n",
      "category = girls / line = תמי\n",
      "category = boys / line = ארי\n",
      "category = girls / line = אביגל\n",
      "category = unisex / line = נואל\n",
      "category = unisex / line = נרי\n",
      "category = unisex / line = תו\n",
      "category = unisex / line = שנהב\n",
      "category = unisex / line = אביטל\n",
      "category = unisex / line = ברית\n"
     ]
    }
   ],
   "source": [
    "import random\n",
    "\n",
    "\n",
    "def randomChoice(l):\n",
    "    return l[random.randint(0, len(l) - 1)]\n",
    "\n",
    "\n",
    "def randomTrainingExample():\n",
    "    category = randomChoice(all_categories)\n",
    "    line = randomChoice(category_lines[category])\n",
    "    category_tensor = torch.tensor([all_categories.index(category)], dtype=torch.long)\n",
    "    line_tensor = lineToTensor(line)\n",
    "\n",
    "    return category, line, category_tensor, line_tensor\n",
    "\n",
    "\n",
    "for i in range(10):\n",
    "    category, line, category_tensor, line_tensor = randomTrainingExample()\n",
    "    print('category =', category, '/ line =', line)"
   ],
   "metadata": {
    "collapsed": false,
    "pycharm": {
     "name": "#%%\n"
    }
   }
  },
  {
   "cell_type": "markdown",
   "source": [
    "Training the Network\n",
    "--------------------\n",
    "\n",
    "Now all it takes to train this network is show it a bunch of examples,\n",
    "have it make guesses, and tell it if it's wrong.\n",
    "\n",
    "For the loss function ``nn.NLLLoss`` is appropriate, since the last\n",
    "layer of the RNN is ``nn.LogSoftmax``.\n",
    "\n",
    "\n"
   ],
   "metadata": {
    "collapsed": false,
    "pycharm": {
     "name": "#%% md\n"
    }
   }
  },
  {
   "cell_type": "code",
   "execution_count": 80,
   "outputs": [],
   "source": [
    "criterion = nn.NLLLoss()"
   ],
   "metadata": {
    "collapsed": false,
    "pycharm": {
     "name": "#%%\n"
    }
   }
  },
  {
   "cell_type": "markdown",
   "source": [
    "Each loop of training will:\n",
    "\n",
    "-  Create input and target tensors\n",
    "-  Create a zeroed initial hidden state\n",
    "-  Read each letter in and\n",
    "\n",
    "   -  Keep hidden state for next letter\n",
    "\n",
    "-  Compare final output to target\n",
    "-  Back-propagate\n",
    "-  Return the output and loss\n",
    "\n",
    "\n"
   ],
   "metadata": {
    "collapsed": false,
    "pycharm": {
     "name": "#%% md\n"
    }
   }
  },
  {
   "cell_type": "code",
   "execution_count": 81,
   "outputs": [],
   "source": [
    "learning_rate = 0.005  # If you set this too high, it might explode. If too low, it might not learn\n",
    "\n",
    "\n",
    "def train(category_tensor, line_tensor):\n",
    "    hidden_tensor = lstm.initHidden()\n",
    "\n",
    "    lstm.zero_grad()\n",
    "\n",
    "    for i in range(line_tensor.size()[0]):\n",
    "        print(i)\n",
    "        print(len(line_tensor))\n",
    "        print(hidden_tensor)\n",
    "        output, hidden_tensor = lstm(line_tensor[i], hidden_tensor)\n",
    "\n",
    "    loss = criterion(output, category_tensor)\n",
    "    loss.backward()\n",
    "\n",
    "    # Add parameters' gradients to their values, multiplied by learning rate\n",
    "    for p in lstm.parameters():\n",
    "        p.data.add_(p.grad.data, alpha=-learning_rate)\n",
    "\n",
    "    return output, loss.item()"
   ],
   "metadata": {
    "collapsed": false,
    "pycharm": {
     "name": "#%%\n"
    }
   }
  },
  {
   "cell_type": "markdown",
   "source": [
    "Now we just have to run that with a bunch of examples. Since the\n",
    "``train`` function returns both the output and loss we can print its\n",
    "guesses and also keep track of loss for plotting. Since there are 1000s\n",
    "of examples we print only every ``print_every`` examples, and take an\n",
    "average of the loss.\n",
    "\n",
    "\n"
   ],
   "metadata": {
    "collapsed": false,
    "pycharm": {
     "name": "#%% md\n"
    }
   }
  },
  {
   "cell_type": "code",
   "execution_count": 82,
   "outputs": [
    {
     "name": "stdout",
     "output_type": "stream",
     "text": [
      "tensor([2])\n",
      "tensor([[[0., 0., 0., 0., 0., 0., 0., 0., 0., 0., 0., 0., 0., 0., 0., 0., 0.,\n",
      "          0., 0., 1., 0., 0., 0., 0., 0., 0., 0., 0., 0., 0., 0., 0.]],\n",
      "\n",
      "        [[0., 0., 0., 0., 0., 0., 0., 0., 0., 0., 0., 0., 0., 0., 0., 0., 0.,\n",
      "          0., 1., 0., 0., 0., 0., 0., 0., 0., 0., 0., 0., 0., 0., 0.]],\n",
      "\n",
      "        [[0., 0., 0., 0., 0., 0., 0., 0., 0., 0., 0., 0., 0., 0., 0., 0., 1.,\n",
      "          0., 0., 0., 0., 0., 0., 0., 0., 0., 0., 0., 0., 0., 0., 0.]],\n",
      "\n",
      "        [[0., 0., 0., 0., 0., 0., 0., 0., 0., 0., 0., 0., 0., 0., 0., 0., 0.,\n",
      "          0., 0., 0., 0., 1., 0., 0., 0., 0., 0., 0., 0., 0., 0., 0.]]])\n",
      "0\n",
      "4\n",
      "tensor([[0., 0., 0., 0., 0., 0., 0., 0., 0., 0., 0., 0., 0., 0., 0., 0., 0., 0., 0., 0., 0., 0., 0., 0.,\n",
      "         0., 0., 0., 0., 0., 0., 0., 0., 0., 0., 0., 0., 0., 0., 0., 0., 0., 0., 0., 0., 0., 0., 0., 0.,\n",
      "         0., 0., 0., 0., 0., 0., 0., 0., 0., 0., 0., 0., 0., 0., 0., 0., 0., 0., 0., 0., 0., 0., 0., 0.,\n",
      "         0., 0., 0., 0., 0., 0., 0., 0., 0., 0., 0., 0., 0., 0., 0., 0., 0., 0., 0., 0., 0., 0., 0., 0.,\n",
      "         0., 0., 0., 0., 0., 0., 0., 0., 0., 0., 0., 0., 0., 0., 0., 0., 0., 0., 0., 0., 0., 0., 0., 0.,\n",
      "         0., 0., 0., 0., 0., 0., 0., 0., 0., 0., 0., 0., 0., 0., 0., 0., 0., 0., 0., 0., 0., 0., 0., 0.,\n",
      "         0., 0., 0., 0., 0., 0., 0., 0., 0., 0., 0., 0., 0., 0., 0., 0., 0., 0., 0., 0., 0., 0., 0., 0.,\n",
      "         0., 0., 0., 0., 0., 0., 0., 0., 0., 0., 0., 0., 0., 0., 0., 0., 0., 0., 0., 0., 0., 0., 0., 0.,\n",
      "         0., 0., 0., 0., 0., 0., 0., 0., 0., 0., 0., 0., 0., 0., 0., 0., 0., 0., 0., 0., 0., 0., 0., 0.,\n",
      "         0., 0., 0., 0., 0., 0., 0., 0., 0., 0., 0., 0., 0., 0., 0., 0., 0., 0., 0., 0., 0., 0., 0., 0.,\n",
      "         0., 0., 0., 0., 0., 0., 0., 0., 0., 0., 0., 0., 0., 0., 0., 0.]])\n",
      "torch.Size([1, 32])\n",
      "torch.Size([1, 256])\n",
      "1\n",
      "4\n",
      "tensor([[ 3.0699e-02, -2.3130e-02, -7.9266e-05,  1.2115e-02,  6.5142e-03,\n",
      "         -2.6744e-02, -2.2850e-02,  3.2107e-02, -3.0414e-03,  1.5969e-02,\n",
      "          2.1484e-03,  2.1716e-02,  1.9979e-02, -4.7385e-03,  3.2781e-02,\n",
      "         -1.7943e-02, -6.8728e-03,  1.2531e-02, -1.4732e-02,  1.4891e-02,\n",
      "          3.4577e-02, -1.2481e-02,  2.0498e-03, -3.2627e-02, -1.3000e-02,\n",
      "         -9.4355e-03, -2.4349e-03,  1.8732e-02,  1.4589e-02, -1.1117e-02,\n",
      "         -8.0734e-03,  1.9742e-02, -1.9125e-02,  2.2772e-02, -5.9963e-03,\n",
      "          1.4910e-02, -1.1429e-02,  3.1997e-02, -4.7659e-03, -5.8031e-04,\n",
      "          6.4963e-03,  1.8887e-03, -7.1211e-03, -7.0505e-03, -1.2969e-02,\n",
      "          1.4000e-02,  1.6320e-02,  1.2261e-02,  1.9192e-02,  9.1497e-03,\n",
      "         -1.4467e-02, -1.9343e-02, -1.2877e-02, -6.2954e-03,  2.3764e-02,\n",
      "         -9.4567e-03,  5.3847e-03,  3.1502e-02,  1.6956e-02,  1.4251e-02,\n",
      "         -3.0988e-02, -1.8057e-02, -1.6927e-02,  2.0921e-02, -3.0994e-03,\n",
      "         -1.8624e-02,  1.1876e-02, -1.9562e-02, -1.6197e-02,  3.5104e-03,\n",
      "         -2.2468e-02,  8.9250e-03, -1.7066e-02, -7.5111e-03,  2.6172e-02,\n",
      "         -1.9957e-03, -3.2399e-04,  1.4266e-02,  2.3187e-02,  1.6306e-02,\n",
      "         -2.1576e-02,  2.6102e-02,  1.8423e-02,  1.4994e-03,  1.8482e-02,\n",
      "         -1.6299e-02,  4.4134e-03,  7.0073e-03,  1.7046e-02,  2.3771e-02,\n",
      "          7.5972e-03, -2.2719e-02, -1.3093e-03, -1.1672e-02,  4.3462e-02,\n",
      "         -1.2070e-02, -1.4309e-02,  2.2214e-02,  2.1662e-02, -3.1039e-02,\n",
      "         -9.0014e-03,  3.3561e-03,  1.1038e-02,  3.3642e-02, -1.4758e-02,\n",
      "         -8.9078e-03, -1.1096e-02,  7.7667e-03,  3.3758e-03,  8.5778e-03,\n",
      "         -9.1252e-03,  3.7962e-02, -3.3888e-02,  1.4033e-02, -1.8063e-02,\n",
      "         -3.1989e-03,  2.5874e-02, -1.5802e-02, -9.4713e-03, -4.7169e-03,\n",
      "          1.5540e-02, -2.4376e-02,  2.7243e-02,  1.0161e-02, -4.8033e-03,\n",
      "          8.7606e-03, -3.1978e-03,  3.7340e-03,  9.9241e-04, -1.0930e-02,\n",
      "          1.1022e-02, -1.2810e-02,  1.5738e-02,  7.9468e-03, -2.2984e-02,\n",
      "          1.6421e-02,  1.7285e-03, -1.3422e-02,  1.1510e-02, -6.3823e-03,\n",
      "          1.4716e-02, -5.2242e-04,  2.5152e-02,  1.9147e-02,  5.8772e-04,\n",
      "          4.4455e-03,  3.2436e-02, -2.0318e-02,  1.9543e-02,  2.5404e-02,\n",
      "          1.0464e-02,  8.8006e-03, -2.7094e-02,  2.5965e-02,  1.3706e-02,\n",
      "          1.2268e-02, -2.3700e-02,  3.1703e-02, -2.3294e-03,  1.0329e-02,\n",
      "         -1.5540e-02,  1.2200e-02,  1.0779e-03,  5.3456e-03,  6.1249e-03,\n",
      "          3.2921e-03, -2.2254e-02,  2.1012e-02,  1.4851e-02,  1.2901e-02,\n",
      "          3.2861e-02,  5.4399e-03,  3.5241e-03,  1.3304e-03,  3.0342e-03,\n",
      "          1.8549e-02,  4.8175e-03,  7.7883e-03,  1.5722e-02,  6.9981e-03,\n",
      "         -2.0200e-02, -2.1145e-02, -2.2021e-02, -8.3577e-03,  1.3867e-02,\n",
      "          1.2438e-02,  5.1309e-03,  1.8379e-02,  2.7002e-02, -2.9481e-02,\n",
      "         -6.3892e-03, -4.4402e-02,  2.5320e-03,  1.4471e-02,  1.0001e-02,\n",
      "         -3.2709e-02, -9.6134e-03,  2.0072e-03,  1.3231e-03,  3.4808e-02,\n",
      "         -1.9032e-02,  6.6523e-03,  5.4296e-03,  3.2642e-03,  2.2576e-02,\n",
      "          1.1481e-03, -1.5446e-02,  2.4202e-02, -1.5878e-02, -2.8954e-02,\n",
      "         -1.5156e-04,  1.1552e-03, -2.1118e-02, -1.7160e-02,  1.5723e-02,\n",
      "          1.2902e-02, -4.3365e-03,  3.0996e-03,  3.4814e-02,  2.8004e-02,\n",
      "          2.9418e-02, -1.8257e-02,  2.3114e-02, -1.4402e-03, -7.2130e-03,\n",
      "         -2.6232e-02, -2.4235e-02, -8.2751e-05, -3.4703e-02,  2.2109e-02,\n",
      "         -5.5172e-03, -2.1426e-02,  2.6340e-02, -2.9591e-02,  7.9412e-03,\n",
      "          4.8016e-03,  8.8474e-03, -1.2057e-03, -2.0718e-02, -1.7757e-02,\n",
      "          3.8016e-03,  1.1123e-02,  3.9622e-03, -2.2045e-02, -2.6802e-02,\n",
      "         -3.2448e-03, -2.9574e-02,  1.4407e-02,  4.1852e-03,  2.3209e-02,\n",
      "          9.0407e-03, -2.6396e-02, -1.5449e-02,  3.9960e-02, -1.5138e-02,\n",
      "         -3.7284e-02]], grad_fn=<MulBackward0>)\n",
      "torch.Size([1, 32])\n",
      "torch.Size([1, 256])\n",
      "2\n",
      "4\n",
      "tensor([[ 0.0339, -0.0288,  0.0083, -0.0138, -0.0059, -0.0172, -0.0238,  0.0157,\n",
      "         -0.0040,  0.0076, -0.0047,  0.0231,  0.0062, -0.0282,  0.0137, -0.0081,\n",
      "         -0.0009, -0.0019, -0.0263,  0.0153,  0.0431, -0.0159,  0.0140, -0.0266,\n",
      "         -0.0046, -0.0132, -0.0098,  0.0217,  0.0236, -0.0077, -0.0104,  0.0242,\n",
      "         -0.0110,  0.0173, -0.0044,  0.0268, -0.0035,  0.0217,  0.0052,  0.0105,\n",
      "          0.0030,  0.0025, -0.0147, -0.0025, -0.0153,  0.0231,  0.0232,  0.0157,\n",
      "          0.0102,  0.0167, -0.0056, -0.0069, -0.0144, -0.0087,  0.0325, -0.0124,\n",
      "          0.0086,  0.0142,  0.0246,  0.0250, -0.0113, -0.0223, -0.0146,  0.0080,\n",
      "          0.0150, -0.0236,  0.0131,  0.0003, -0.0136,  0.0073, -0.0284,  0.0240,\n",
      "         -0.0066, -0.0009,  0.0201,  0.0077, -0.0247,  0.0213,  0.0141,  0.0176,\n",
      "         -0.0332,  0.0331,  0.0236,  0.0061,  0.0141, -0.0295,  0.0017,  0.0189,\n",
      "          0.0128,  0.0091, -0.0118, -0.0135,  0.0074, -0.0079,  0.0446, -0.0008,\n",
      "         -0.0143,  0.0266,  0.0304, -0.0137,  0.0040, -0.0037,  0.0108,  0.0177,\n",
      "         -0.0032, -0.0097, -0.0011,  0.0250,  0.0153,  0.0142, -0.0124,  0.0413,\n",
      "         -0.0366,  0.0164, -0.0109, -0.0113,  0.0242, -0.0019, -0.0112, -0.0247,\n",
      "          0.0061, -0.0320,  0.0313, -0.0067, -0.0229, -0.0021, -0.0038, -0.0086,\n",
      "          0.0154, -0.0085, -0.0127, -0.0197,  0.0320,  0.0291, -0.0273,  0.0008,\n",
      "          0.0209, -0.0031,  0.0101, -0.0021,  0.0109,  0.0147,  0.0162,  0.0342,\n",
      "         -0.0144, -0.0094,  0.0318, -0.0250,  0.0071,  0.0367,  0.0090,  0.0250,\n",
      "         -0.0307,  0.0342,  0.0114,  0.0031, -0.0201,  0.0391,  0.0123,  0.0232,\n",
      "         -0.0155, -0.0096,  0.0135,  0.0102,  0.0002,  0.0196, -0.0129,  0.0088,\n",
      "          0.0102,  0.0249,  0.0345, -0.0109,  0.0051, -0.0009,  0.0045,  0.0151,\n",
      "         -0.0142, -0.0114,  0.0121, -0.0006, -0.0300, -0.0298, -0.0228, -0.0089,\n",
      "         -0.0077,  0.0170,  0.0088,  0.0222,  0.0241, -0.0294, -0.0165, -0.0365,\n",
      "          0.0083, -0.0003,  0.0187, -0.0394,  0.0161,  0.0113,  0.0091,  0.0231,\n",
      "          0.0028, -0.0081,  0.0065,  0.0188,  0.0157,  0.0130, -0.0087,  0.0246,\n",
      "         -0.0077, -0.0285, -0.0110,  0.0029, -0.0236, -0.0070,  0.0060,  0.0175,\n",
      "          0.0066,  0.0034,  0.0247,  0.0167,  0.0182, -0.0347,  0.0209, -0.0169,\n",
      "         -0.0129, -0.0202, -0.0112,  0.0087, -0.0208,  0.0161,  0.0108, -0.0059,\n",
      "          0.0109, -0.0266,  0.0165, -0.0025, -0.0010,  0.0053, -0.0229, -0.0044,\n",
      "          0.0072,  0.0058, -0.0028, -0.0199, -0.0352, -0.0040, -0.0277,  0.0069,\n",
      "          0.0060,  0.0334,  0.0131, -0.0178, -0.0052,  0.0439, -0.0144, -0.0321]],\n",
      "       grad_fn=<MulBackward0>)\n",
      "torch.Size([1, 32])\n",
      "torch.Size([1, 256])\n",
      "3\n",
      "4\n",
      "tensor([[ 0.0457, -0.0160,  0.0007, -0.0219,  0.0186,  0.0019, -0.0330,  0.0076,\n",
      "          0.0150,  0.0134, -0.0027,  0.0118,  0.0038, -0.0315,  0.0301, -0.0045,\n",
      "         -0.0059,  0.0053, -0.0079,  0.0218,  0.0441, -0.0149,  0.0007, -0.0245,\n",
      "         -0.0059, -0.0025, -0.0169,  0.0077,  0.0143, -0.0083, -0.0172,  0.0188,\n",
      "         -0.0089,  0.0045, -0.0150,  0.0136, -0.0205,  0.0174, -0.0123,  0.0203,\n",
      "          0.0072, -0.0083, -0.0232,  0.0095, -0.0020,  0.0096,  0.0269,  0.0240,\n",
      "         -0.0070,  0.0095, -0.0093, -0.0107, -0.0068,  0.0003,  0.0194, -0.0072,\n",
      "          0.0246,  0.0124,  0.0120,  0.0198, -0.0170, -0.0184, -0.0056,  0.0173,\n",
      "          0.0155, -0.0380,  0.0122, -0.0066, -0.0187,  0.0024, -0.0266,  0.0134,\n",
      "         -0.0011,  0.0005,  0.0275, -0.0076, -0.0250,  0.0111,  0.0065,  0.0282,\n",
      "         -0.0246,  0.0288,  0.0117, -0.0062,  0.0047, -0.0188,  0.0082,  0.0088,\n",
      "          0.0064,  0.0182, -0.0038, -0.0268,  0.0098,  0.0002,  0.0398, -0.0159,\n",
      "         -0.0137,  0.0356,  0.0355, -0.0345, -0.0020, -0.0178,  0.0033,  0.0043,\n",
      "         -0.0081, -0.0176, -0.0060,  0.0195,  0.0274,  0.0004,  0.0038,  0.0338,\n",
      "         -0.0411,  0.0094, -0.0197, -0.0039,  0.0145,  0.0080, -0.0173, -0.0089,\n",
      "          0.0179, -0.0219,  0.0289,  0.0011, -0.0138,  0.0143,  0.0040, -0.0105,\n",
      "          0.0129, -0.0083, -0.0138, -0.0219,  0.0314,  0.0164, -0.0201,  0.0016,\n",
      "          0.0206, -0.0071,  0.0012,  0.0014,  0.0125,  0.0134,  0.0255,  0.0297,\n",
      "         -0.0300,  0.0100,  0.0402, -0.0358,  0.0080,  0.0297, -0.0053,  0.0280,\n",
      "         -0.0217,  0.0256,  0.0220,  0.0132, -0.0148,  0.0266,  0.0204,  0.0230,\n",
      "         -0.0186, -0.0063,  0.0039,  0.0214,  0.0211,  0.0174, -0.0038,  0.0140,\n",
      "          0.0237,  0.0277,  0.0130, -0.0042,  0.0062,  0.0054, -0.0046,  0.0312,\n",
      "         -0.0148, -0.0078,  0.0114,  0.0121, -0.0227, -0.0275, -0.0248, -0.0110,\n",
      "         -0.0070,  0.0073,  0.0073, -0.0015,  0.0346, -0.0178, -0.0198, -0.0416,\n",
      "         -0.0060,  0.0046,  0.0236, -0.0143,  0.0215,  0.0143, -0.0057,  0.0145,\n",
      "         -0.0081, -0.0032,  0.0053,  0.0268,  0.0323, -0.0015, -0.0130,  0.0198,\n",
      "         -0.0251, -0.0140, -0.0275,  0.0083, -0.0389, -0.0278,  0.0153,  0.0252,\n",
      "          0.0180, -0.0116,  0.0192,  0.0150,  0.0264, -0.0349,  0.0153, -0.0259,\n",
      "         -0.0305, -0.0196, -0.0168,  0.0125, -0.0280,  0.0143,  0.0117, -0.0037,\n",
      "          0.0133, -0.0352, -0.0031,  0.0077,  0.0164, -0.0133, -0.0359, -0.0098,\n",
      "          0.0036,  0.0206, -0.0156, -0.0062, -0.0267,  0.0019, -0.0093,  0.0017,\n",
      "         -0.0040,  0.0388,  0.0074, -0.0199, -0.0127,  0.0271,  0.0053, -0.0257]],\n",
      "       grad_fn=<MulBackward0>)\n",
      "torch.Size([1, 32])\n",
      "torch.Size([1, 256])\n",
      "tensor([2])\n",
      "tensor([[[1., 0., 0., 0., 0., 0., 0., 0., 0., 0., 0., 0., 0., 0., 0., 0., 0.,\n",
      "          0., 0., 0., 0., 0., 0., 0., 0., 0., 0., 0., 0., 0., 0., 0.]],\n",
      "\n",
      "        [[0., 0., 0., 0., 0., 0., 0., 0., 0., 1., 0., 0., 0., 0., 0., 0., 0.,\n",
      "          0., 0., 0., 0., 0., 0., 0., 0., 0., 0., 0., 0., 0., 0., 0.]],\n",
      "\n",
      "        [[0., 0., 0., 0., 0., 0., 0., 0., 1., 0., 0., 0., 0., 0., 0., 0., 0.,\n",
      "          0., 0., 0., 0., 0., 0., 0., 0., 0., 0., 0., 0., 0., 0., 0.]],\n",
      "\n",
      "        [[0., 0., 0., 0., 1., 0., 0., 0., 0., 0., 0., 0., 0., 0., 0., 0., 0.,\n",
      "          0., 0., 0., 0., 0., 0., 0., 0., 0., 0., 0., 0., 0., 0., 0.]]])\n",
      "0\n",
      "4\n",
      "tensor([[0., 0., 0., 0., 0., 0., 0., 0., 0., 0., 0., 0., 0., 0., 0., 0., 0., 0., 0., 0., 0., 0., 0., 0.,\n",
      "         0., 0., 0., 0., 0., 0., 0., 0., 0., 0., 0., 0., 0., 0., 0., 0., 0., 0., 0., 0., 0., 0., 0., 0.,\n",
      "         0., 0., 0., 0., 0., 0., 0., 0., 0., 0., 0., 0., 0., 0., 0., 0., 0., 0., 0., 0., 0., 0., 0., 0.,\n",
      "         0., 0., 0., 0., 0., 0., 0., 0., 0., 0., 0., 0., 0., 0., 0., 0., 0., 0., 0., 0., 0., 0., 0., 0.,\n",
      "         0., 0., 0., 0., 0., 0., 0., 0., 0., 0., 0., 0., 0., 0., 0., 0., 0., 0., 0., 0., 0., 0., 0., 0.,\n",
      "         0., 0., 0., 0., 0., 0., 0., 0., 0., 0., 0., 0., 0., 0., 0., 0., 0., 0., 0., 0., 0., 0., 0., 0.,\n",
      "         0., 0., 0., 0., 0., 0., 0., 0., 0., 0., 0., 0., 0., 0., 0., 0., 0., 0., 0., 0., 0., 0., 0., 0.,\n",
      "         0., 0., 0., 0., 0., 0., 0., 0., 0., 0., 0., 0., 0., 0., 0., 0., 0., 0., 0., 0., 0., 0., 0., 0.,\n",
      "         0., 0., 0., 0., 0., 0., 0., 0., 0., 0., 0., 0., 0., 0., 0., 0., 0., 0., 0., 0., 0., 0., 0., 0.,\n",
      "         0., 0., 0., 0., 0., 0., 0., 0., 0., 0., 0., 0., 0., 0., 0., 0., 0., 0., 0., 0., 0., 0., 0., 0.,\n",
      "         0., 0., 0., 0., 0., 0., 0., 0., 0., 0., 0., 0., 0., 0., 0., 0.]])\n",
      "torch.Size([1, 32])\n",
      "torch.Size([1, 256])\n",
      "1\n",
      "4\n",
      "tensor([[ 0.0361, -0.0117,  0.0015, -0.0052,  0.0113, -0.0084, -0.0266,  0.0249,\n",
      "          0.0022,  0.0187, -0.0102,  0.0237,  0.0213, -0.0210,  0.0433, -0.0014,\n",
      "          0.0274,  0.0185, -0.0060,  0.0303,  0.0351, -0.0081, -0.0036, -0.0207,\n",
      "         -0.0196, -0.0193,  0.0050,  0.0115,  0.0147, -0.0066, -0.0229,  0.0206,\n",
      "         -0.0272,  0.0026, -0.0061,  0.0277,  0.0030,  0.0142, -0.0099,  0.0167,\n",
      "          0.0052, -0.0146, -0.0138,  0.0102, -0.0239,  0.0051,  0.0371,  0.0182,\n",
      "          0.0043,  0.0021, -0.0220, -0.0019, -0.0073,  0.0058,  0.0112, -0.0171,\n",
      "          0.0105,  0.0218,  0.0063,  0.0070, -0.0225, -0.0184, -0.0080,  0.0115,\n",
      "         -0.0075, -0.0389,  0.0017, -0.0107, -0.0295,  0.0071, -0.0115,  0.0223,\n",
      "         -0.0257, -0.0023,  0.0106, -0.0081, -0.0377,  0.0041,  0.0146,  0.0227,\n",
      "         -0.0271,  0.0216,  0.0134, -0.0226,  0.0200, -0.0177,  0.0058,  0.0204,\n",
      "          0.0041,  0.0263,  0.0095, -0.0327, -0.0098,  0.0003,  0.0400,  0.0011,\n",
      "         -0.0060,  0.0310,  0.0382, -0.0455, -0.0217, -0.0067,  0.0103,  0.0297,\n",
      "         -0.0023, -0.0064,  0.0134,  0.0135,  0.0015, -0.0009, -0.0065,  0.0361,\n",
      "         -0.0384,  0.0178, -0.0185,  0.0002,  0.0099,  0.0201,  0.0135, -0.0141,\n",
      "          0.0091, -0.0173,  0.0108, -0.0062, -0.0110,  0.0112, -0.0030,  0.0094,\n",
      "          0.0104, -0.0189, -0.0058, -0.0286,  0.0406,  0.0355, -0.0233,  0.0010,\n",
      "          0.0118, -0.0054,  0.0067,  0.0047, -0.0050,  0.0210,  0.0350,  0.0251,\n",
      "         -0.0190,  0.0101,  0.0209, -0.0315,  0.0245,  0.0187,  0.0030,  0.0204,\n",
      "         -0.0341,  0.0329,  0.0115,  0.0101, -0.0319,  0.0238,  0.0097,  0.0212,\n",
      "          0.0070,  0.0036, -0.0087,  0.0267,  0.0252,  0.0132, -0.0099,  0.0296,\n",
      "          0.0161,  0.0119,  0.0172,  0.0015,  0.0112, -0.0022, -0.0142,  0.0269,\n",
      "         -0.0127, -0.0091,  0.0203,  0.0226, -0.0124, -0.0041, -0.0215, -0.0075,\n",
      "          0.0152,  0.0112,  0.0126,  0.0131,  0.0232, -0.0059,  0.0010, -0.0364,\n",
      "         -0.0016,  0.0086,  0.0178, -0.0200,  0.0029, -0.0083,  0.0026,  0.0257,\n",
      "         -0.0069, -0.0201,  0.0183,  0.0166,  0.0333,  0.0112,  0.0092,  0.0107,\n",
      "         -0.0228, -0.0281, -0.0180, -0.0149, -0.0253, -0.0144,  0.0162,  0.0263,\n",
      "          0.0172, -0.0042,  0.0257,  0.0407,  0.0411, -0.0206,  0.0073, -0.0178,\n",
      "         -0.0132, -0.0097, -0.0117,  0.0159, -0.0351,  0.0104,  0.0035, -0.0218,\n",
      "          0.0188, -0.0476,  0.0026,  0.0036,  0.0062, -0.0110, -0.0341, -0.0071,\n",
      "         -0.0013,  0.0055, -0.0082, -0.0033, -0.0140,  0.0112, -0.0225,  0.0049,\n",
      "          0.0050,  0.0409, -0.0066, -0.0179, -0.0203,  0.0368, -0.0058, -0.0217]],\n",
      "       grad_fn=<MulBackward0>)\n",
      "torch.Size([1, 32])\n",
      "torch.Size([1, 256])\n",
      "2\n",
      "4\n",
      "tensor([[ 4.1321e-02, -2.1037e-02, -9.9920e-03, -2.3224e-03,  1.3742e-02,\n",
      "         -1.3188e-02, -3.1977e-02,  1.3300e-02, -5.2244e-03,  2.4205e-03,\n",
      "         -4.7096e-04,  8.9050e-03,  2.8736e-02, -1.0076e-02,  4.5357e-02,\n",
      "          7.1430e-03,  9.8683e-03,  2.9551e-02, -2.1025e-02,  1.8299e-02,\n",
      "          4.1096e-02, -2.9614e-02,  8.2308e-04, -2.4828e-02, -1.2968e-02,\n",
      "         -1.8154e-02, -8.8257e-03,  2.7608e-02,  2.2333e-02, -5.5044e-03,\n",
      "         -1.7698e-02,  1.8824e-02, -1.4005e-02,  1.0796e-02, -2.1743e-02,\n",
      "          1.1091e-02, -1.4886e-02,  2.3055e-02, -1.3763e-02,  1.0138e-03,\n",
      "          9.4642e-04,  2.6149e-03, -1.8824e-02,  1.6050e-03, -1.4032e-02,\n",
      "          1.3386e-02,  1.9774e-02,  2.7612e-02,  1.2201e-02, -5.0068e-03,\n",
      "         -3.4150e-02, -1.0320e-02, -9.5667e-03,  8.0104e-03,  1.5866e-02,\n",
      "         -1.9237e-02,  3.8593e-03,  3.3458e-02, -8.8714e-04,  1.0948e-02,\n",
      "         -2.8252e-02, -1.0337e-02, -1.4726e-02,  5.4926e-03,  4.3479e-03,\n",
      "         -3.4260e-02,  2.0348e-03, -7.5208e-03, -3.6079e-02,  1.0667e-02,\n",
      "         -1.3681e-02,  2.2647e-02, -2.6820e-02, -2.1941e-02,  1.7665e-02,\n",
      "         -1.1708e-02, -1.7764e-02,  1.3793e-02,  2.0219e-02,  9.4081e-03,\n",
      "         -3.1869e-02,  2.2645e-02,  6.8665e-03, -1.0461e-02,  1.7098e-02,\n",
      "         -1.6091e-02,  6.6109e-03,  7.9866e-03,  1.1202e-02,  8.2238e-03,\n",
      "          4.5041e-03, -3.1878e-02, -1.7748e-02, -1.9207e-02,  4.7563e-02,\n",
      "         -1.7805e-03, -7.0670e-03,  3.2860e-02,  3.1682e-02, -3.2994e-02,\n",
      "         -2.1599e-02, -1.4245e-02,  1.1810e-02,  3.0121e-02, -7.8936e-03,\n",
      "         -2.4686e-03, -1.0022e-03,  1.6051e-02, -2.6169e-03, -1.2254e-03,\n",
      "          5.5912e-03,  4.3588e-02, -4.0607e-02,  1.4341e-02, -2.4254e-02,\n",
      "         -3.5667e-03,  1.3664e-02,  3.9680e-03,  1.6685e-03, -1.1129e-02,\n",
      "          6.5977e-03, -2.8638e-02,  2.7120e-02,  5.0819e-03, -1.4890e-02,\n",
      "          1.9995e-02,  1.1997e-02,  9.1326e-03,  2.7180e-03, -9.1766e-03,\n",
      "         -5.5886e-03, -3.1472e-02,  2.5070e-02,  2.3513e-02, -1.0508e-02,\n",
      "          1.5608e-03,  1.1399e-02, -1.2243e-04,  1.2377e-02, -7.1552e-04,\n",
      "          5.5993e-05,  9.6990e-03,  2.4208e-02,  1.5714e-02, -1.2036e-02,\n",
      "         -1.2180e-03,  2.1861e-02, -1.9110e-02,  9.2782e-03,  1.3966e-02,\n",
      "          1.3056e-02,  1.4477e-02, -3.6439e-02,  2.5339e-02,  2.4069e-03,\n",
      "          3.3694e-03, -2.6806e-02,  2.4510e-02,  1.3661e-03,  9.0822e-03,\n",
      "         -4.6676e-03,  7.4629e-03,  1.5184e-02,  2.3891e-02,  1.4177e-02,\n",
      "          8.8800e-03, -8.2197e-03,  2.4018e-02,  9.9696e-03,  9.3210e-04,\n",
      "          2.8678e-02, -8.1833e-03, -3.6931e-03,  5.2139e-03,  2.6393e-03,\n",
      "          2.1574e-02, -5.3713e-03, -2.6524e-03,  2.2100e-02,  1.1093e-02,\n",
      "         -2.4955e-02, -2.0916e-02, -3.3228e-02, -2.8419e-04, -1.3629e-03,\n",
      "          1.4096e-02, -2.6278e-03,  1.0180e-03,  1.6331e-02, -2.1232e-02,\n",
      "          1.2557e-02, -4.5002e-02, -1.1703e-03, -5.9765e-03,  1.2542e-02,\n",
      "         -2.7276e-02,  5.0707e-03, -4.4767e-03, -1.0967e-02,  1.9577e-02,\n",
      "         -1.0867e-02, -1.2431e-02,  8.9596e-03,  7.1512e-03,  4.2009e-02,\n",
      "          1.2830e-02,  4.5779e-03,  1.9517e-02, -1.4535e-02, -2.9718e-02,\n",
      "         -6.6821e-03, -2.1450e-02, -3.4937e-02, -1.8822e-02,  2.3549e-02,\n",
      "          2.1281e-02,  2.7440e-03, -4.1069e-03,  4.2140e-02,  2.4438e-02,\n",
      "          2.5493e-02, -3.7206e-02,  1.7837e-02, -1.8718e-02, -7.6809e-03,\n",
      "         -1.8150e-02, -8.8540e-03, -9.8870e-04, -4.7104e-02,  3.0353e-02,\n",
      "         -5.9770e-04, -6.2514e-03,  2.2490e-02, -4.4427e-02,  1.4128e-02,\n",
      "          1.5494e-02, -5.6343e-03, -9.6906e-03, -2.4160e-02, -1.1612e-02,\n",
      "          1.7381e-03,  1.4547e-02, -3.3343e-03, -2.6850e-02, -2.1387e-02,\n",
      "          5.0019e-03, -7.6909e-03,  4.0470e-03,  1.2044e-02,  3.0585e-02,\n",
      "          5.6192e-03, -1.3938e-02, -4.2583e-03,  3.0242e-02, -8.4577e-03,\n",
      "         -4.1134e-02]], grad_fn=<MulBackward0>)\n",
      "torch.Size([1, 32])\n",
      "torch.Size([1, 256])\n",
      "3\n",
      "4\n",
      "tensor([[ 4.2911e-02, -1.8150e-02, -1.8692e-02, -2.9596e-03,  1.8425e-03,\n",
      "         -1.9036e-02, -1.1329e-02,  1.3915e-02,  1.8106e-02, -1.6321e-03,\n",
      "         -1.3823e-02,  6.7720e-03,  1.0665e-02, -1.3949e-02,  3.7154e-02,\n",
      "          5.3453e-03,  1.0073e-03,  2.1193e-02, -1.3015e-02,  1.2267e-02,\n",
      "          2.5628e-02, -3.2844e-02, -1.2719e-03, -1.7136e-02, -1.6696e-02,\n",
      "         -1.7924e-02, -7.2167e-03,  2.7874e-02,  2.6349e-02, -4.4106e-03,\n",
      "         -5.2661e-03,  3.1034e-02, -2.3289e-02,  4.6740e-03, -2.2144e-02,\n",
      "          2.5034e-02, -1.9647e-02,  1.4335e-02, -9.0252e-03,  1.5772e-02,\n",
      "          2.8607e-03,  8.0778e-03, -2.8918e-02, -1.2109e-02, -5.9642e-03,\n",
      "          1.9868e-02,  3.4111e-02,  1.7259e-02,  8.7469e-03, -9.8139e-03,\n",
      "         -3.1655e-02, -4.5241e-03,  4.2321e-03, -3.2394e-03,  1.4086e-02,\n",
      "         -1.6201e-02,  2.1699e-02,  2.4778e-02,  1.4869e-02,  1.2220e-02,\n",
      "         -2.1781e-02, -1.1381e-03,  2.0747e-03,  2.0952e-02, -2.6018e-03,\n",
      "         -3.6405e-02, -1.2483e-02, -4.1476e-03, -3.3479e-02,  1.4468e-02,\n",
      "         -1.4683e-02,  2.7481e-02, -3.3071e-02, -1.4985e-02,  3.1853e-02,\n",
      "         -1.0519e-03, -2.8404e-02,  1.3300e-02,  4.3170e-03,  7.6272e-03,\n",
      "         -3.0560e-02,  6.0192e-03, -2.2974e-03, -9.7107e-03,  2.7161e-02,\n",
      "         -2.1879e-02,  1.2594e-03,  1.4163e-02,  9.5786e-03,  7.4655e-03,\n",
      "          1.2145e-02, -2.9873e-02, -1.0402e-02, -1.0333e-02,  4.7257e-02,\n",
      "          1.2211e-02, -1.2429e-02,  3.6488e-02,  1.4605e-02, -2.4636e-02,\n",
      "         -2.2346e-02, -2.2063e-02,  2.8084e-03,  3.5239e-02,  6.2137e-03,\n",
      "          4.0216e-04, -9.2045e-04,  3.1365e-02, -4.7394e-03,  7.3481e-03,\n",
      "         -9.2261e-03,  3.0739e-02, -2.5251e-02,  2.0967e-02, -2.8764e-02,\n",
      "         -3.4553e-03,  1.1288e-02, -4.2693e-03,  1.3000e-02, -1.2019e-02,\n",
      "         -3.2013e-03, -2.5477e-02,  1.4518e-02, -6.2896e-03, -3.2035e-02,\n",
      "          1.9841e-02,  8.8688e-03,  1.1871e-02,  2.9487e-03, -2.4408e-03,\n",
      "         -1.5283e-02, -2.8443e-02,  3.7892e-02,  1.5538e-02, -1.3706e-02,\n",
      "          8.2947e-03,  1.7101e-02,  6.5640e-03,  1.7081e-02, -1.4972e-02,\n",
      "          1.6381e-04,  2.2892e-02,  3.9052e-02,  1.4717e-02, -2.1956e-02,\n",
      "         -6.6580e-03,  3.4163e-02, -1.3062e-02,  2.0837e-03,  4.5895e-03,\n",
      "          2.0077e-02,  2.3075e-02, -3.7074e-02,  1.2974e-02,  1.4974e-02,\n",
      "          1.3672e-02, -1.9764e-02,  1.4971e-02,  1.5117e-02,  1.5759e-02,\n",
      "         -1.3498e-02,  3.0698e-03,  1.9877e-02,  2.6716e-02,  7.9254e-03,\n",
      "          1.9263e-02, -1.9696e-03,  2.8231e-02,  8.2268e-03,  2.1301e-02,\n",
      "          2.3823e-02, -4.6716e-03, -2.1889e-03,  1.3277e-02, -4.8654e-04,\n",
      "          3.1221e-02, -1.4812e-02, -7.9420e-03,  2.6167e-02, -3.2151e-04,\n",
      "         -4.0226e-02, -1.2354e-02, -2.1903e-02, -1.5308e-02, -5.3288e-04,\n",
      "          2.1397e-03,  1.1835e-02,  7.0431e-03,  1.3723e-02, -1.3743e-02,\n",
      "          3.2234e-03, -4.0332e-02, -1.2623e-02,  1.3709e-02,  2.6596e-02,\n",
      "         -2.2590e-02,  1.6818e-02, -4.2205e-03, -1.8892e-02,  9.4238e-03,\n",
      "         -9.5383e-03, -5.3051e-03,  1.3994e-02,  1.3254e-02,  4.0638e-02,\n",
      "         -9.5842e-03,  1.6466e-02,  7.5582e-03, -1.2748e-02, -1.8374e-02,\n",
      "         -5.4501e-03, -1.2635e-02, -4.5068e-02, -1.4305e-02,  1.0340e-02,\n",
      "          2.3978e-02, -7.6613e-04, -1.5330e-02,  2.9655e-02,  1.7577e-02,\n",
      "          2.8449e-02, -4.2328e-02,  2.2481e-02, -1.2877e-02, -1.8498e-02,\n",
      "         -2.5122e-02, -2.2121e-02, -1.1859e-03, -3.6146e-02,  3.8779e-02,\n",
      "         -1.2177e-02, -8.5440e-03,  3.0706e-02, -3.8159e-02,  1.5196e-02,\n",
      "          2.6438e-02, -5.9504e-03, -1.9933e-02, -3.4214e-02, -1.1729e-02,\n",
      "          7.2337e-05,  8.6612e-03, -7.3833e-03, -1.7970e-02, -9.2318e-03,\n",
      "          1.4934e-02, -2.0487e-02,  1.3870e-03,  1.9062e-02,  1.7293e-02,\n",
      "          1.3692e-02, -2.6540e-02, -1.5781e-02,  1.8030e-02, -1.3686e-02,\n",
      "         -4.3698e-02]], grad_fn=<MulBackward0>)\n",
      "torch.Size([1, 32])\n",
      "torch.Size([1, 256])\n"
     ]
    },
    {
     "ename": "RuntimeError",
     "evalue": "Trying to backward through the graph a second time (or directly access saved tensors after they have already been freed). Saved intermediate values of the graph are freed when you call .backward() or autograd.grad(). Specify retain_graph=True if you need to backward through the graph a second time or if you need to access saved tensors after calling backward.",
     "output_type": "error",
     "traceback": [
      "\u001B[0;31m---------------------------------------------------------------------------\u001B[0m",
      "\u001B[0;31mRuntimeError\u001B[0m                              Traceback (most recent call last)",
      "Input \u001B[0;32mIn [82]\u001B[0m, in \u001B[0;36m<cell line: 23>\u001B[0;34m()\u001B[0m\n\u001B[1;32m     25\u001B[0m \u001B[38;5;28mprint\u001B[39m(category_tensor)\n\u001B[1;32m     26\u001B[0m \u001B[38;5;28mprint\u001B[39m(line_tensor)\n\u001B[0;32m---> 27\u001B[0m output, loss \u001B[38;5;241m=\u001B[39m \u001B[43mtrain\u001B[49m\u001B[43m(\u001B[49m\u001B[43mcategory_tensor\u001B[49m\u001B[43m,\u001B[49m\u001B[43m \u001B[49m\u001B[43mline_tensor\u001B[49m\u001B[43m)\u001B[49m\n\u001B[1;32m     28\u001B[0m current_loss \u001B[38;5;241m+\u001B[39m\u001B[38;5;241m=\u001B[39m loss\n\u001B[1;32m     30\u001B[0m \u001B[38;5;66;03m# Print iter number, loss, name and guess\u001B[39;00m\n",
      "Input \u001B[0;32mIn [81]\u001B[0m, in \u001B[0;36mtrain\u001B[0;34m(category_tensor, line_tensor)\u001B[0m\n\u001B[1;32m     13\u001B[0m     output, hidden_tensor \u001B[38;5;241m=\u001B[39m lstm(line_tensor[i], hidden_tensor)\n\u001B[1;32m     15\u001B[0m loss \u001B[38;5;241m=\u001B[39m criterion(output, category_tensor)\n\u001B[0;32m---> 16\u001B[0m \u001B[43mloss\u001B[49m\u001B[38;5;241;43m.\u001B[39;49m\u001B[43mbackward\u001B[49m\u001B[43m(\u001B[49m\u001B[43m)\u001B[49m\n\u001B[1;32m     18\u001B[0m \u001B[38;5;66;03m# Add parameters' gradients to their values, multiplied by learning rate\u001B[39;00m\n\u001B[1;32m     19\u001B[0m \u001B[38;5;28;01mfor\u001B[39;00m p \u001B[38;5;129;01min\u001B[39;00m lstm\u001B[38;5;241m.\u001B[39mparameters():\n",
      "File \u001B[0;32m~/git/courses/venv/lib/python3.8/site-packages/torch/_tensor.py:396\u001B[0m, in \u001B[0;36mTensor.backward\u001B[0;34m(self, gradient, retain_graph, create_graph, inputs)\u001B[0m\n\u001B[1;32m    387\u001B[0m \u001B[38;5;28;01mif\u001B[39;00m has_torch_function_unary(\u001B[38;5;28mself\u001B[39m):\n\u001B[1;32m    388\u001B[0m     \u001B[38;5;28;01mreturn\u001B[39;00m handle_torch_function(\n\u001B[1;32m    389\u001B[0m         Tensor\u001B[38;5;241m.\u001B[39mbackward,\n\u001B[1;32m    390\u001B[0m         (\u001B[38;5;28mself\u001B[39m,),\n\u001B[0;32m   (...)\u001B[0m\n\u001B[1;32m    394\u001B[0m         create_graph\u001B[38;5;241m=\u001B[39mcreate_graph,\n\u001B[1;32m    395\u001B[0m         inputs\u001B[38;5;241m=\u001B[39minputs)\n\u001B[0;32m--> 396\u001B[0m \u001B[43mtorch\u001B[49m\u001B[38;5;241;43m.\u001B[39;49m\u001B[43mautograd\u001B[49m\u001B[38;5;241;43m.\u001B[39;49m\u001B[43mbackward\u001B[49m\u001B[43m(\u001B[49m\u001B[38;5;28;43mself\u001B[39;49m\u001B[43m,\u001B[49m\u001B[43m \u001B[49m\u001B[43mgradient\u001B[49m\u001B[43m,\u001B[49m\u001B[43m \u001B[49m\u001B[43mretain_graph\u001B[49m\u001B[43m,\u001B[49m\u001B[43m \u001B[49m\u001B[43mcreate_graph\u001B[49m\u001B[43m,\u001B[49m\u001B[43m \u001B[49m\u001B[43minputs\u001B[49m\u001B[38;5;241;43m=\u001B[39;49m\u001B[43minputs\u001B[49m\u001B[43m)\u001B[49m\n",
      "File \u001B[0;32m~/git/courses/venv/lib/python3.8/site-packages/torch/autograd/__init__.py:173\u001B[0m, in \u001B[0;36mbackward\u001B[0;34m(tensors, grad_tensors, retain_graph, create_graph, grad_variables, inputs)\u001B[0m\n\u001B[1;32m    168\u001B[0m     retain_graph \u001B[38;5;241m=\u001B[39m create_graph\n\u001B[1;32m    170\u001B[0m \u001B[38;5;66;03m# The reason we repeat same the comment below is that\u001B[39;00m\n\u001B[1;32m    171\u001B[0m \u001B[38;5;66;03m# some Python versions print out the first line of a multi-line function\u001B[39;00m\n\u001B[1;32m    172\u001B[0m \u001B[38;5;66;03m# calls in the traceback and some print out the last line\u001B[39;00m\n\u001B[0;32m--> 173\u001B[0m \u001B[43mVariable\u001B[49m\u001B[38;5;241;43m.\u001B[39;49m\u001B[43m_execution_engine\u001B[49m\u001B[38;5;241;43m.\u001B[39;49m\u001B[43mrun_backward\u001B[49m\u001B[43m(\u001B[49m\u001B[43m  \u001B[49m\u001B[38;5;66;43;03m# Calls into the C++ engine to run the backward pass\u001B[39;49;00m\n\u001B[1;32m    174\u001B[0m \u001B[43m    \u001B[49m\u001B[43mtensors\u001B[49m\u001B[43m,\u001B[49m\u001B[43m \u001B[49m\u001B[43mgrad_tensors_\u001B[49m\u001B[43m,\u001B[49m\u001B[43m \u001B[49m\u001B[43mretain_graph\u001B[49m\u001B[43m,\u001B[49m\u001B[43m \u001B[49m\u001B[43mcreate_graph\u001B[49m\u001B[43m,\u001B[49m\u001B[43m \u001B[49m\u001B[43minputs\u001B[49m\u001B[43m,\u001B[49m\n\u001B[1;32m    175\u001B[0m \u001B[43m    \u001B[49m\u001B[43mallow_unreachable\u001B[49m\u001B[38;5;241;43m=\u001B[39;49m\u001B[38;5;28;43;01mTrue\u001B[39;49;00m\u001B[43m,\u001B[49m\u001B[43m \u001B[49m\u001B[43maccumulate_grad\u001B[49m\u001B[38;5;241;43m=\u001B[39;49m\u001B[38;5;28;43;01mTrue\u001B[39;49;00m\u001B[43m)\u001B[49m\n",
      "\u001B[0;31mRuntimeError\u001B[0m: Trying to backward through the graph a second time (or directly access saved tensors after they have already been freed). Saved intermediate values of the graph are freed when you call .backward() or autograd.grad(). Specify retain_graph=True if you need to backward through the graph a second time or if you need to access saved tensors after calling backward."
     ]
    }
   ],
   "source": [
    "import time\n",
    "import math\n",
    "\n",
    "n_iters = 100000\n",
    "print_every = 5000\n",
    "plot_every = 1000\n",
    "\n",
    "# Keep track of losses for plotting\n",
    "current_loss = 0\n",
    "all_losses = []\n",
    "\n",
    "\n",
    "def timeSince(since):\n",
    "    now = time.time()\n",
    "    s = now - since\n",
    "    m = math.floor(s / 60)\n",
    "    s -= m * 60\n",
    "    return '%dm %ds' % (m, s)\n",
    "\n",
    "\n",
    "start = time.time()\n",
    "\n",
    "for iter in range(1, n_iters + 1):\n",
    "    category, line, category_tensor, line_tensor = randomTrainingExample()\n",
    "    print(category_tensor)\n",
    "    print(line_tensor)\n",
    "    output, loss = train(category_tensor, line_tensor)\n",
    "    current_loss += loss\n",
    "\n",
    "    # Print iter number, loss, name and guess\n",
    "    if iter % print_every == 0:\n",
    "        guess, guess_i = categoryFromOutput(output)\n",
    "        correct = '✓' if guess == category else '✗ (%s)' % category\n",
    "        print(\n",
    "            '%d %d%% (%s) %.4f %s / %s %s' % (iter, iter / n_iters * 100, timeSince(start), loss, line, guess, correct))\n",
    "\n",
    "    # Add current loss avg to list of losses\n",
    "    if iter % plot_every == 0:\n",
    "        all_losses.append(current_loss / plot_every)\n",
    "        current_loss = 0"
   ],
   "metadata": {
    "collapsed": false,
    "pycharm": {
     "name": "#%%\n"
    }
   }
  },
  {
   "cell_type": "markdown",
   "source": [
    "Plotting the Results\n",
    "--------------------\n",
    "\n",
    "Plotting the historical loss from ``all_losses`` shows the network\n",
    "learning:\n",
    "\n",
    "\n"
   ],
   "metadata": {
    "collapsed": false,
    "pycharm": {
     "name": "#%% md\n"
    }
   }
  },
  {
   "cell_type": "code",
   "execution_count": 25,
   "outputs": [
    {
     "data": {
      "text/plain": "[<matplotlib.lines.Line2D at 0x7f2fb15d1dc0>]"
     },
     "execution_count": 25,
     "metadata": {},
     "output_type": "execute_result"
    },
    {
     "data": {
      "text/plain": "<Figure size 432x288 with 1 Axes>",
      "image/png": "[encoded data removed]"
     },
     "metadata": {
      "needs_background": "light"
     },
     "output_type": "display_data"
    }
   ],
   "source": [
    "import matplotlib.pyplot as plt\n",
    "import matplotlib.ticker as ticker\n",
    "\n",
    "plt.figure()\n",
    "plt.plot(all_losses)"
   ],
   "metadata": {
    "collapsed": false,
    "pycharm": {
     "name": "#%%\n"
    }
   }
  },
  {
   "cell_type": "markdown",
   "source": [
    "Evaluating the Results\n",
    "======================\n",
    "\n",
    "To see how well the network performs on different categories, we will\n",
    "create a confusion matrix, indicating for every actual language (rows)\n",
    "which language the network guesses (columns). To calculate the confusion\n",
    "matrix a bunch of samples are run through the network with\n",
    "``evaluate()``, which is the same as ``train()`` minus the backprop.\n",
    "\n",
    "\n"
   ],
   "metadata": {
    "collapsed": false,
    "pycharm": {
     "name": "#%% md\n"
    }
   }
  },
  {
   "cell_type": "code",
   "execution_count": 26,
   "outputs": [
    {
     "name": "stderr",
     "output_type": "stream",
     "text": [
      "/tmp/ipykernel_41280/830367755.py:35: UserWarning: FixedFormatter should only be used together with FixedLocator\n",
      "  ax.set_xticklabels([''] + all_categories, rotation=90)\n",
      "/tmp/ipykernel_41280/830367755.py:36: UserWarning: FixedFormatter should only be used together with FixedLocator\n",
      "  ax.set_yticklabels([''] + all_categories)\n"
     ]
    },
    {
     "data": {
      "text/plain": "<Figure size 432x288 with 2 Axes>",
      "image/png": "[encoded data removed]"
     },
     "metadata": {
      "needs_background": "light"
     },
     "output_type": "display_data"
    }
   ],
   "source": [
    "# Keep track of correct guesses in a confusion matrix\n",
    "confusion = torch.zeros(n_categories, n_categories)\n",
    "n_confusion = 10000\n",
    "\n",
    "\n",
    "# Just return an output given a line\n",
    "def evaluate(line_tensor):\n",
    "    hidden = rnn.initHidden()\n",
    "\n",
    "    for i in range(line_tensor.size()[0]):\n",
    "        output, hidden = rnn(line_tensor[i], hidden)\n",
    "\n",
    "    return output\n",
    "\n",
    "\n",
    "# Go through a bunch of examples and record which are correctly guessed\n",
    "for i in range(n_confusion):\n",
    "    category, line, category_tensor, line_tensor = randomTrainingExample()\n",
    "    output = evaluate(line_tensor)\n",
    "    guess, guess_i = categoryFromOutput(output)\n",
    "    category_i = all_categories.index(category)\n",
    "    confusion[category_i][guess_i] += 1\n",
    "\n",
    "# Normalize by dividing every row by its sum\n",
    "for i in range(n_categories):\n",
    "    confusion[i] = confusion[i] / confusion[i].sum()\n",
    "\n",
    "# Set up plot\n",
    "fig = plt.figure()\n",
    "ax = fig.add_subplot(111)\n",
    "cax = ax.matshow(confusion.numpy())\n",
    "fig.colorbar(cax)\n",
    "\n",
    "# Set up axes\n",
    "ax.set_xticklabels([''] + all_categories, rotation=90)\n",
    "ax.set_yticklabels([''] + all_categories)\n",
    "\n",
    "# Force label at every tick\n",
    "ax.xaxis.set_major_locator(ticker.MultipleLocator(1))\n",
    "ax.yaxis.set_major_locator(ticker.MultipleLocator(1))\n",
    "\n",
    "# sphinx_gallery_thumbnail_number = 2\n",
    "plt.show()"
   ],
   "metadata": {
    "collapsed": false,
    "pycharm": {
     "name": "#%%\n"
    }
   }
  },
  {
   "cell_type": "markdown",
   "source": [
    "You can pick out bright spots off the main axis that show which\n",
    "languages it guesses incorrectly, e.g. Chinese for Korean, and Spanish\n",
    "for Italian. It seems to do very well with Greek, and very poorly with\n",
    "English (perhaps because of overlap with other languages).\n",
    "\n",
    "\n"
   ],
   "metadata": {
    "collapsed": false,
    "pycharm": {
     "name": "#%% md\n"
    }
   }
  },
  {
   "cell_type": "code",
   "execution_count": 27,
   "outputs": [
    {
     "data": {
      "text/plain": "tensor([[0.6066, 0.2743, 0.1191],\n        [0.2129, 0.6589, 0.1282],\n        [0.0824, 0.1499, 0.7677]])"
     },
     "execution_count": 27,
     "metadata": {},
     "output_type": "execute_result"
    }
   ],
   "source": [
    "confusion"
   ],
   "metadata": {
    "collapsed": false,
    "pycharm": {
     "name": "#%%\n"
    }
   }
  },
  {
   "cell_type": "markdown",
   "source": [
    "Running on User Input\n",
    "---------------------\n",
    "\n",
    "\n"
   ],
   "metadata": {
    "collapsed": false,
    "pycharm": {
     "name": "#%% md\n"
    }
   }
  },
  {
   "cell_type": "code",
   "execution_count": 28,
   "outputs": [
    {
     "name": "stdout",
     "output_type": "stream",
     "text": [
      "\n",
      "> בועז\n",
      "(-0.48) boys\n",
      "(-1.51) unisex\n",
      "(-1.84) girls\n",
      "\n",
      "> אודי\n",
      "(-0.56) boys\n",
      "(-1.41) girls\n",
      "(-1.69) unisex\n",
      "\n",
      "> יפית\n",
      "(-0.11) girls\n",
      "(-2.47) unisex\n",
      "(-3.81) boys\n",
      "\n",
      "> אירה\n",
      "(-0.12) girls\n",
      "(-2.60) unisex\n",
      "(-3.21) boys\n"
     ]
    }
   ],
   "source": [
    "# ** Eyal **\n",
    "\n",
    "def predict(input_line, n_predictions=3):\n",
    "    print('\\n> %s' % input_line)\n",
    "    with torch.no_grad():\n",
    "        output = evaluate(lineToTensor(input_line))\n",
    "\n",
    "        # Get top N categories\n",
    "        topv, topi = output.topk(n_predictions, 1, True)\n",
    "        predictions = []\n",
    "\n",
    "        for i in range(n_predictions):\n",
    "            value = topv[0][i].item()\n",
    "            category_index = topi[0][i].item()\n",
    "            print('(%.2f) %s' % (value, all_categories[category_index]))\n",
    "            predictions.append([value, all_categories[category_index]])\n",
    "\n",
    "\n",
    "predict('בועז')\n",
    "predict('אודי')\n",
    "predict('יפית')\n",
    "predict('אירה')"
   ],
   "metadata": {
    "collapsed": false,
    "pycharm": {
     "name": "#%%\n"
    }
   }
  },
  {
   "cell_type": "code",
   "execution_count": 29,
   "metadata": {
    "id": "poqdhYgaQhFT",
    "colab": {
     "base_uri": "https://localhost:8080/"
    },
    "outputId": "beaf9995-d595-4604-c70f-7597becb638d",
    "pycharm": {
     "name": "#%%\n"
    }
   },
   "outputs": [
    {
     "name": "stdout",
     "output_type": "stream",
     "text": [
      "\n",
      "> בועז\n",
      "(-0.48) boys\n",
      "(-1.51) unisex\n",
      "(-1.84) girls\n",
      "\n",
      "> אודי\n",
      "(-0.56) boys\n",
      "(-1.41) girls\n",
      "(-1.69) unisex\n",
      "\n",
      "> יפית\n",
      "(-0.11) girls\n",
      "(-2.47) unisex\n",
      "(-3.81) boys\n",
      "\n",
      "> אירה\n",
      "(-0.12) girls\n",
      "(-2.60) unisex\n",
      "(-3.21) boys\n"
     ]
    }
   ],
   "source": [
    "def predict(input_line, n_predictions=3):\n",
    "    print('\\n> %s' % input_line)\n",
    "    with torch.no_grad():\n",
    "        output = evaluate(lineToTensor(input_line))\n",
    "\n",
    "        # Get top N categories\n",
    "        topv, topi = output.topk(n_predictions, 1, True)\n",
    "        predictions = []\n",
    "\n",
    "        for i in range(n_predictions):\n",
    "            value = topv[0][i].item()\n",
    "            category_index = topi[0][i].item()\n",
    "            print('(%.2f) %s' % (value, all_categories[category_index]))\n",
    "            predictions.append([value, all_categories[category_index]])\n",
    "\n",
    "\n",
    "predict('בועז')\n",
    "predict('אודי')\n",
    "predict('יפית')\n",
    "predict('אירה')"
   ]
  },
  {
   "cell_type": "markdown",
   "metadata": {
    "id": "hCmpZArdQhFT",
    "pycharm": {
     "name": "#%% md\n"
    }
   },
   "source": [
    "The final versions of the scripts `in the Practical PyTorch\n",
    "repo <https://github.com/spro/practical-pytorch/tree/master/char-rnn-classification>`__\n",
    "split the above code into a few files:\n",
    "\n",
    "-  ``data.py`` (loads files)\n",
    "-  ``model.py`` (defines the RNN)\n",
    "-  ``train.py`` (runs training)\n",
    "-  ``predict.py`` (runs ``predict()`` with command line arguments)\n",
    "-  ``server.py`` (serve prediction as a JSON API with bottle.py)\n",
    "\n",
    "Run ``train.py`` to train and save the network.\n",
    "\n",
    "Run ``predict.py`` with a name to view predictions:\n",
    "\n",
    "::\n",
    "\n",
    "    $ python predict.py Hazaki\n",
    "    (-0.42) Japanese\n",
    "    (-1.39) Polish\n",
    "    (-3.51) Czech\n",
    "\n",
    "Run ``server.py`` and visit http://localhost:5533/Yourname to get JSON\n",
    "output of predictions.\n",
    "\n",
    "\n"
   ]
  },
  {
   "cell_type": "markdown",
   "metadata": {
    "id": "EfR76xhUQhFT",
    "pycharm": {
     "name": "#%% md\n"
    }
   },
   "source": [
    "Exercises\n",
    "=========\n",
    "\n",
    "-  Try with a different dataset of line -> category, for example:\n",
    "\n",
    "   -  Any word -> language\n",
    "   -  First name -> gender\n",
    "   -  Character name -> writer\n",
    "   -  Page title -> blog or subreddit\n",
    "\n",
    "-  Get better results with a bigger and/or better shaped network\n",
    "\n",
    "   -  Add more linear layers\n",
    "   -  Try the ``nn.LSTM`` and ``nn.GRU`` layers\n",
    "   -  Combine multiple of these RNNs as a higher level network\n",
    "\n",
    "\n"
   ]
  },
  {
   "cell_type": "code",
   "execution_count": null,
   "outputs": [],
   "source": [],
   "metadata": {
    "collapsed": false,
    "pycharm": {
     "name": "#%%\n"
    }
   }
  },
  {
   "cell_type": "code",
   "execution_count": 30,
   "outputs": [],
   "source": [
    "\n"
   ],
   "metadata": {
    "collapsed": false,
    "pycharm": {
     "name": "#%%\n"
    }
   }
  }
 ],
 "metadata": {
  "kernelspec": {
   "display_name": "Python 3",
   "language": "python",
   "name": "python3"
  },
  "language_info": {
   "codemirror_mode": {
    "name": "ipython",
    "version": 3
   },
   "file_extension": ".py",
   "mimetype": "text/x-python",
   "name": "python",
   "nbconvert_exporter": "python",
   "pygments_lexer": "ipython3",
   "version": "3.7.13"
  },
  "colab": {
   "name": "char_rnn_classification_tutorial.ipynb.txt",
   "provenance": []
  }
 },
 "nbformat": 4,
 "nbformat_minor": 0
}