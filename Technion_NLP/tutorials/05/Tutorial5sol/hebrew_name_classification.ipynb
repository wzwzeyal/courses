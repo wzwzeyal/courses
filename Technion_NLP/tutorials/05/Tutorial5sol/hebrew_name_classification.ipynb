{
 "cells": [
  {
   "cell_type": "code",
   "execution_count": 2,
   "metadata": {
    "id": "iw9HlVXvQhFM",
    "pycharm": {
     "name": "#%%\n"
    }
   },
   "outputs": [],
   "source": [
    "% matplotlib inline"
   ]
  },
  {
   "cell_type": "markdown",
   "metadata": {
    "id": "rykvZaURQhFN",
    "pycharm": {
     "name": "#%% md\n"
    }
   },
   "source": [
    "\n",
    "NLP From Scratch: Classifying Names with a Character-Level RNN\n",
    "**************************************************************\n",
    "**Author**: `Sean Robertson <https://github.com/spro/practical-pytorch>`_\n",
    "\n",
    "We will be building and training a basic character-level RNN to classify\n",
    "words. This tutorial, along with the following two, show how to do\n",
    "preprocess data for NLP modeling \"from scratch\", in particular not using\n",
    "many of the convenience functions of `torchtext`, so you can see how\n",
    "preprocessing for NLP modeling works at a low level.\n",
    "\n",
    "A character-level RNN reads words as a series of characters -\n",
    "outputting a prediction and \"hidden state\" at each step, feeding its\n",
    "previous hidden state into each next step. We take the final prediction\n",
    "to be the output, i.e. which class the word belongs to.\n",
    "\n",
    "Specifically, we'll train on a few thousand surnames from 18 languages\n",
    "of origin, and predict which language a name is from based on the\n",
    "spelling:\n",
    "\n",
    "::\n",
    "\n",
    "    $ python predict.py Hinton\n",
    "    (-0.47) Scottish\n",
    "    (-1.52) English\n",
    "    (-3.57) Irish\n",
    "\n",
    "    $ python predict.py Schmidhuber\n",
    "    (-0.19) German\n",
    "    (-2.48) Czech\n",
    "    (-2.68) Dutch\n",
    "\n",
    "\n",
    "**Recommended Reading:**\n",
    "\n",
    "I assume you have at least installed PyTorch, know Python, and\n",
    "understand Tensors:\n",
    "\n",
    "-  https://pytorch.org/ For installation instructions\n",
    "-  :doc:`/beginner/deep_learning_60min_blitz` to get started with PyTorch in general\n",
    "-  :doc:`/beginner/pytorch_with_examples` for a wide and deep overview\n",
    "-  :doc:`/beginner/former_torchies_tutorial` if you are former Lua Torch user\n",
    "\n",
    "It would also be useful to know about RNNs and how they work:\n",
    "\n",
    "-  `The Unreasonable Effectiveness of Recurrent Neural\n",
    "   Networks <https://karpathy.github.io/2015/05/21/rnn-effectiveness/>`__\n",
    "   shows a bunch of real life examples\n",
    "-  `Understanding LSTM\n",
    "   Networks <https://colah.github.io/posts/2015-08-Understanding-LSTMs/>`__\n",
    "   is about LSTMs specifically but also informative about RNNs in\n",
    "   general\n",
    "\n",
    "Preparing the Data\n",
    "==================\n",
    "\n",
    ".. Note::\n",
    "   Download the data from\n",
    "   `here <https://download.pytorch.org/tutorial/data.zip>`_\n",
    "   and extract it to the current directory.\n",
    "\n",
    "Included in the ``data/names`` directory are 18 text files named as\n",
    "\"[Language].txt\". Each file contains a bunch of names, one name per\n",
    "line, mostly romanized (but we still need to convert from Unicode to\n",
    "ASCII).\n",
    "\n",
    "We'll end up with a dictionary of lists of names per language,\n",
    "``{language: [names ...]}``. The generic variables \"category\" and \"line\"\n",
    "(for language and name in our case) are used for later extensibility.\n"
   ]
  },
  {
   "cell_type": "code",
   "source": [
    "hebrew_letters = \"אבגדהוזחטיכלמנסעפצקרשת\"\n",
    "hebrew_suffix_letters = \"ךםןףץ\"\n",
    "\n",
    "all_letters = hebrew_letters + hebrew_suffix_letters + \" .,;'\"\n",
    "\n",
    "n_letters = len(all_letters)"
   ],
   "metadata": {
    "id": "D66CoqOkRluD",
    "pycharm": {
     "name": "#%%\n"
    }
   },
   "execution_count": 39,
   "outputs": []
  },
  {
   "cell_type": "code",
   "execution_count": 41,
   "outputs": [
    {
     "name": "stdout",
     "output_type": "stream",
     "text": [
      "Scraping baby_names ...\n"
     ]
    },
    {
     "name": "stderr",
     "output_type": "stream",
     "text": [
      "  5%|▍         | 1/22 [00:01<00:33,  1.57s/it]"
     ]
    },
    {
     "name": "stdout",
     "output_type": "stream",
     "text": [
      "1\n",
      "א: 2\n"
     ]
    },
    {
     "name": "stderr",
     "output_type": "stream",
     "text": [
      "  5%|▍         | 1/22 [00:02<01:01,  2.91s/it]"
     ]
    },
    {
     "name": "stdout",
     "output_type": "stream",
     "text": [
      "0\n"
     ]
    },
    {
     "name": "stderr",
     "output_type": "stream",
     "text": [
      "\n"
     ]
    },
    {
     "ename": "IndexError",
     "evalue": "list index out of range",
     "output_type": "error",
     "traceback": [
      "\u001B[0;31m---------------------------------------------------------------------------\u001B[0m",
      "\u001B[0;31mIndexError\u001B[0m                                Traceback (most recent call last)",
      "Input \u001B[0;32mIn [41]\u001B[0m, in \u001B[0;36m<cell line: 169>\u001B[0;34m()\u001B[0m\n\u001B[1;32m    149\u001B[0m    \u001B[38;5;28;01mreturn\u001B[39;00m boys_names \u001B[38;5;241m+\u001B[39m unisex_names, girls_names \u001B[38;5;241m+\u001B[39m unisex_names\n\u001B[1;32m    152\u001B[0m \u001B[38;5;66;03m# israelibaby_boys_name, israelibaby_girls_name = create_from_israelibaby()\u001B[39;00m\n\u001B[1;32m    153\u001B[0m \u001B[38;5;66;03m# baby_names_boys_name, baby_names_girls_name = create_from_baby_names()\u001B[39;00m\n\u001B[1;32m    154\u001B[0m \u001B[38;5;66;03m# https://babynames.baby-land.co.il/namelist/?_sft_name_gender=unisex\u001B[39;00m\n\u001B[0;32m   (...)\u001B[0m\n\u001B[1;32m    167\u001B[0m \u001B[38;5;66;03m#\u001B[39;00m\n\u001B[1;32m    168\u001B[0m \u001B[38;5;66;03m# create_files(path, boys_name, girls_name)\u001B[39;00m\n\u001B[0;32m--> 169\u001B[0m boys, girls \u001B[38;5;241m=\u001B[39m \u001B[43mcreate_from_baby_names\u001B[49m\u001B[43m(\u001B[49m\u001B[43m)\u001B[49m\n",
      "Input \u001B[0;32mIn [41]\u001B[0m, in \u001B[0;36mcreate_from_baby_names\u001B[0;34m()\u001B[0m\n\u001B[1;32m     47\u001B[0m pages \u001B[38;5;241m=\u001B[39m soup\u001B[38;5;241m.\u001B[39mselect(\u001B[38;5;124m'\u001B[39m\u001B[38;5;124mspan[class=pagination-meta]\u001B[39m\u001B[38;5;124m'\u001B[39m)\n\u001B[1;32m     48\u001B[0m \u001B[38;5;28mprint\u001B[39m(\u001B[38;5;28mlen\u001B[39m(pages))\n\u001B[0;32m---> 49\u001B[0m nof_pages \u001B[38;5;241m=\u001B[39m \u001B[43mpages\u001B[49m\u001B[43m[\u001B[49m\u001B[38;5;241;43m0\u001B[39;49m\u001B[43m]\u001B[49m\u001B[38;5;241m.\u001B[39mtext\u001B[38;5;241m.\u001B[39msplit(\u001B[38;5;124m\"\u001B[39m\u001B[38;5;124m \u001B[39m\u001B[38;5;124m\"\u001B[39m)[\u001B[38;5;241m-\u001B[39m\u001B[38;5;241m1\u001B[39m]\n\u001B[1;32m     50\u001B[0m \u001B[38;5;28mprint\u001B[39m(\u001B[38;5;124mf\u001B[39m\u001B[38;5;124m\"\u001B[39m\u001B[38;5;132;01m{\u001B[39;00murl_suffix\u001B[38;5;132;01m}\u001B[39;00m\u001B[38;5;124m: \u001B[39m\u001B[38;5;132;01m{\u001B[39;00mnof_pages\u001B[38;5;132;01m}\u001B[39;00m\u001B[38;5;124m\"\u001B[39m)\n\u001B[1;32m     52\u001B[0m \u001B[38;5;66;03m# for t in soup.select('a[title*=פירוש]'):\u001B[39;00m\n\u001B[1;32m     53\u001B[0m \u001B[38;5;66;03m#     boys_names.append(t.text)\u001B[39;00m\n\u001B[1;32m     54\u001B[0m \u001B[38;5;66;03m#\u001B[39;00m\n\u001B[0;32m   (...)\u001B[0m\n\u001B[1;32m     60\u001B[0m \u001B[38;5;66;03m# for t in soup.select('a[title*=פירוש]'):\u001B[39;00m\n\u001B[1;32m     61\u001B[0m \u001B[38;5;66;03m#     girls_names.append(t.text)\u001B[39;00m\n",
      "\u001B[0;31mIndexError\u001B[0m: list index out of range"
     ]
    }
   ],
   "source": [
    "#  Webscarping\n",
    "import requests\n",
    "from bs4 import BeautifulSoup as bs\n",
    "import tqdm\n",
    "\n",
    "\n",
    "def extract_names(base_url, suffix):\n",
    "    \"\"\"\n",
    "    Helper function to extract names from the baby-names site\n",
    "    :param base_url: The base url to scrape\n",
    "    :param suffix: The hebrew character of the first letter of the name\n",
    "    :return:\n",
    "    \"\"\"\n",
    "    names = []\n",
    "    url = base_url.format(suffix)\n",
    "    req = requests.get(url)\n",
    "    soup = bs(req.text, 'html.parser')\n",
    "    for t in soup.select('a[title*=פירוש]'):\n",
    "        names.append(t.text)\n",
    "    return names\n",
    "\n",
    "\n",
    "def create_from_baby_names():\n",
    "    \"\"\"\n",
    "    Scrapes the 'https://www.baby-names.co.il' site,\n",
    "    Goes over the boys site, and for each letter gets the name and update the boys list\n",
    "    Do the same for the girls\n",
    "    :return: the boys list and the girl list\n",
    "    \"\"\"\n",
    "    print(\"Scraping baby_names ...\")\n",
    "\n",
    "    # boys_base_url = \"https://www.baby-names.co.il/category/%D7%9B%D7%9C-%D7%94%D7%A9%D7%9E%D7%95%D7%AA/page/{}/?ap={}\"\n",
    "\n",
    "    boys_base_url = 'https://www.baby-names.co.il/category/%D7%9B%D7%9C-%D7%94%D7%A9%D7%9E%D7%95%D7%AA/%D7%A9%D7%9E%D7%95%D7%AA-%D7%9C%D7%91%D7%A0%D7%99%D7%9D/?ap={}'\n",
    "    # girls_base_url = \"https://www.baby-names.co.il/category/%D7%9B%D7%9C-%D7%94%D7%A9%D7%9E%D7%95%D7%AA/%D7%A9%D7%9E%D7%95%D7%AA-%D7%9C%D7%91%D7%A0%D7%95%D7%AA/?ap={}\"\n",
    "\n",
    "    boys_names = []\n",
    "    girls_names = []\n",
    "\n",
    "    # hebrew_letters = \"א\"\n",
    "\n",
    "    for url_suffix in tqdm.tqdm(hebrew_letters):\n",
    "        # boys\n",
    "        url = boys_base_url.format(url_suffix)\n",
    "        req = requests.get(url)\n",
    "        soup = bs(req.text, 'html.parser')\n",
    "        pages = soup.select('span[class=pagination-meta]')\n",
    "        if (len(pages) > 0):\n",
    "            # multiple pages\n",
    "            nof_pages = pages[0].text.split(\" \")[-1]\n",
    "        else:\n",
    "            # single page\n",
    "            pass\n",
    "\n",
    "        print(f\"{url_suffix}: {nof_pages}\")\n",
    "\n",
    "        # for t in soup.select('a[title*=פירוש]'):\n",
    "        #     boys_names.append(t.text)\n",
    "        #\n",
    "        #\n",
    "        # # girls\n",
    "        # url = girls_base_url.format(url_suffix)\n",
    "        # req = requests.get(url)\n",
    "        # soup = bs(req.text, 'html.parser')\n",
    "        # for t in soup.select('a[title*=פירוש]'):\n",
    "        #     girls_names.append(t.text)\n",
    "\n",
    "    return boys_names, girls_names\n",
    "\n",
    "\n",
    "def create_from_israelibaby():\n",
    "    \"\"\"\n",
    "\n",
    "    :return:\n",
    "    \"\"\"\n",
    "    print(\"Scraping isralibaby ...\")\n",
    "    base_url = \"https://www.israelibaby.co.il/name-{}-{}\"\n",
    "\n",
    "    boys_names = []\n",
    "    girls_names = []\n",
    "\n",
    "    for letter in tqdm.tqdm(range(1)):\n",
    "        # boys\n",
    "        url = base_url.format(1, letter)\n",
    "        req = requests.get(url)\n",
    "        soup = bs(req.text, 'html.parser')\n",
    "        for t in soup.select('div[class=name]'):\n",
    "            boys_names.append(t.text)\n",
    "\n",
    "        # girls\n",
    "        url = base_url.format(2, letter)\n",
    "        req = requests.get(url)\n",
    "        soup = bs(req.text, 'html.parser')\n",
    "        for t in soup.select('div[class=name]'):\n",
    "            girls_names.append(t.text)\n",
    "\n",
    "    return list(set(boys_names)), list(set(girls_names))\n",
    "\n",
    "def create_files(output_path, boys_names, girls_names):\n",
    "    \"\"\"\n",
    "    Create the boys and girls text files\n",
    "    If a name appears both in the boys and girls list, it will be written\n",
    "    to a unisex text file\n",
    "    :param output_path: the output path\n",
    "    :param boys_names: list with all the boys names\n",
    "    :param girls_names: list with all the boys names\n",
    "    :return: None\n",
    "    \"\"\"\n",
    "\n",
    "    if not os.path.isdir(output_path):\n",
    "        os.mkdir(output_path)\n",
    "\n",
    "    unisex_names = []\n",
    "\n",
    "    with open(f'./{output_path}/boys.txt', 'w') as fp:\n",
    "        for item in boys_names:\n",
    "            if item in girls_names:\n",
    "                unisex_names.append(item)\n",
    "                girls_names.remove(item)\n",
    "            else:\n",
    "                fp.write(\"%s\\n\" % item)\n",
    "\n",
    "    with open(f'./{output_path}/girls.txt', 'w') as fp:\n",
    "        for item in girls_names:\n",
    "            fp.write(\"%s\\n\" % item)\n",
    "\n",
    "    with open(f'./{output_path}/unisex.txt', 'w') as fp:\n",
    "        for item in unisex_names:\n",
    "            fp.write(\"%s\\n\" % item)\n",
    "\n",
    "\n",
    "def create_from_babynames():\n",
    "   base_url = \"https://babynames.baby-land.co.il/namelist/?_sft_name_gender={}\"\n",
    "\n",
    "   boys_names = []\n",
    "   girls_names = []\n",
    "   unisex_names = []\n",
    "\n",
    "   req = requests.get(base_url.format(\"boy\"))\n",
    "   soup = bs(req.text, 'html.parser')\n",
    "   for t in soup.select('a[class=boys]'):\n",
    "       boys_names.append(t.text)\n",
    "\n",
    "   req = requests.get(base_url.format(\"girl\"))\n",
    "   soup = bs(req.text, 'html.parser')\n",
    "   for t in soup.select('a[class=girl]'):\n",
    "       girls_names.append(t.text)\n",
    "\n",
    "   req = requests.get(base_url.format(\"unisex\"))\n",
    "   soup = bs(req.text, 'html.parser')\n",
    "   for t in soup.select('a[class=unisex]'):\n",
    "       unisex_names.append(t.text)\n",
    "\n",
    "   return boys_names + unisex_names, girls_names + unisex_names\n",
    "\n",
    "\n",
    "# israelibaby_boys_name, israelibaby_girls_name = create_from_israelibaby()\n",
    "# baby_names_boys_name, baby_names_girls_name = create_from_baby_names()\n",
    "# https://babynames.baby-land.co.il/namelist/?_sft_name_gender=unisex\n",
    "# babynames_boys_name, babynames_girls_name = create_from_babynames()\n",
    "\n",
    "\n",
    "# boys_name = israelibaby_boys_name.extend(baby_names_boys_name)\n",
    "# girls_name = israelibaby_girls_name.extend(baby_names_girls_name)\n",
    "#\n",
    "#\n",
    "# print(len(boys_name))\n",
    "# print(len(girls_name))\n",
    "#\n",
    "#\n",
    "# path = \"hebrew_names\"\n",
    "#\n",
    "# create_files(path, boys_name, girls_name)\n",
    "boys, girls = create_from_baby_names()\n"
   ],
   "metadata": {
    "collapsed": false,
    "pycharm": {
     "name": "#%%\n"
    }
   }
  },
  {
   "cell_type": "code",
   "execution_count": 16,
   "outputs": [
    {
     "data": {
      "text/plain": "(480, 482)"
     },
     "execution_count": 16,
     "metadata": {},
     "output_type": "execute_result"
    }
   ],
   "source": [
    "len(babynames_boys_name), len(babynames_girls_name)"
   ],
   "metadata": {
    "collapsed": false,
    "pycharm": {
     "name": "#%%\n"
    }
   }
  },
  {
   "cell_type": "code",
   "execution_count": 26,
   "outputs": [
    {
     "name": "stdout",
     "output_type": "stream",
     "text": [
      "Scraping baby_names ...\n"
     ]
    },
    {
     "name": "stderr",
     "output_type": "stream",
     "text": [
      "  0%|          | 0/1 [00:01<?, ?it/s]\n"
     ]
    },
    {
     "ename": "AttributeError",
     "evalue": "ResultSet object has no attribute 'text'. You're probably treating a list of elements like a single element. Did you call find_all() when you meant to call find()?",
     "output_type": "error",
     "traceback": [
      "\u001B[0;31m---------------------------------------------------------------------------\u001B[0m",
      "\u001B[0;31mAttributeError\u001B[0m                            Traceback (most recent call last)",
      "Input \u001B[0;32mIn [26]\u001B[0m, in \u001B[0;36m<cell line: 1>\u001B[0;34m()\u001B[0m\n\u001B[0;32m----> 1\u001B[0m boys, girls \u001B[38;5;241m=\u001B[39m \u001B[43mcreate_from_baby_names\u001B[49m\u001B[43m(\u001B[49m\u001B[43m)\u001B[49m\n",
      "Input \u001B[0;32mIn [25]\u001B[0m, in \u001B[0;36mcreate_from_baby_names\u001B[0;34m()\u001B[0m\n\u001B[1;32m     46\u001B[0m     soup \u001B[38;5;241m=\u001B[39m bs(req\u001B[38;5;241m.\u001B[39mtext, \u001B[38;5;124m'\u001B[39m\u001B[38;5;124mhtml.parser\u001B[39m\u001B[38;5;124m'\u001B[39m)\n\u001B[1;32m     47\u001B[0m     pages \u001B[38;5;241m=\u001B[39m soup\u001B[38;5;241m.\u001B[39mselect(\u001B[38;5;124m'\u001B[39m\u001B[38;5;124mspan[class=pagination-meta]\u001B[39m\u001B[38;5;124m'\u001B[39m)\n\u001B[0;32m---> 48\u001B[0m     \u001B[38;5;28mprint\u001B[39m(\u001B[43mpages\u001B[49m\u001B[38;5;241;43m.\u001B[39;49m\u001B[43mtext\u001B[49m)\n\u001B[1;32m     50\u001B[0m     \u001B[38;5;66;03m# for t in soup.select('a[title*=פירוש]'):\u001B[39;00m\n\u001B[1;32m     51\u001B[0m     \u001B[38;5;66;03m#     boys_names.append(t.text)\u001B[39;00m\n\u001B[1;32m     52\u001B[0m     \u001B[38;5;66;03m#\u001B[39;00m\n\u001B[0;32m   (...)\u001B[0m\n\u001B[1;32m     58\u001B[0m     \u001B[38;5;66;03m# for t in soup.select('a[title*=פירוש]'):\u001B[39;00m\n\u001B[1;32m     59\u001B[0m     \u001B[38;5;66;03m#     girls_names.append(t.text)\u001B[39;00m\n\u001B[1;32m     61\u001B[0m \u001B[38;5;28;01mreturn\u001B[39;00m boys_names, girls_names\n",
      "File \u001B[0;32m~/git/courses/venv/lib/python3.8/site-packages/bs4/element.py:2289\u001B[0m, in \u001B[0;36mResultSet.__getattr__\u001B[0;34m(self, key)\u001B[0m\n\u001B[1;32m   2287\u001B[0m \u001B[38;5;28;01mdef\u001B[39;00m \u001B[38;5;21m__getattr__\u001B[39m(\u001B[38;5;28mself\u001B[39m, key):\n\u001B[1;32m   2288\u001B[0m     \u001B[38;5;124;03m\"\"\"Raise a helpful exception to explain a common code fix.\"\"\"\u001B[39;00m\n\u001B[0;32m-> 2289\u001B[0m     \u001B[38;5;28;01mraise\u001B[39;00m \u001B[38;5;167;01mAttributeError\u001B[39;00m(\n\u001B[1;32m   2290\u001B[0m         \u001B[38;5;124m\"\u001B[39m\u001B[38;5;124mResultSet object has no attribute \u001B[39m\u001B[38;5;124m'\u001B[39m\u001B[38;5;132;01m%s\u001B[39;00m\u001B[38;5;124m'\u001B[39m\u001B[38;5;124m. You\u001B[39m\u001B[38;5;124m'\u001B[39m\u001B[38;5;124mre probably treating a list of elements like a single element. Did you call find_all() when you meant to call find()?\u001B[39m\u001B[38;5;124m\"\u001B[39m \u001B[38;5;241m%\u001B[39m key\n\u001B[1;32m   2291\u001B[0m     )\n",
      "\u001B[0;31mAttributeError\u001B[0m: ResultSet object has no attribute 'text'. You're probably treating a list of elements like a single element. Did you call find_all() when you meant to call find()?"
     ]
    }
   ],
   "source": [
    "boys, girls = create_from_baby_names()"
   ],
   "metadata": {
    "collapsed": false,
    "pycharm": {
     "name": "#%%\n"
    }
   }
  },
  {
   "cell_type": "code",
   "execution_count": 20,
   "outputs": [
    {
     "data": {
      "text/plain": "(200, 199)"
     },
     "execution_count": 20,
     "metadata": {},
     "output_type": "execute_result"
    }
   ],
   "source": [
    "len(boys), len(girls)"
   ],
   "metadata": {
    "collapsed": false,
    "pycharm": {
     "name": "#%%\n"
    }
   }
  },
  {
   "cell_type": "code",
   "execution_count": 56,
   "outputs": [],
   "source": [
    "list1 = israelibaby_boys_name + baby_names_boys_name"
   ],
   "metadata": {
    "collapsed": false,
    "pycharm": {
     "name": "#%%\n"
    }
   }
  },
  {
   "cell_type": "code",
   "execution_count": 27,
   "outputs": [
    {
     "ename": "NameError",
     "evalue": "name 'pages' is not defined",
     "output_type": "error",
     "traceback": [
      "\u001B[0;31m---------------------------------------------------------------------------\u001B[0m",
      "\u001B[0;31mNameError\u001B[0m                                 Traceback (most recent call last)",
      "Input \u001B[0;32mIn [27]\u001B[0m, in \u001B[0;36m<cell line: 1>\u001B[0;34m()\u001B[0m\n\u001B[0;32m----> 1\u001B[0m \u001B[43mpages\u001B[49m\n",
      "\u001B[0;31mNameError\u001B[0m: name 'pages' is not defined"
     ]
    }
   ],
   "source": [
    "pages"
   ],
   "metadata": {
    "collapsed": false,
    "pycharm": {
     "name": "#%%\n"
    }
   }
  },
  {
   "cell_type": "code",
   "execution_count": 28,
   "outputs": [
    {
     "ename": "NameError",
     "evalue": "name 'israelibaby_boys_name' is not defined",
     "output_type": "error",
     "traceback": [
      "\u001B[0;31m---------------------------------------------------------------------------\u001B[0m",
      "\u001B[0;31mNameError\u001B[0m                                 Traceback (most recent call last)",
      "Input \u001B[0;32mIn [28]\u001B[0m, in \u001B[0;36m<cell line: 1>\u001B[0;34m()\u001B[0m\n\u001B[0;32m----> 1\u001B[0m \u001B[38;5;28mlen\u001B[39m(\u001B[43misraelibaby_boys_name\u001B[49m), \u001B[38;5;28mlen\u001B[39m(baby_names_boys_name)\n",
      "\u001B[0;31mNameError\u001B[0m: name 'israelibaby_boys_name' is not defined"
     ]
    }
   ],
   "source": [
    "len(israelibaby_boys_name), len(baby_names_boys_name)"
   ],
   "metadata": {
    "collapsed": false,
    "pycharm": {
     "name": "#%%\n"
    }
   }
  },
  {
   "cell_type": "code",
   "execution_count": 65,
   "outputs": [
    {
     "data": {
      "text/plain": "(284, 200)"
     },
     "execution_count": 65,
     "metadata": {},
     "output_type": "execute_result"
    }
   ],
   "source": [
    "len(list(set(israelibaby_boys_name))), len(list(set(baby_names_boys_name)))"
   ],
   "metadata": {
    "collapsed": false,
    "pycharm": {
     "name": "#%%\n"
    }
   }
  },
  {
   "cell_type": "code",
   "execution_count": null,
   "outputs": [],
   "source": [],
   "metadata": {
    "collapsed": false,
    "pycharm": {
     "name": "#%%\n"
    }
   }
  },
  {
   "cell_type": "code",
   "execution_count": 66,
   "outputs": [],
   "source": [
    "with open(f'./israelibaby_boys_name.txt', 'w') as fp:\n",
    "    for item in israelibaby_boys_name:\n",
    "        fp.write(\"%s\\n\" % item)"
   ],
   "metadata": {
    "collapsed": false,
    "pycharm": {
     "name": "#%%\n"
    }
   }
  },
  {
   "cell_type": "code",
   "execution_count": 52,
   "outputs": [
    {
     "data": {
      "text/plain": "200"
     },
     "execution_count": 52,
     "metadata": {},
     "output_type": "execute_result"
    }
   ],
   "source": [
    "len(set(baby_names_boys_name))"
   ],
   "metadata": {
    "collapsed": false,
    "pycharm": {
     "name": "#%%\n"
    }
   }
  },
  {
   "cell_type": "code",
   "execution_count": null,
   "outputs": [],
   "source": [],
   "metadata": {
    "collapsed": false,
    "pycharm": {
     "name": "#%%\n"
    }
   }
  },
  {
   "cell_type": "code",
   "execution_count": 41,
   "outputs": [
    {
     "data": {
      "text/plain": "1630"
     },
     "execution_count": 41,
     "metadata": {},
     "output_type": "execute_result"
    }
   ],
   "source": [
    "len(list(dict.fromkeys(israelibaby_boys_name + baby_names_boys_name)))"
   ],
   "metadata": {
    "collapsed": false,
    "pycharm": {
     "name": "#%%\n"
    }
   }
  },
  {
   "cell_type": "code",
   "execution_count": 20,
   "outputs": [
    {
     "data": {
      "text/plain": "{'אביצור',\n 'יאיר',\n 'אוריאל',\n 'ברקן',\n 'מני',\n 'ישעיהו',\n 'רוי',\n 'ברוש',\n 'שפיר',\n 'מישל',\n 'לייב',\n 'לבן',\n 'גרשם',\n 'נופר',\n 'רום',\n 'לוי',\n 'חצב',\n 'קלוד',\n 'טולי',\n 'רוני',\n 'עשהאל',\n 'אוצר',\n 'גיתי',\n 'שלמי',\n 'בר יוחאי',\n 'ברוס',\n 'אחינועם',\n 'אפק',\n 'יוליו',\n 'אביהוד',\n 'אביעד',\n 'אודי',\n 'רנאל',\n 'הד',\n 'חזון',\n 'שמריה',\n 'שעיה',\n 'יצחק',\n 'אדי',\n 'אורגיל',\n 'מגן',\n 'לידי',\n 'מיטבאל',\n 'ריילי',\n 'ישגב',\n 'יפתח',\n 'עדן',\n 'גולני',\n \"ז'קי\",\n 'שניאל',\n 'גאות',\n 'ידעיה',\n 'וידה',\n 'פיני',\n 'פדות',\n 'קארן',\n 'ידיר',\n 'שוני',\n 'יעקב',\n 'הילל',\n 'זרובבל',\n 'כתריאל',\n 'רונלד',\n 'אברי',\n 'אחישי',\n 'תבור',\n 'שורק',\n 'משי',\n 'עצמון',\n 'סימן טוב',\n 'חיליק',\n 'גרשום',\n 'מוריאל',\n 'פאול',\n 'ליעד',\n \"ג'ואן\",\n 'נסלי',\n 'כליל',\n 'חופי',\n 'שפי',\n 'אליאס',\n 'עינן',\n 'לישר',\n 'רוניה',\n 'הנרי',\n 'יועד',\n 'רביב',\n 'ישעיה',\n 'נדיב',\n 'ירמיה',\n 'אורייאן',\n 'כנען',\n 'אורחי',\n 'בן ברוך',\n 'חוזה',\n 'עידן',\n 'יותם',\n 'ניסים',\n 'לורי',\n 'הוגו',\n 'נירן',\n 'שאשא',\n 'מנואל',\n 'עיטור',\n 'אורגד',\n 'אחינדב',\n 'עוזר',\n 'פרנסיס',\n 'יסעור',\n 'אורלין',\n 'ירמיהו',\n 'תרון',\n 'דרורלי',\n 'דור',\n 'גוסטב',\n 'סייר',\n 'רנדי',\n 'כתר',\n 'רונן',\n 'לידר',\n 'שחק',\n 'לייזר',\n \"ז'ק\",\n 'יוסף',\n 'עפר',\n 'אדלה',\n 'תומאס',\n 'תום',\n 'ליהוד',\n 'אדמונד',\n 'ישכר',\n 'שמחי',\n 'יחי',\n 'שיא',\n 'אוריה',\n 'נהור',\n 'בניאל',\n 'יאר',\n 'טובאל',\n 'שאלתיאל',\n 'שניאור',\n 'ארגמן',\n 'רתם',\n 'וולטר',\n 'בן דוד',\n 'עמיר',\n 'אהובי',\n \"ג'רי\",\n 'ירושלים',\n 'מוריס',\n 'טבת',\n 'מייק',\n 'הילי',\n 'ניקו',\n 'רן',\n 'רענן',\n 'קדם',\n 'ששי',\n 'טדי',\n 'אגם',\n 'יהויקים',\n 'נרי',\n 'כרם יה',\n 'אלון',\n 'בוריס',\n 'כינר',\n 'בנאל',\n 'נתאי',\n 'שילה',\n 'צליל',\n 'ויקטור',\n 'רצון',\n 'אביעוז',\n 'ירנין',\n 'צוריה',\n 'אלעד',\n 'אביחיל',\n 'שלום',\n 'יום טוב',\n 'הוד',\n 'דניס',\n 'עדיחן',\n \"צ'רלי\",\n 'לאל',\n 'סמואל',\n 'יחד',\n 'גן',\n 'אמית',\n 'מתי',\n \"ג'רלד\",\n 'לי-און',\n 'זואל',\n 'עזרא',\n 'אלדר',\n 'יפי',\n 'פדהצור',\n 'צדקה',\n 'נעם',\n 'היכל',\n 'אילעאי',\n 'גילעד',\n 'תמוז',\n 'יצהל',\n 'פרדיננד',\n 'אור שחר',\n 'ברנרדו',\n 'מרטין',\n 'סחף',\n 'אביהו',\n 'גילי',\n 'שבח',\n 'יעקוב',\n 'מכבי',\n 'אלישיב',\n 'גביש',\n 'קלי',\n 'מרון',\n 'אודה',\n 'ויקי',\n 'גרשון',\n 'יוני',\n 'אביעם',\n 'יששכר',\n 'עילאי',\n 'ינוב',\n 'שובאל',\n 'פז',\n 'אליהו',\n 'ידין',\n 'אייל',\n 'אטקה',\n 'אורם',\n 'דנאור',\n 'יערי',\n 'כדן',\n 'ציון',\n 'אריק',\n 'אורחן',\n 'זיסי',\n 'פטל',\n 'יהלום',\n 'ברוק',\n \"ריצ'ארד\",\n 'יואש',\n 'ענג',\n 'סיטר',\n 'קמאי',\n 'מרסל',\n 'גבעון',\n 'הינדל',\n 'עתיד',\n 'ינעם',\n 'נצח',\n 'סביון',\n 'ניסו',\n 'ליהוא',\n 'נירי',\n 'אבישלום',\n 'הנס',\n 'ליעוז',\n 'איילון',\n 'יעד',\n 'דינור',\n 'צור',\n 'אבריאל',\n 'סער',\n 'טיראן',\n 'עמיתי',\n 'חנן',\n 'ישי',\n 'מיקל',\n 'קמה',\n 'עגור',\n 'צוריאל',\n 'חורש',\n 'דוד',\n 'כפיר',\n 'עמינדב',\n 'עד',\n 'נחל',\n 'אשר',\n 'שחרי',\n 'אורל',\n 'דיויד',\n 'אביר',\n 'חרמון',\n 'תל אביב',\n 'שמרי',\n 'מושי',\n 'ליאור ',\n 'נחמן',\n \"ויאצ'סלב\",\n 'צופי',\n 'ירדן',\n 'רפאל',\n 'לב',\n 'עתניאל',\n 'עמירם',\n 'טמיר',\n 'שם-טוב',\n 'שמי',\n 'ליאם',\n 'אמציה ',\n 'אודם',\n 'ידיד',\n 'אלירז',\n 'אלאורי',\n 'אימרי',\n 'סשה',\n 'פנחס',\n 'ים',\n 'ברק',\n 'איליה',\n 'עוגן',\n 'בצלאל',\n 'ברנרד',\n 'ניצן',\n 'ולדה',\n 'אבינח',\n 'אביסף',\n 'מרק',\n 'איוב',\n 'פיליפ',\n 'ברי',\n 'אסי',\n 'מעינה',\n 'פבלו',\n 'גלאור',\n 'חזקיה',\n 'עמל',\n 'שריאל',\n 'ניקולאי',\n 'אלרוי',\n 'נטע',\n 'אורלב',\n 'נחשון',\n 'מרחב',\n 'בר מזל',\n 'פינחס',\n 'אבינר',\n 'דרור',\n 'אדרת',\n 'גולן',\n 'יזרעאל',\n 'לוקה',\n 'ויליאם',\n 'סגל',\n 'מנדי',\n 'צחי',\n 'הרצל',\n 'גוראל',\n 'נתיב',\n 'מטי',\n 'מאיר',\n 'מנחם',\n 'גורי',\n 'זיוון',\n \"ג'ון\",\n 'של',\n 'רובי',\n 'דורון',\n 'רוברט',\n 'קאיה',\n 'אהרן',\n 'מרקו',\n 'ליי',\n 'אבניר',\n 'ישפה',\n 'ליעם',\n 'מיסי',\n 'בילי',\n 'ליאלי',\n 'הארי',\n 'אלרום',\n 'אפיק',\n 'רמי',\n 'נחלה',\n 'דגן',\n 'דניאלי ',\n 'אדריאן',\n 'אביחי',\n 'אילון',\n 'אוריין',\n 'יחיעם',\n 'נוגה',\n 'קולין',\n 'אור החיים',\n 'אוהד',\n 'ליהם',\n 'אושרי',\n 'שביב',\n 'תומס',\n 'אלכס',\n 'יפת',\n 'דימיטרי',\n 'בר אוריין',\n 'תאיי',\n 'בירן',\n 'דודי',\n 'בתואל',\n 'אריאל',\n 'ירחמיאל',\n 'יכין',\n 'נזר',\n 'יהונתן',\n 'אחיה',\n 'יהואש',\n 'שוקי',\n 'כנור',\n 'סולי',\n 'מגד',\n 'אושריאל',\n 'אושן',\n 'נעמיה',\n 'יאשיהו',\n 'גוני',\n 'חוף',\n 'שמיל',\n \"ג'יל\",\n 'כותל',\n 'ישראל',\n 'בוצר',\n 'ראיין',\n 'שומרון',\n 'סי',\n 'יגיל',\n 'אורי',\n 'אפי',\n 'עברי',\n 'יה לי',\n 'פביאן',\n 'אליי',\n 'רע',\n 'מבשר',\n 'דוריאל',\n 'יקותיאל',\n 'ינאי',\n 'הרווי',\n 'סלי',\n 'מילאן',\n 'אהד',\n 'לוריא',\n 'אלרואי',\n 'אבימלך',\n 'תובל',\n 'בר',\n 'יחיאב',\n \"יוג'ין\",\n 'יתר',\n 'קרי',\n 'סידני',\n 'גברי',\n 'סאני',\n 'רהב',\n 'שלדון',\n 'הרדוף',\n 'עדו',\n 'סגיב',\n 'עמיהוד',\n 'תגל',\n 'קיט',\n 'נטף',\n 'אביתר',\n 'שלג',\n 'צבר',\n 'כורש',\n 'בריאן',\n 'ליגל',\n 'נתי',\n 'בלדד',\n 'ניר',\n 'גדליהו',\n 'שפע',\n 'ריף',\n 'לשם',\n 'לו',\n 'עמרם',\n 'אהב',\n 'נבו',\n 'אבישי',\n 'מתנה',\n 'כסיף',\n 'חלום',\n 'היילי',\n 'אליקים',\n 'אדוורד',\n 'חבר',\n 'סיטאר',\n 'דימה',\n 'דילן',\n 'תואם',\n 'מרדכי',\n 'פביו',\n 'אברם',\n \"ג'וי\",\n 'אבניאל',\n 'נתן',\n 'רובין',\n 'רזיה',\n 'בני',\n 'לירם',\n 'דובב',\n 'דנאל',\n 'אופרי',\n 'טופז',\n 'זיסל',\n 'ויטה',\n 'רונאל',\n 'ברונו',\n 'סמיון',\n \"צ'רלס\",\n 'ברוך',\n 'עומרי',\n 'ליאד',\n 'בנציון',\n 'בוגדן',\n 'דבש',\n 'מוריה',\n 'קרת',\n 'בוני',\n 'נמרוד',\n 'שיר הלל',\n 'אהליאב',\n 'קים',\n 'נוריה',\n 'שדה',\n 'אוסקר',\n 'דוידי',\n 'יגאל',\n 'ליבנה',\n 'פארן',\n 'סיוון',\n 'תומר',\n 'לורן',\n 'נעמן',\n 'אידן',\n 'כיסוף',\n 'גדי',\n 'סטיב',\n 'חגי',\n 'שירין',\n 'זרח',\n \"ג'יי\",\n 'תפארת',\n 'שפריר',\n 'בן-אל',\n \"ג'יימס\",\n \"ג'ונתן\",\n 'ישיב',\n 'טובי',\n 'יקי',\n 'רזי',\n 'רזיאל',\n 'בשן',\n 'אבינעם',\n 'אחימאיר',\n 'אגס',\n 'קני',\n 'ניקה',\n 'גידי',\n 'אסף',\n 'נאור',\n 'אברהם',\n 'גיתאי',\n 'גבריאל',\n 'שני',\n 'אביגדור',\n 'הילרי',\n 'רנן',\n 'שמעיהו',\n 'שוהם',\n 'חביב',\n 'יהונדב',\n 'אדום',\n 'גיל',\n 'אחיאב',\n 'יוגב',\n 'יתרו',\n 'גרייס',\n 'אביגד',\n 'חנוכה',\n 'נתניאל',\n 'אחיעם',\n 'חסיד',\n 'אוריעוז',\n 'עינם',\n 'אוטו',\n 'עזר',\n 'אהרון',\n 'ריו',\n 'אבינדב',\n 'מוני',\n 'תמיר',\n 'תניר',\n 'עציון',\n 'קטלין',\n 'שהם',\n 'ליאן',\n 'גרא',\n \"ג'ואי\",\n 'גאי',\n 'דניאל',\n 'משולם',\n 'אלירן',\n 'נאוראי',\n 'יבשם',\n 'לישי',\n 'ליבא',\n 'ליחן',\n 'מארק',\n 'אורון',\n 'מטר',\n 'סמי',\n 'אוריאן',\n 'יון',\n 'ליאור',\n 'זבולון',\n 'ליר',\n 'עתר',\n 'גליל',\n 'צביקה',\n 'ירושלם',\n 'איבי',\n 'ריבי',\n 'אבא',\n 'אורעד',\n 'מרוין',\n 'טום',\n 'ליפא',\n 'עמיטל',\n 'מלאך',\n 'נוה',\n 'אוריום',\n 'דולב',\n 'שירז',\n 'ריסן',\n 'אברום',\n 'נועז',\n 'קול',\n 'יבגני',\n 'אודאל',\n 'סלה',\n 'קרול',\n 'ליאונור',\n 'טל',\n 'תשובה',\n 'איוון',\n 'דומיניק',\n 'ליטל',\n 'עירן',\n 'סוף',\n 'עירם',\n 'לירי',\n 'הללי',\n 'אביבי',\n 'רואי',\n 'ריאן',\n 'מרום',\n 'הילאי',\n 'רמון',\n 'מעגן',\n 'יחיעד',\n 'קשת',\n 'פאר',\n 'תומי',\n 'הווארד',\n 'גד',\n 'מיכה',\n 'לחן',\n 'יוחנן',\n 'אוסי',\n 'פרנסואה',\n 'פרנק',\n 'נתנאל',\n 'ניתאי',\n 'סלביק',\n 'נרקיס',\n 'אברון',\n 'אבנט',\n 'סטיבן',\n 'רנט',\n 'קיריל',\n 'פרד',\n 'מאירי',\n 'ניקולה',\n 'מלך',\n 'קציר',\n 'מתניה',\n 'טרה',\n 'אליאל',\n 'פבל',\n 'לוריין',\n 'תבל',\n 'דויד',\n 'ליגד',\n 'ארתור',\n 'פזי',\n 'בז',\n 'קידר',\n 'ריי',\n 'רפי',\n 'מימון',\n 'דר',\n 'אליה',\n \"רוג'ר\",\n 'אחינעם',\n 'לאוניד',\n 'אהוב',\n 'ילון',\n 'ולרי',\n 'דראל',\n 'מישה',\n 'מתתאל',\n 'פדריקו',\n 'הרן',\n \"ג'ו\",\n 'טל אל',\n 'שמיר',\n 'אלקנה',\n 'חסד',\n 'יונדב',\n 'מרנין',\n 'אהבניאל',\n 'צפריר',\n 'יבניאל',\n 'נבות',\n 'מיטב',\n 'אליסף',\n 'דונלד',\n 'דביר',\n 'סטאר',\n 'דן',\n 'יונתן',\n 'אביקם',\n 'יונה',\n 'עמרי',\n 'צדיק',\n 'שחף',\n 'ראובן',\n 'שחל',\n 'נהר',\n 'דולפין',\n 'נוב',\n 'שמר',\n 'אלנתן',\n 'עירא',\n 'יתיר',\n 'רקם',\n 'שיאל',\n 'אביעזר',\n 'עקיבא',\n 'שלומי',\n 'אליאב',\n 'ברעם',\n 'חנוך',\n 'שמשון',\n 'קלמן',\n 'מירל',\n 'עדין',\n 'אחיעזר',\n 'יובב',\n 'אורטל',\n 'מיכאיל',\n 'צופר',\n 'עדינו',\n 'וסילי',\n 'יועז',\n 'אבגר',\n 'בנו',\n 'סילביו',\n 'מלכיאור',\n 'לולו',\n 'פרוספר',\n 'טימור',\n 'פריאל',\n 'נירון',\n 'שגיא',\n 'פטר',\n 'ירון',\n 'ליאל',\n 'גונן',\n 'אביאור',\n 'קייט',\n 'לסלי',\n 'ענוג',\n 'יראון',\n 'ברקת',\n 'אבי',\n 'סאן',\n 'אביגאל',\n 'כוכב',\n \"סרג'יו\",\n 'זלמן',\n 'בעז',\n 'טוב',\n 'פייר',\n 'לעד',\n 'יוחאי',\n 'דיה',\n 'שמוליק',\n 'ירחמאל',\n 'שאולי',\n 'לאו',\n 'ירוחם',\n 'בן-עמי',\n 'מודי',\n 'אורדן',\n 'זמיר',\n 'אביה',\n 'לורה',\n 'רוניאל',\n 'חננאל',\n 'מאורי',\n 'סילבן',\n 'יואל',\n 'ליחי',\n 'ליב',\n 'מורין',\n 'און',\n \"ג'פרי\",\n 'שיאון',\n 'סאלי',\n 'עדלי',\n 'עמית',\n 'עדיאל',\n 'יגור',\n 'הולי',\n 'יקיר',\n 'אחיקם',\n 'תו',\n 'אלירוי',\n 'רייאן',\n 'ליאון',\n 'שליו',\n 'חפץ',\n 'דורן',\n 'נינו',\n 'בארי',\n 'אביאל',\n 'טים',\n 'אופק',\n 'וילי',\n 'אופיר',\n 'קסניה',\n 'אלישי',\n 'אלמוג',\n 'יואב',\n 'עמק',\n 'עיליי',\n 'ישעי',\n 'כוכבי',\n 'מידד',\n 'נועם',\n 'זכי',\n 'אשד',\n 'עמיקם',\n 'גדיאל',\n 'איתם',\n 'צפי',\n 'רנטו',\n 'קווין',\n 'ארז',\n 'זוהר',\n 'שירון',\n 'הדרי',\n 'ליהו',\n 'אופאל',\n 'עופרי',\n 'צביאל',\n 'דמיטרי',\n 'שגב',\n 'יפים',\n 'בן חור',\n 'אדורם',\n 'אבישר',\n 'גת',\n 'אורן',\n 'חורב',\n 'מושיק',\n 'ניקי',\n 'ולריאן',\n 'ענן',\n 'גושן',\n 'כרמל',\n 'חמי',\n 'רקיע',\n 'מדבר',\n 'סיני',\n 'בנצי',\n 'חניאל',\n 'מצליח',\n 'דוראל',\n 'אסיף',\n 'עלי',\n 'רעי',\n 'נאיר',\n 'דגני',\n 'פלג',\n 'נחושתן',\n 'צח',\n 'סרגיי',\n 'צדוק',\n 'אביחן',\n 'לי',\n 'אור ים',\n 'עופר',\n 'שרוני',\n 'אלימלך',\n 'אבידור',\n 'גמליאל',\n 'מורג',\n 'גאל',\n 'בועז',\n 'יהב',\n 'מילי',\n 'קדוש',\n 'חורף',\n 'גלעד',\n 'אראל',\n 'יעל',\n 'ידהר',\n 'נפתלי',\n 'כחל',\n 'מינור',\n 'רני',\n 'מגל',\n 'הללויה',\n 'בניהו',\n 'בנלי',\n 'יהושע',\n 'מירן',\n 'תנחום',\n 'מורל',\n 'רותם',\n 'להב',\n 'אוהב ציון',\n 'שרלי',\n 'אליהב',\n 'גלי',\n 'עטר',\n 'איתיאל',\n 'עלאי',\n 'אדיב',\n 'ספי',\n 'יוקד',\n 'לירז',\n 'חליל',\n 'עונג',\n 'ויויאן',\n 'מישר',\n 'נבט',\n 'אלרועי',\n \"ריצ'רד\",\n 'יולי',\n 'אבינועם',\n 'ענאל',\n 'קנדי',\n 'נימרוד',\n 'שיר',\n 'לימאי',\n 'אהוביה',\n 'קמיע',\n 'נועד',\n 'אילור',\n 'חזקיהו',\n 'קמיל',\n 'אגוז',\n 'מוראל',\n 'רימון',\n 'ין',\n 'גריגורי',\n 'נגב',\n 'טלאל',\n 'שם',\n 'ולנטין',\n 'תכלת',\n 'ישועה',\n 'קונסטנטין',\n 'ליבי',\n 'חיים',\n 'דיוויד',\n 'שילהב',\n 'דימטרי',\n 'עמירן',\n 'אדיר',\n 'אביטל',\n 'גבי',\n 'שם טוב',\n 'לוז',\n 'תם',\n 'ויצמן',\n 'נריעד',\n 'אבשלום',\n 'מזמור',\n 'אליאם',\n 'שחם',\n 'תימור',\n 'עוזיה',\n 'ניראל',\n 'טלאור',\n ...}"
     },
     "execution_count": 20,
     "metadata": {},
     "output_type": "execute_result"
    }
   ],
   "source": [
    "set(list1)"
   ],
   "metadata": {
    "collapsed": false,
    "pycharm": {
     "name": "#%%\n"
    }
   }
  },
  {
   "cell_type": "code",
   "execution_count": null,
   "outputs": [],
   "source": [],
   "metadata": {
    "collapsed": false,
    "pycharm": {
     "name": "#%%\n"
    }
   }
  },
  {
   "cell_type": "code",
   "execution_count": 131,
   "metadata": {
    "colab": {
     "base_uri": "https://localhost:8080/"
    },
    "id": "R6W8ur0RQhFO",
    "outputId": "d7e1a1e8-8a99-4ea7-e985-788739fd2f31",
    "pycharm": {
     "name": "#%%\n"
    }
   },
   "outputs": [
    {
     "name": "stdout",
     "output_type": "stream",
     "text": [
      "\n"
     ]
    },
    {
     "name": "stderr",
     "output_type": "stream",
     "text": [
      "100%|██████████| 22/22 [00:54<00:00,  2.49s/it]"
     ]
    },
    {
     "name": "stdout",
     "output_type": "stream",
     "text": [
      "./baby-names/boys.txt\n",
      "./baby-names/unisex.txt\n",
      "./baby-names/girls.txt\n",
      "3\n"
     ]
    },
    {
     "name": "stderr",
     "output_type": "stream",
     "text": [
      "\n"
     ]
    }
   ],
   "source": [
    "from __future__ import unicode_literals, print_function, division\n",
    "from io import open\n",
    "import glob\n",
    "import os\n",
    "import tqdm\n",
    "\n",
    "\n",
    "def findFiles(path): return glob.glob(path)\n",
    "\n",
    "\n",
    "# print(findFiles('names/*.txt'))\n",
    "\n",
    "import unicodedata\n",
    "import string\n",
    "\n",
    "# all_letters = string.ascii_letters + \" .,;'\"\n",
    "\n",
    "\n",
    "\n",
    "\n",
    "# Turn a Unicode string to plain ASCII, thanks to https://stackoverflow.com/a/518232/2809427\n",
    "def unicodeToAscii(s):\n",
    "    return ''.join(\n",
    "        c for c in unicodedata.normalize('NFD', s)\n",
    "        if unicodedata.category(c) != 'Mn'\n",
    "        and c in all_letters\n",
    "    )\n",
    "\n",
    "\n",
    "print(unicodeToAscii('Ślusàrski'))\n",
    "\n",
    "# Build the category_lines dictionary, a list of names per language\n",
    "category_lines = {}\n",
    "all_categories = []\n",
    "\n",
    "\n",
    "# Read a file and split into lines\n",
    "def readLines(filename):\n",
    "    lines = open(filename, encoding='utf-8').read().strip().split('\\n')\n",
    "    return [unicodeToAscii(line) for line in lines]\n",
    "\n",
    "\n",
    "# create a \"names\" directory with\n",
    "# boy.txt\n",
    "# girl.txt\n",
    "# unisex.txt\n",
    "\n",
    "\n",
    "\n",
    "\n",
    "\n",
    "\n",
    "\n",
    "\n",
    "\n",
    "\n",
    "\n",
    "\n",
    "\n",
    "\n",
    "\n",
    "\n",
    "\n",
    "\n",
    "create_files(path, boys_name, girls_name )\n",
    "\n",
    "for filename in findFiles(f'./{path}/*.txt'):\n",
    "    print(filename)\n",
    "    category = os.path.splitext(os.path.basename(filename))[0]\n",
    "    all_categories.append(category)\n",
    "    lines = readLines(filename)\n",
    "    category_lines[category] = lines\n",
    "\n",
    "n_categories = len(all_categories)\n",
    "print(n_categories)"
   ]
  },
  {
   "cell_type": "markdown",
   "metadata": {
    "id": "X6hDGbH_QhFP",
    "pycharm": {
     "name": "#%% md\n"
    }
   },
   "source": [
    "Now we have ``category_lines``, a dictionary mapping each category\n",
    "(language) to a list of lines (names). We also kept track of\n",
    "``all_categories`` (just a list of languages) and ``n_categories`` for\n",
    "later reference.\n",
    "\n",
    "\n"
   ]
  },
  {
   "cell_type": "code",
   "execution_count": 132,
   "outputs": [
    {
     "name": "stdout",
     "output_type": "stream",
     "text": [
      "['boys', 'unisex', 'girls']\n"
     ]
    }
   ],
   "source": [
    "print(all_categories)"
   ],
   "metadata": {
    "collapsed": false,
    "pycharm": {
     "name": "#%%\n"
    }
   }
  },
  {
   "cell_type": "code",
   "execution_count": 133,
   "metadata": {
    "colab": {
     "base_uri": "https://localhost:8080/"
    },
    "id": "1OGPHaDoQhFP",
    "outputId": "38a81734-a46f-49bc-c4b7-7872ef88d50a",
    "pycharm": {
     "name": "#%%\n"
    }
   },
   "outputs": [
    {
     "name": "stdout",
     "output_type": "stream",
     "text": [
      "['אבא', 'אבאל', 'אביאסף', 'אביגדור', 'אבידור']\n"
     ]
    }
   ],
   "source": [
    "print(category_lines['boys'][:5])"
   ]
  },
  {
   "cell_type": "markdown",
   "metadata": {
    "id": "Ew7Sd-CXQhFP",
    "pycharm": {
     "name": "#%% md\n"
    }
   },
   "source": [
    "Turning Names into Tensors\n",
    "--------------------------\n",
    "\n",
    "Now that we have all the names organized, we need to turn them into\n",
    "Tensors to make any use of them.\n",
    "\n",
    "To represent a single letter, we use a \"one-hot vector\" of size\n",
    "``<1 x n_letters>``. A one-hot vector is filled with 0s except for a 1\n",
    "at index of the current letter, e.g. ``\"b\" = <0 1 0 0 0 ...>``.\n",
    "\n",
    "To make a word we join a bunch of those into a 2D matrix\n",
    "``<line_length x 1 x n_letters>``.\n",
    "\n",
    "That extra 1 dimension is because PyTorch assumes everything is in\n",
    "batches - we're just using a batch size of 1 here.\n",
    "\n",
    "\n"
   ]
  },
  {
   "cell_type": "code",
   "execution_count": 134,
   "metadata": {
    "id": "jVBOZiowQhFQ",
    "colab": {
     "base_uri": "https://localhost:8080/"
    },
    "outputId": "6fd2de17-178d-4da5-f201-f4841d9f5cda",
    "pycharm": {
     "name": "#%%\n"
    }
   },
   "outputs": [
    {
     "name": "stdout",
     "output_type": "stream",
     "text": [
      "tensor([[0., 0., 0., 0., 0., 0., 0., 0., 0., 0., 0., 0., 0., 0., 0., 0., 0., 0.,\n",
      "         0., 0., 0., 0., 0., 1., 0., 0., 0., 0., 0., 0., 0., 0.]])\n",
      "torch.Size([4, 1, 32])\n"
     ]
    }
   ],
   "source": [
    "import torch\n",
    "\n",
    "\n",
    "# Find letter index from all_letters, e.g. \"a\" = 0\n",
    "def letterToIndex(letter):\n",
    "    return all_letters.find(letter)\n",
    "\n",
    "\n",
    "# Just for demonstration, turn a letter into a <1 x n_letters> Tensor\n",
    "def letterToTensor(letter):\n",
    "    tensor = torch.zeros(1, n_letters)\n",
    "    tensor[0][letterToIndex(letter)] = 1\n",
    "    return tensor\n",
    "\n",
    "\n",
    "# Turn a line into a <line_length x 1 x n_letters>,\n",
    "# or an array of one-hot letter vectors\n",
    "def lineToTensor(line):\n",
    "    tensor = torch.zeros(len(line), 1, n_letters)\n",
    "    for i, letter in enumerate(line):\n",
    "        tensor[i][0][letterToIndex(letter)] = 1\n",
    "    return tensor\n",
    "\n",
    "\n",
    "print(letterToTensor('ם'))\n",
    "\n",
    "print(lineToTensor('שלום').size())"
   ]
  },
  {
   "cell_type": "markdown",
   "metadata": {
    "id": "Oz8fnpz7QhFQ",
    "pycharm": {
     "name": "#%% md\n"
    }
   },
   "source": [
    "Creating the Network\n",
    "====================\n",
    "\n",
    "Before autograd, creating a recurrent neural network in Torch involved\n",
    "cloning the parameters of a layer over several timesteps. The layers\n",
    "held hidden state and gradients which are now entirely handled by the\n",
    "graph itself. This means you can implement a RNN in a very \"pure\" way,\n",
    "as regular feed-forward layers.\n",
    "\n",
    "This RNN module (mostly copied from `the PyTorch for Torch users\n",
    "tutorial <https://pytorch.org/tutorials/beginner/former_torchies/\n",
    "nn_tutorial.html#example-2-recurrent-net>`__)\n",
    "is just 2 linear layers which operate on an input and hidden state, with\n",
    "a LogSoftmax layer after the output.\n",
    "\n",
    ".. figure:: https://i.imgur.com/Z2xbySO.png\n",
    "   :alt:\n",
    "\n",
    "\n",
    "\n"
   ]
  },
  {
   "cell_type": "code",
   "execution_count": 135,
   "metadata": {
    "id": "b8XIA_HBQhFQ",
    "pycharm": {
     "name": "#%%\n"
    }
   },
   "outputs": [],
   "source": [
    "import torch.nn as nn\n",
    "\n",
    "\n",
    "class RNN(nn.Module):\n",
    "    def __init__(self, input_size, hidden_size, output_size):\n",
    "        super(RNN, self).__init__()\n",
    "        self.hidden_size = hidden_size\n",
    "        self.i2h = nn.Linear(input_size + hidden_size, hidden_size)\n",
    "        self.i2o = nn.Linear(input_size + hidden_size, output_size)\n",
    "        self.softmax = nn.LogSoftmax(dim=1)\n",
    "\n",
    "    def forward(self, input, hidden):\n",
    "        input_combined = torch.cat((input, hidden), 1)\n",
    "        hidden = self.i2h(input_combined)\n",
    "        output = self.i2o(input_combined)\n",
    "        output = self.softmax(output)\n",
    "        return output, hidden\n",
    "\n",
    "    def initHidden(self):\n",
    "        return torch.zeros(1, self.hidden_size)\n",
    "\n",
    "\n",
    "n_hidden = 256\n",
    "rnn = RNN(n_letters, n_hidden, n_categories)"
   ]
  },
  {
   "cell_type": "markdown",
   "metadata": {
    "id": "2246-wjXQhFR",
    "pycharm": {
     "name": "#%% md\n"
    }
   },
   "source": [
    "To run a step of this network we need to pass an input (in our case, the\n",
    "Tensor for the current letter) and a previous hidden state (which we\n",
    "initialize as zeros at first). We'll get back the output (probability of\n",
    "each language) and a next hidden state (which we keep for the next\n",
    "step).\n",
    "\n",
    "\n"
   ]
  },
  {
   "cell_type": "code",
   "execution_count": 136,
   "metadata": {
    "id": "5i3M4KNiQhFR",
    "pycharm": {
     "name": "#%%\n"
    }
   },
   "outputs": [],
   "source": [
    "input = letterToTensor('א')\n",
    "hidden = torch.zeros(1, n_hidden)\n",
    "\n",
    "output, next_hidden = rnn(input, hidden)"
   ]
  },
  {
   "cell_type": "markdown",
   "metadata": {
    "id": "3btjAGlNQhFR",
    "pycharm": {
     "name": "#%% md\n"
    }
   },
   "source": [
    "For the sake of efficiency we don't want to be creating a new Tensor for\n",
    "every step, so we will use ``lineToTensor`` instead of\n",
    "``letterToTensor`` and use slices. This could be further optimized by\n",
    "pre-computing batches of Tensors.\n",
    "\n",
    "\n"
   ]
  },
  {
   "cell_type": "code",
   "execution_count": 137,
   "metadata": {
    "id": "G7sWTLoqQhFR",
    "colab": {
     "base_uri": "https://localhost:8080/"
    },
    "outputId": "462c048e-39c4-4257-fdfe-732d16a2bf3a",
    "pycharm": {
     "name": "#%%\n"
    }
   },
   "outputs": [
    {
     "name": "stdout",
     "output_type": "stream",
     "text": [
      "tensor([[-1.0397, -1.1483, -1.1109]], grad_fn=<LogSoftmaxBackward0>)\n"
     ]
    }
   ],
   "source": [
    "input = lineToTensor('יפית')\n",
    "hidden = torch.zeros(1, n_hidden)\n",
    "\n",
    "output, next_hidden = rnn(input[0], hidden)\n",
    "print(output)"
   ]
  },
  {
   "cell_type": "markdown",
   "metadata": {
    "id": "YEpvbxf6QhFR",
    "pycharm": {
     "name": "#%% md\n"
    }
   },
   "source": [
    "As you can see the output is a ``<1 x n_categories>`` Tensor, where\n",
    "every item is the likelihood of that category (higher is more likely).\n",
    "\n",
    "\n"
   ]
  },
  {
   "cell_type": "markdown",
   "metadata": {
    "id": "3Crjr8K1QhFR",
    "pycharm": {
     "name": "#%% md\n"
    }
   },
   "source": [
    "Training\n",
    "========\n",
    "Preparing for Training\n",
    "----------------------\n",
    "\n",
    "Before going into training we should make a few helper functions. The\n",
    "first is to interpret the output of the network, which we know to be a\n",
    "likelihood of each category. We can use ``Tensor.topk`` to get the index\n",
    "of the greatest value:\n",
    "\n",
    "\n"
   ]
  },
  {
   "cell_type": "code",
   "execution_count": 138,
   "metadata": {
    "id": "rsb3pN6OQhFS",
    "colab": {
     "base_uri": "https://localhost:8080/"
    },
    "outputId": "c1ef967c-dd09-41e0-a13d-145650f3527b",
    "pycharm": {
     "name": "#%%\n"
    }
   },
   "outputs": [
    {
     "name": "stdout",
     "output_type": "stream",
     "text": [
      "('boys', 0)\n"
     ]
    }
   ],
   "source": [
    "def categoryFromOutput(output):\n",
    "    top_n, top_i = output.topk(1)\n",
    "    category_i = top_i[0].item()\n",
    "    return all_categories[category_i], category_i\n",
    "\n",
    "\n",
    "print(categoryFromOutput(output))"
   ]
  },
  {
   "cell_type": "markdown",
   "metadata": {
    "id": "LhCO7reVQhFS",
    "pycharm": {
     "name": "#%% md\n"
    }
   },
   "source": [
    "We will also want a quick way to get a training example (a name and its\n",
    "language):\n",
    "\n",
    "\n"
   ]
  },
  {
   "cell_type": "code",
   "execution_count": 139,
   "metadata": {
    "id": "lOUi7Qh7QhFS",
    "colab": {
     "base_uri": "https://localhost:8080/"
    },
    "outputId": "2a27d8e5-6472-4426-dfbb-410c4225d418",
    "pycharm": {
     "name": "#%%\n"
    }
   },
   "outputs": [
    {
     "name": "stdout",
     "output_type": "stream",
     "text": [
      "category = girls / line = מטילדה\n",
      "category = girls / line = זיקה\n",
      "category = boys / line = אדי\n",
      "category = unisex / line = רובי\n",
      "category = unisex / line = שון\n",
      "category = boys / line = שמוליק\n",
      "category = unisex / line = ין\n",
      "category = boys / line = מידד\n",
      "category = boys / line = עובד\n",
      "category = boys / line = מתן\n"
     ]
    }
   ],
   "source": [
    "import random\n",
    "\n",
    "\n",
    "def randomChoice(l):\n",
    "    return l[random.randint(0, len(l) - 1)]\n",
    "\n",
    "\n",
    "def randomTrainingExample():\n",
    "    category = randomChoice(all_categories)\n",
    "    line = randomChoice(category_lines[category])\n",
    "    category_tensor = torch.tensor([all_categories.index(category)], dtype=torch.long)\n",
    "    line_tensor = lineToTensor(line)\n",
    "\n",
    "    return category, line, category_tensor, line_tensor\n",
    "\n",
    "\n",
    "for i in range(10):\n",
    "    category, line, category_tensor, line_tensor = randomTrainingExample()\n",
    "    print('category =', category, '/ line =', line)"
   ]
  },
  {
   "cell_type": "markdown",
   "metadata": {
    "id": "e9HbfakuQhFS",
    "pycharm": {
     "name": "#%% md\n"
    }
   },
   "source": [
    "Training the Network\n",
    "--------------------\n",
    "\n",
    "Now all it takes to train this network is show it a bunch of examples,\n",
    "have it make guesses, and tell it if it's wrong.\n",
    "\n",
    "For the loss function ``nn.NLLLoss`` is appropriate, since the last\n",
    "layer of the RNN is ``nn.LogSoftmax``.\n",
    "\n",
    "\n"
   ]
  },
  {
   "cell_type": "code",
   "execution_count": 140,
   "metadata": {
    "id": "jp59YhMyQhFS",
    "pycharm": {
     "name": "#%%\n"
    }
   },
   "outputs": [],
   "source": [
    "criterion = nn.NLLLoss()"
   ]
  },
  {
   "cell_type": "markdown",
   "metadata": {
    "id": "S-cbG6A8QhFS",
    "pycharm": {
     "name": "#%% md\n"
    }
   },
   "source": [
    "Each loop of training will:\n",
    "\n",
    "-  Create input and target tensors\n",
    "-  Create a zeroed initial hidden state\n",
    "-  Read each letter in and\n",
    "\n",
    "   -  Keep hidden state for next letter\n",
    "\n",
    "-  Compare final output to target\n",
    "-  Back-propagate\n",
    "-  Return the output and loss\n",
    "\n",
    "\n"
   ]
  },
  {
   "cell_type": "code",
   "execution_count": 141,
   "metadata": {
    "id": "wiIbRxJ-QhFS",
    "pycharm": {
     "name": "#%%\n"
    }
   },
   "outputs": [],
   "source": [
    "learning_rate = 0.005  # If you set this too high, it might explode. If too low, it might not learn\n",
    "\n",
    "\n",
    "def train(category_tensor, line_tensor):\n",
    "    hidden = rnn.initHidden()\n",
    "\n",
    "    rnn.zero_grad()\n",
    "\n",
    "    for i in range(line_tensor.size()[0]):\n",
    "        output, hidden = rnn(line_tensor[i], hidden)\n",
    "\n",
    "    loss = criterion(output, category_tensor)\n",
    "    loss.backward()\n",
    "\n",
    "    # Add parameters' gradients to their values, multiplied by learning rate\n",
    "    for p in rnn.parameters():\n",
    "        p.data.add_(p.grad.data, alpha=-learning_rate)\n",
    "\n",
    "    return output, loss.item()"
   ]
  },
  {
   "cell_type": "markdown",
   "metadata": {
    "id": "v86cQuh2QhFS",
    "pycharm": {
     "name": "#%% md\n"
    }
   },
   "source": [
    "Now we just have to run that with a bunch of examples. Since the\n",
    "``train`` function returns both the output and loss we can print its\n",
    "guesses and also keep track of loss for plotting. Since there are 1000s\n",
    "of examples we print only every ``print_every`` examples, and take an\n",
    "average of the loss.\n",
    "\n",
    "\n"
   ]
  },
  {
   "cell_type": "code",
   "execution_count": 142,
   "metadata": {
    "id": "3uAJERTlQhFS",
    "colab": {
     "base_uri": "https://localhost:8080/"
    },
    "outputId": "3737e10b-9d0c-4490-a663-1777e8141571",
    "pycharm": {
     "name": "#%%\n"
    }
   },
   "outputs": [
    {
     "name": "stdout",
     "output_type": "stream",
     "text": [
      "5000 5% (0m 3s) 0.7364 לאלי / unisex ✓\n",
      "10000 10% (0m 7s) 0.3637 עמל / unisex ✓\n",
      "15000 15% (0m 11s) 0.3079 בן ברוך / boys ✓\n",
      "20000 20% (0m 15s) 0.4333 אחלמה / girls ✓\n",
      "25000 25% (0m 19s) 0.0987 ניצנה / girls ✓\n",
      "30000 30% (0m 23s) 0.2880 טהורה / girls ✓\n",
      "35000 35% (0m 27s) 0.2489 חמדת / girls ✓\n",
      "40000 40% (0m 31s) 0.7033 פרדי / boys ✓\n",
      "45000 45% (0m 35s) 0.4729 טימור / boys ✓\n",
      "50000 50% (0m 39s) 0.0377 שבותיה / girls ✓\n",
      "55000 55% (0m 42s) 0.0488 זהורית / girls ✓\n",
      "60000 60% (0m 46s) 0.0644 מילכה / girls ✓\n",
      "65000 65% (0m 50s) 1.8192 סמי / unisex ✗ (boys)\n",
      "70000 70% (0m 54s) 0.6404 דוד / boys ✓\n",
      "75000 75% (0m 58s) 0.4068 יותם / boys ✓\n",
      "80000 80% (1m 2s) 0.6566 מיכלי / girls ✓\n",
      "85000 85% (1m 6s) 0.0183 זהורית / girls ✓\n",
      "90000 90% (1m 10s) 1.3544 אחי / unisex ✗ (boys)\n",
      "95000 95% (1m 14s) 0.9047 אושריה / girls ✗ (unisex)\n",
      "100000 100% (1m 18s) 1.2585 הרצל / unisex ✗ (boys)\n"
     ]
    }
   ],
   "source": [
    "import time\n",
    "import math\n",
    "\n",
    "n_iters = 100000\n",
    "print_every = 5000\n",
    "plot_every = 1000\n",
    "\n",
    "# Keep track of losses for plotting\n",
    "current_loss = 0\n",
    "all_losses = []\n",
    "\n",
    "\n",
    "def timeSince(since):\n",
    "    now = time.time()\n",
    "    s = now - since\n",
    "    m = math.floor(s / 60)\n",
    "    s -= m * 60\n",
    "    return '%dm %ds' % (m, s)\n",
    "\n",
    "\n",
    "start = time.time()\n",
    "\n",
    "for iter in range(1, n_iters + 1):\n",
    "    category, line, category_tensor, line_tensor = randomTrainingExample()\n",
    "    output, loss = train(category_tensor, line_tensor)\n",
    "    current_loss += loss\n",
    "\n",
    "    # Print iter number, loss, name and guess\n",
    "    if iter % print_every == 0:\n",
    "        guess, guess_i = categoryFromOutput(output)\n",
    "        correct = '✓' if guess == category else '✗ (%s)' % category\n",
    "        print(\n",
    "            '%d %d%% (%s) %.4f %s / %s %s' % (iter, iter / n_iters * 100, timeSince(start), loss, line, guess, correct))\n",
    "\n",
    "    # Add current loss avg to list of losses\n",
    "    if iter % plot_every == 0:\n",
    "        all_losses.append(current_loss / plot_every)\n",
    "        current_loss = 0"
   ]
  },
  {
   "cell_type": "markdown",
   "metadata": {
    "id": "KkyAIR_VQhFT",
    "pycharm": {
     "name": "#%% md\n"
    }
   },
   "source": [
    "Plotting the Results\n",
    "--------------------\n",
    "\n",
    "Plotting the historical loss from ``all_losses`` shows the network\n",
    "learning:\n",
    "\n",
    "\n"
   ]
  },
  {
   "cell_type": "code",
   "execution_count": 143,
   "metadata": {
    "id": "JKCizliAQhFT",
    "colab": {
     "base_uri": "https://localhost:8080/",
     "height": 283
    },
    "outputId": "67f7ed2b-87e6-4cd8-daf6-229a5a321188",
    "pycharm": {
     "name": "#%%\n"
    }
   },
   "outputs": [
    {
     "data": {
      "text/plain": "[<matplotlib.lines.Line2D at 0x7f9cc232be80>]"
     },
     "execution_count": 143,
     "metadata": {},
     "output_type": "execute_result"
    },
    {
     "data": {
      "text/plain": "<Figure size 432x288 with 1 Axes>",
      "image/png": "[encoded data removed]"
     },
     "metadata": {
      "needs_background": "light"
     },
     "output_type": "display_data"
    }
   ],
   "source": [
    "import matplotlib.pyplot as plt\n",
    "import matplotlib.ticker as ticker\n",
    "\n",
    "plt.figure()\n",
    "plt.plot(all_losses)"
   ]
  },
  {
   "cell_type": "markdown",
   "metadata": {
    "id": "y_OqT819QhFT",
    "pycharm": {
     "name": "#%% md\n"
    }
   },
   "source": [
    "Evaluating the Results\n",
    "======================\n",
    "\n",
    "To see how well the network performs on different categories, we will\n",
    "create a confusion matrix, indicating for every actual language (rows)\n",
    "which language the network guesses (columns). To calculate the confusion\n",
    "matrix a bunch of samples are run through the network with\n",
    "``evaluate()``, which is the same as ``train()`` minus the backprop.\n",
    "\n",
    "\n"
   ]
  },
  {
   "cell_type": "code",
   "execution_count": 144,
   "metadata": {
    "id": "WR1Gga8hQhFT",
    "colab": {
     "base_uri": "https://localhost:8080/",
     "height": 320
    },
    "outputId": "e7faa5c0-d7fc-4f88-e35a-4e9b869ee6be",
    "pycharm": {
     "name": "#%%\n"
    }
   },
   "outputs": [
    {
     "name": "stderr",
     "output_type": "stream",
     "text": [
      "/tmp/ipykernel_12152/830367755.py:35: UserWarning: FixedFormatter should only be used together with FixedLocator\n",
      "  ax.set_xticklabels([''] + all_categories, rotation=90)\n",
      "/tmp/ipykernel_12152/830367755.py:36: UserWarning: FixedFormatter should only be used together with FixedLocator\n",
      "  ax.set_yticklabels([''] + all_categories)\n"
     ]
    },
    {
     "data": {
      "text/plain": "<Figure size 432x288 with 2 Axes>",
      "image/png": "[encoded data removed]"
     },
     "metadata": {
      "needs_background": "light"
     },
     "output_type": "display_data"
    }
   ],
   "source": [
    "# Keep track of correct guesses in a confusion matrix\n",
    "confusion = torch.zeros(n_categories, n_categories)\n",
    "n_confusion = 10000\n",
    "\n",
    "\n",
    "# Just return an output given a line\n",
    "def evaluate(line_tensor):\n",
    "    hidden = rnn.initHidden()\n",
    "\n",
    "    for i in range(line_tensor.size()[0]):\n",
    "        output, hidden = rnn(line_tensor[i], hidden)\n",
    "\n",
    "    return output\n",
    "\n",
    "\n",
    "# Go through a bunch of examples and record which are correctly guessed\n",
    "for i in range(n_confusion):\n",
    "    category, line, category_tensor, line_tensor = randomTrainingExample()\n",
    "    output = evaluate(line_tensor)\n",
    "    guess, guess_i = categoryFromOutput(output)\n",
    "    category_i = all_categories.index(category)\n",
    "    confusion[category_i][guess_i] += 1\n",
    "\n",
    "# Normalize by dividing every row by its sum\n",
    "for i in range(n_categories):\n",
    "    confusion[i] = confusion[i] / confusion[i].sum()\n",
    "\n",
    "# Set up plot\n",
    "fig = plt.figure()\n",
    "ax = fig.add_subplot(111)\n",
    "cax = ax.matshow(confusion.numpy())\n",
    "fig.colorbar(cax)\n",
    "\n",
    "# Set up axes\n",
    "ax.set_xticklabels([''] + all_categories, rotation=90)\n",
    "ax.set_yticklabels([''] + all_categories)\n",
    "\n",
    "# Force label at every tick\n",
    "ax.xaxis.set_major_locator(ticker.MultipleLocator(1))\n",
    "ax.yaxis.set_major_locator(ticker.MultipleLocator(1))\n",
    "\n",
    "# sphinx_gallery_thumbnail_number = 2\n",
    "plt.show()"
   ]
  },
  {
   "cell_type": "markdown",
   "metadata": {
    "id": "5Q1aKKEKQhFT",
    "pycharm": {
     "name": "#%% md\n"
    }
   },
   "source": [
    "You can pick out bright spots off the main axis that show which\n",
    "languages it guesses incorrectly, e.g. Chinese for Korean, and Spanish\n",
    "for Italian. It seems to do very well with Greek, and very poorly with\n",
    "English (perhaps because of overlap with other languages).\n",
    "\n",
    "\n"
   ]
  },
  {
   "cell_type": "code",
   "execution_count": 145,
   "outputs": [
    {
     "data": {
      "text/plain": "tensor([[0.6485, 0.2957, 0.0558],\n        [0.1825, 0.7007, 0.1168],\n        [0.0759, 0.1552, 0.7688]])"
     },
     "execution_count": 145,
     "metadata": {},
     "output_type": "execute_result"
    }
   ],
   "source": [
    "confusion"
   ],
   "metadata": {
    "collapsed": false,
    "pycharm": {
     "name": "#%%\n"
    }
   }
  },
  {
   "cell_type": "markdown",
   "metadata": {
    "id": "19yE9VrRQhFT",
    "pycharm": {
     "name": "#%% md\n"
    }
   },
   "source": [
    "Running on User Input\n",
    "---------------------\n",
    "\n",
    "\n"
   ]
  },
  {
   "cell_type": "code",
   "execution_count": 130,
   "metadata": {
    "id": "poqdhYgaQhFT",
    "colab": {
     "base_uri": "https://localhost:8080/"
    },
    "outputId": "beaf9995-d595-4604-c70f-7597becb638d",
    "pycharm": {
     "name": "#%%\n"
    }
   },
   "outputs": [
    {
     "name": "stdout",
     "output_type": "stream",
     "text": [
      "\n",
      "> משה\n",
      "(-0.76) unisex\n",
      "(-0.78) girls\n",
      "(-2.61) boys\n",
      "\n",
      "> אודי\n",
      "(-0.69) unisex\n",
      "(-0.92) boys\n",
      "(-2.31) girls\n",
      "\n",
      "> עודד\n",
      "(-0.21) boys\n",
      "(-1.77) unisex\n",
      "(-4.12) girls\n",
      "\n",
      "> אירה\n",
      "(-0.33) girls\n",
      "(-1.41) unisex\n",
      "(-3.25) boys\n"
     ]
    }
   ],
   "source": [
    "def predict(input_line, n_predictions=3):\n",
    "    print('\\n> %s' % input_line)\n",
    "    with torch.no_grad():\n",
    "        output = evaluate(lineToTensor(input_line))\n",
    "\n",
    "        # Get top N categories\n",
    "        topv, topi = output.topk(n_predictions, 1, True)\n",
    "        predictions = []\n",
    "\n",
    "        for i in range(n_predictions):\n",
    "            value = topv[0][i].item()\n",
    "            category_index = topi[0][i].item()\n",
    "            print('(%.2f) %s' % (value, all_categories[category_index]))\n",
    "            predictions.append([value, all_categories[category_index]])\n",
    "\n",
    "\n",
    "predict('משה')\n",
    "predict('אודי')\n",
    "predict('עודד')\n",
    "predict('אירה')"
   ]
  },
  {
   "cell_type": "markdown",
   "metadata": {
    "id": "hCmpZArdQhFT",
    "pycharm": {
     "name": "#%% md\n"
    }
   },
   "source": [
    "The final versions of the scripts `in the Practical PyTorch\n",
    "repo <https://github.com/spro/practical-pytorch/tree/master/char-rnn-classification>`__\n",
    "split the above code into a few files:\n",
    "\n",
    "-  ``data.py`` (loads files)\n",
    "-  ``model.py`` (defines the RNN)\n",
    "-  ``train.py`` (runs training)\n",
    "-  ``predict.py`` (runs ``predict()`` with command line arguments)\n",
    "-  ``server.py`` (serve prediction as a JSON API with bottle.py)\n",
    "\n",
    "Run ``train.py`` to train and save the network.\n",
    "\n",
    "Run ``predict.py`` with a name to view predictions:\n",
    "\n",
    "::\n",
    "\n",
    "    $ python predict.py Hazaki\n",
    "    (-0.42) Japanese\n",
    "    (-1.39) Polish\n",
    "    (-3.51) Czech\n",
    "\n",
    "Run ``server.py`` and visit http://localhost:5533/Yourname to get JSON\n",
    "output of predictions.\n",
    "\n",
    "\n"
   ]
  },
  {
   "cell_type": "markdown",
   "metadata": {
    "id": "EfR76xhUQhFT",
    "pycharm": {
     "name": "#%% md\n"
    }
   },
   "source": [
    "Exercises\n",
    "=========\n",
    "\n",
    "-  Try with a different dataset of line -> category, for example:\n",
    "\n",
    "   -  Any word -> language\n",
    "   -  First name -> gender\n",
    "   -  Character name -> writer\n",
    "   -  Page title -> blog or subreddit\n",
    "\n",
    "-  Get better results with a bigger and/or better shaped network\n",
    "\n",
    "   -  Add more linear layers\n",
    "   -  Try the ``nn.LSTM`` and ``nn.GRU`` layers\n",
    "   -  Combine multiple of these RNNs as a higher level network\n",
    "\n",
    "\n"
   ]
  },
  {
   "cell_type": "code",
   "source": [],
   "metadata": {
    "id": "pDJ5TOfgXXKg",
    "pycharm": {
     "name": "#%%\n"
    }
   },
   "execution_count": null,
   "outputs": []
  }
 ],
 "metadata": {
  "kernelspec": {
   "display_name": "Python 3",
   "language": "python",
   "name": "python3"
  },
  "language_info": {
   "codemirror_mode": {
    "name": "ipython",
    "version": 3
   },
   "file_extension": ".py",
   "mimetype": "text/x-python",
   "name": "python",
   "nbconvert_exporter": "python",
   "pygments_lexer": "ipython3",
   "version": "3.7.13"
  },
  "colab": {
   "name": "char_rnn_classification_tutorial.ipynb.txt",
   "provenance": []
  }
 },
 "nbformat": 4,
 "nbformat_minor": 0
}