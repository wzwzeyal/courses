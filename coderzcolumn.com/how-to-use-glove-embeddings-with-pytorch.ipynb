{
 "cells": [
  {
   "cell_type": "code",
   "execution_count": null,
   "outputs": [],
   "source": [
    "# https://coderzcolumn.com/tutorials/artificial-intelligence/how-to-use-glove-embeddings-with-pytorch"
   ],
   "metadata": {
    "collapsed": false,
    "pycharm": {
     "name": "#%%\n"
    }
   }
  },
  {
   "cell_type": "code",
   "execution_count": 1,
   "outputs": [
    {
     "name": "stdout",
     "output_type": "stream",
     "text": [
      "PyTorch Version : 1.11.0+cu102\n"
     ]
    }
   ],
   "source": [
    "import torch\n",
    "\n",
    "print(\"PyTorch Version : {}\".format(torch.__version__))"
   ],
   "metadata": {
    "collapsed": false,
    "pycharm": {
     "name": "#%%\n"
    }
   }
  },
  {
   "cell_type": "code",
   "execution_count": 2,
   "outputs": [
    {
     "name": "stdout",
     "output_type": "stream",
     "text": [
      "Torch Text Version : 0.12.0\n"
     ]
    }
   ],
   "source": [
    "import torchtext\n",
    "\n",
    "print(\"Torch Text Version : {}\".format(torchtext.__version__))"
   ],
   "metadata": {
    "collapsed": false,
    "pycharm": {
     "name": "#%%\n"
    }
   }
  },
  {
   "cell_type": "code",
   "execution_count": 3,
   "outputs": [
    {
     "data": {
      "text/plain": "['hello', ',', 'how', 'are', 'you', '?']"
     },
     "execution_count": 3,
     "metadata": {},
     "output_type": "execute_result"
    }
   ],
   "source": [
    "from torchtext.data import get_tokenizer\n",
    "\n",
    "tokenizer = get_tokenizer(\"basic_english\") ## We'll use tokenizer available from PyTorch\n",
    "\n",
    "tokenizer(\"Hello, How are you?\")"
   ],
   "metadata": {
    "collapsed": false,
    "pycharm": {
     "name": "#%%\n"
    }
   }
  },
  {
   "cell_type": "code",
   "execution_count": 4,
   "outputs": [
    {
     "name": "stderr",
     "output_type": "stream",
     "text": [
      ".vector_cache/glove.840B.300d.zip: 2.18GB [07:13, 5.02MB/s]                                \n",
      "100%|█████████▉| 2196016/2196017 [02:33<00:00, 14263.24it/s]\n"
     ]
    }
   ],
   "source": [
    "from torchtext.vocab import GloVe\n",
    "dim = 300\n",
    "# global_vectors = GloVe(name='twitter.27B', dim=dim)\n",
    "global_vectors = GloVe(name='840B', dim=dim)"
   ],
   "metadata": {
    "collapsed": false,
    "pycharm": {
     "name": "#%%\n"
    }
   }
  },
  {
   "cell_type": "code",
   "execution_count": 8,
   "outputs": [
    {
     "data": {
      "text/plain": "torch.Size([6, 100])"
     },
     "execution_count": 8,
     "metadata": {},
     "output_type": "execute_result"
    }
   ],
   "source": [
    "embeddings = global_vectors.get_vecs_by_tokens(tokenizer(\"Hello, How are you?\"), lower_case_backup=True)\n",
    "\n",
    "embeddings.shape"
   ],
   "metadata": {
    "collapsed": false,
    "pycharm": {
     "name": "#%%\n"
    }
   }
  },
  {
   "cell_type": "code",
   "execution_count": 18,
   "outputs": [
    {
     "name": "stderr",
     "output_type": "stream",
     "text": [
      "/home/eyalshw/git/courses/venv/lib/python3.8/site-packages/torch/utils/data/datapipes/utils/common.py:24: UserWarning: Lambda function is not supported for pickle, please use regular python function or functools.partial instead.\n",
      "  warnings.warn(\n"
     ]
    }
   ],
   "source": [
    "from torch.utils.data import DataLoader\n",
    "from torchtext.data.functional import to_map_style_dataset\n",
    "\n",
    "max_words = 25\n",
    "embed_len = dim\n",
    "\n",
    "def vectorize_batch(batch):\n",
    "    Y, X = list(zip(*batch))\n",
    "    X = [tokenizer(x) for x in X]\n",
    "    X = [tokens+[\"\"] * (max_words-len(tokens))  if len(tokens)<max_words else tokens[:max_words] for tokens in X]\n",
    "    X_tensor = torch.zeros(len(batch), max_words, embed_len)\n",
    "    for i, tokens in enumerate(X):\n",
    "        X_tensor[i] = global_vectors.get_vecs_by_tokens(tokens)\n",
    "    return X_tensor.reshape(len(batch), -1), torch.tensor(Y) - 1 ## Subtracted 1 from labels to bring in range [0,1,2,3] from [1,2,3,4]\n",
    "\n",
    "target_classes = [\"World\", \"Sports\", \"Business\", \"Sci/Tech\"]\n",
    "\n",
    "train_dataset, test_dataset  = torchtext.datasets.AG_NEWS()\n",
    "train_dataset, test_dataset = to_map_style_dataset(train_dataset), to_map_style_dataset(test_dataset)\n",
    "\n",
    "train_loader = DataLoader(train_dataset, batch_size=8, collate_fn=vectorize_batch)\n",
    "test_loader  = DataLoader(test_dataset, batch_size=8, collate_fn=vectorize_batch)"
   ],
   "metadata": {
    "collapsed": false,
    "pycharm": {
     "name": "#%%\n"
    }
   }
  },
  {
   "cell_type": "code",
   "execution_count": 25,
   "outputs": [
    {
     "data": {
      "text/plain": "(3,\n \"Wall St. Bears Claw Back Into the Black (Reuters) Reuters - Short-sellers, Wall Street's dwindling\\\\band of ultra-cynics, are seeing green again.\")"
     },
     "execution_count": 25,
     "metadata": {},
     "output_type": "execute_result"
    }
   ],
   "source": [
    "next(iter(train_dataset))"
   ],
   "metadata": {
    "collapsed": false,
    "pycharm": {
     "name": "#%%\n"
    }
   }
  },
  {
   "cell_type": "code",
   "execution_count": 27,
   "outputs": [
    {
     "name": "stdout",
     "output_type": "stream",
     "text": [
      "(3, \"Wall St. Bears Claw Back Into the Black (Reuters) Reuters - Short-sellers, Wall Street's dwindling\\\\band of ultra-cynics, are seeing green again.\")\n"
     ]
    }
   ],
   "source": [
    "for data in train_dataset:\n",
    "    print(data)\n",
    "    break"
   ],
   "metadata": {
    "collapsed": false,
    "pycharm": {
     "name": "#%%\n"
    }
   }
  },
  {
   "cell_type": "code",
   "execution_count": null,
   "outputs": [],
   "source": [
    "for X, Y in train_loader:\n",
    "\n",
    "    print(X.shape, Y.shape)\n",
    "    break"
   ],
   "metadata": {
    "collapsed": false,
    "pycharm": {
     "name": "#%%\n"
    }
   }
  },
  {
   "cell_type": "code",
   "execution_count": 19,
   "outputs": [
    {
     "name": "stdout",
     "output_type": "stream",
     "text": [
      "torch.Size([8, 2500]) torch.Size([8])\n"
     ]
    }
   ],
   "source": [
    "for X, Y in train_loader:\n",
    "\n",
    "    print(X.shape, Y.shape)\n",
    "    break"
   ],
   "metadata": {
    "collapsed": false,
    "pycharm": {
     "name": "#%%\n"
    }
   }
  },
  {
   "cell_type": "code",
   "execution_count": 20,
   "outputs": [],
   "source": [
    "from torch import nn\n",
    "from torch.nn import functional as F\n",
    "\n",
    "class EmbeddingClassifier(nn.Module):\n",
    "    def __init__(self):\n",
    "        super(EmbeddingClassifier, self).__init__()\n",
    "        self.seq = nn.Sequential(\n",
    "            nn.Linear(max_words*embed_len, 256),\n",
    "            nn.ReLU(),\n",
    "\n",
    "            nn.Linear(256,128),\n",
    "            nn.ReLU(),\n",
    "\n",
    "            nn.Linear(128,64),\n",
    "            nn.ReLU(),\n",
    "\n",
    "            nn.Linear(64, len(target_classes)),\n",
    "        )\n",
    "\n",
    "    def forward(self, X_batch):\n",
    "        return self.seq(X_batch)"
   ],
   "metadata": {
    "collapsed": false,
    "pycharm": {
     "name": "#%%\n"
    }
   }
  },
  {
   "cell_type": "code",
   "execution_count": 21,
   "outputs": [],
   "source": [
    "from tqdm import tqdm\n",
    "from sklearn.metrics import accuracy_score\n",
    "import gc\n",
    "\n",
    "def CalcValLossAndAccuracy(model, loss_fn, val_loader):\n",
    "    with torch.no_grad():\n",
    "        Y_shuffled, Y_preds, losses = [],[],[]\n",
    "        for X, Y in val_loader:\n",
    "            preds = model(X)\n",
    "            loss = loss_fn(preds, Y)\n",
    "            losses.append(loss.item())\n",
    "\n",
    "            Y_shuffled.append(Y)\n",
    "            Y_preds.append(preds.argmax(dim=-1))\n",
    "\n",
    "        Y_shuffled = torch.cat(Y_shuffled)\n",
    "        Y_preds = torch.cat(Y_preds)\n",
    "\n",
    "        print(\"Valid Loss : {:.3f}\".format(torch.tensor(losses).mean()))\n",
    "        print(\"Valid Acc  : {:.3f}\".format(accuracy_score(Y_shuffled.detach().numpy(), Y_preds.detach().numpy())))\n",
    "\n",
    "def TrainModel(model, loss_fn, optimizer, train_loader, val_loader, epochs=1):\n",
    "    for i in range(1, epochs+1):\n",
    "        losses = []\n",
    "        for X, Y in tqdm(train_loader):\n",
    "            print(X.shape)\n",
    "            Y_preds = model(X)\n",
    "\n",
    "            loss = loss_fn(Y_preds, Y)\n",
    "            losses.append(loss.item())\n",
    "\n",
    "            optimizer.zero_grad()\n",
    "            loss.backward()\n",
    "            optimizer.step()\n",
    "\n",
    "        if i%5==0:\n",
    "            print(\"Train Loss : {:.3f}\".format(torch.tensor(losses).mean()))\n",
    "            CalcValLossAndAccuracy(model, loss_fn, val_loader)"
   ],
   "metadata": {
    "collapsed": false,
    "pycharm": {
     "name": "#%%\n"
    }
   }
  },
  {
   "cell_type": "code",
   "execution_count": 22,
   "outputs": [
    {
     "name": "stderr",
     "output_type": "stream",
     "text": [
      "  0%|          | 22/15000 [00:00<01:10, 212.55it/s]"
     ]
    },
    {
     "name": "stdout",
     "output_type": "stream",
     "text": [
      "torch.Size([8, 2500])\n",
      "torch.Size([8, 2500])\n",
      "torch.Size([8, 2500])\n",
      "torch.Size([8, 2500])\n",
      "torch.Size([8, 2500])\n",
      "torch.Size([8, 2500])\n",
      "torch.Size([8, 2500])\n",
      "torch.Size([8, 2500])\n",
      "torch.Size([8, 2500])\n",
      "torch.Size([8, 2500])\n",
      "torch.Size([8, 2500])\n",
      "torch.Size([8, 2500])\n",
      "torch.Size([8, 2500])\n",
      "torch.Size([8, 2500])\n",
      "torch.Size([8, 2500])\n",
      "torch.Size([8, 2500])\n",
      "torch.Size([8, 2500])\n",
      "torch.Size([8, 2500])\n",
      "torch.Size([8, 2500])\n",
      "torch.Size([8, 2500])\n",
      "torch.Size([8, 2500])\n",
      "torch.Size([8, 2500])\n",
      "torch.Size([8, 2500])\n",
      "torch.Size([8, 2500])\n",
      "torch.Size([8, 2500])\n",
      "torch.Size([8, 2500])\n",
      "torch.Size([8, 2500])\n",
      "torch.Size([8, 2500])\n",
      "torch.Size([8, 2500])\n",
      "torch.Size([8, 2500])\n",
      "torch.Size([8, 2500])\n",
      "torch.Size([8, 2500])\n",
      "torch.Size([8, 2500])\n",
      "torch.Size([8, 2500])\n",
      "torch.Size([8, 2500])\n",
      "torch.Size([8, 2500])\n",
      "torch.Size([8, 2500])\n",
      "torch.Size([8, 2500])\n",
      "torch.Size([8, 2500])\n",
      "torch.Size([8, 2500])\n",
      "torch.Size([8, 2500])\n",
      "torch.Size([8, 2500])\n",
      "torch.Size([8, 2500])\n",
      "torch.Size([8, 2500])\n"
     ]
    },
    {
     "name": "stderr",
     "output_type": "stream",
     "text": [
      "  0%|          | 67/15000 [00:00<01:08, 217.43it/s]"
     ]
    },
    {
     "name": "stdout",
     "output_type": "stream",
     "text": [
      "torch.Size([8, 2500])\n",
      "torch.Size([8, 2500])\n",
      "torch.Size([8, 2500])\n",
      "torch.Size([8, 2500])\n",
      "torch.Size([8, 2500])\n",
      "torch.Size([8, 2500])\n",
      "torch.Size([8, 2500])\n",
      "torch.Size([8, 2500])\n",
      "torch.Size([8, 2500])\n",
      "torch.Size([8, 2500])\n",
      "torch.Size([8, 2500])\n",
      "torch.Size([8, 2500])\n",
      "torch.Size([8, 2500])\n",
      "torch.Size([8, 2500])\n",
      "torch.Size([8, 2500])\n",
      "torch.Size([8, 2500])\n",
      "torch.Size([8, 2500])\n",
      "torch.Size([8, 2500])\n",
      "torch.Size([8, 2500])\n",
      "torch.Size([8, 2500])\n",
      "torch.Size([8, 2500])\n",
      "torch.Size([8, 2500])\n",
      "torch.Size([8, 2500])\n",
      "torch.Size([8, 2500])\n",
      "torch.Size([8, 2500])\n",
      "torch.Size([8, 2500])\n",
      "torch.Size([8, 2500])\n",
      "torch.Size([8, 2500])\n",
      "torch.Size([8, 2500])\n",
      "torch.Size([8, 2500])\n",
      "torch.Size([8, 2500])\n",
      "torch.Size([8, 2500])\n",
      "torch.Size([8, 2500])\n",
      "torch.Size([8, 2500])\n",
      "torch.Size([8, 2500])\n",
      "torch.Size([8, 2500])\n",
      "torch.Size([8, 2500])\n",
      "torch.Size([8, 2500])\n",
      "torch.Size([8, 2500])\n",
      "torch.Size([8, 2500])\n",
      "torch.Size([8, 2500])\n",
      "torch.Size([8, 2500])\n",
      "torch.Size([8, 2500])\n",
      "torch.Size([8, 2500])\n",
      "torch.Size([8, 2500])\n"
     ]
    },
    {
     "name": "stderr",
     "output_type": "stream",
     "text": [
      "  1%|          | 111/15000 [00:00<01:08, 217.06it/s]"
     ]
    },
    {
     "name": "stdout",
     "output_type": "stream",
     "text": [
      "torch.Size([8, 2500])\n",
      "torch.Size([8, 2500])\n",
      "torch.Size([8, 2500])\n",
      "torch.Size([8, 2500])\n",
      "torch.Size([8, 2500])\n",
      "torch.Size([8, 2500])\n",
      "torch.Size([8, 2500])\n",
      "torch.Size([8, 2500])\n",
      "torch.Size([8, 2500])\n",
      "torch.Size([8, 2500])\n",
      "torch.Size([8, 2500])\n",
      "torch.Size([8, 2500])\n",
      "torch.Size([8, 2500])\n",
      "torch.Size([8, 2500])\n",
      "torch.Size([8, 2500])\n",
      "torch.Size([8, 2500])\n",
      "torch.Size([8, 2500])\n",
      "torch.Size([8, 2500])\n",
      "torch.Size([8, 2500])\n",
      "torch.Size([8, 2500])\n",
      "torch.Size([8, 2500])\n",
      "torch.Size([8, 2500])\n",
      "torch.Size([8, 2500])\n",
      "torch.Size([8, 2500])\n",
      "torch.Size([8, 2500])\n",
      "torch.Size([8, 2500])\n",
      "torch.Size([8, 2500])\n",
      "torch.Size([8, 2500])\n",
      "torch.Size([8, 2500])\n",
      "torch.Size([8, 2500])\n",
      "torch.Size([8, 2500])\n",
      "torch.Size([8, 2500])\n",
      "torch.Size([8, 2500])\n",
      "torch.Size([8, 2500])\n",
      "torch.Size([8, 2500])\n",
      "torch.Size([8, 2500])\n",
      "torch.Size([8, 2500])\n",
      "torch.Size([8, 2500])\n",
      "torch.Size([8, 2500])\n",
      "torch.Size([8, 2500])\n",
      "torch.Size([8, 2500])\n",
      "torch.Size([8, 2500])\n",
      "torch.Size([8, 2500])\n",
      "torch.Size([8, 2500])\n"
     ]
    },
    {
     "name": "stderr",
     "output_type": "stream",
     "text": [
      "  1%|          | 155/15000 [00:00<01:09, 214.12it/s]"
     ]
    },
    {
     "name": "stdout",
     "output_type": "stream",
     "text": [
      "torch.Size([8, 2500])\n",
      "torch.Size([8, 2500])\n",
      "torch.Size([8, 2500])\n",
      "torch.Size([8, 2500])\n",
      "torch.Size([8, 2500])\n",
      "torch.Size([8, 2500])\n",
      "torch.Size([8, 2500])\n",
      "torch.Size([8, 2500])\n",
      "torch.Size([8, 2500])\n",
      "torch.Size([8, 2500])\n",
      "torch.Size([8, 2500])\n",
      "torch.Size([8, 2500])\n",
      "torch.Size([8, 2500])\n",
      "torch.Size([8, 2500])\n",
      "torch.Size([8, 2500])\n",
      "torch.Size([8, 2500])\n",
      "torch.Size([8, 2500])\n",
      "torch.Size([8, 2500])\n",
      "torch.Size([8, 2500])\n",
      "torch.Size([8, 2500])\n",
      "torch.Size([8, 2500])\n",
      "torch.Size([8, 2500])\n",
      "torch.Size([8, 2500])\n",
      "torch.Size([8, 2500])\n",
      "torch.Size([8, 2500])\n",
      "torch.Size([8, 2500])\n",
      "torch.Size([8, 2500])\n",
      "torch.Size([8, 2500])\n",
      "torch.Size([8, 2500])\n",
      "torch.Size([8, 2500])\n",
      "torch.Size([8, 2500])\n",
      "torch.Size([8, 2500])\n",
      "torch.Size([8, 2500])\n",
      "torch.Size([8, 2500])\n",
      "torch.Size([8, 2500])\n",
      "torch.Size([8, 2500])\n",
      "torch.Size([8, 2500])\n",
      "torch.Size([8, 2500])\n",
      "torch.Size([8, 2500])\n",
      "torch.Size([8, 2500])\n",
      "torch.Size([8, 2500])\n",
      "torch.Size([8, 2500])\n",
      "torch.Size([8, 2500])\n",
      "torch.Size([8, 2500])\n"
     ]
    },
    {
     "name": "stderr",
     "output_type": "stream",
     "text": [
      "  1%|▏         | 201/15000 [00:00<01:07, 219.64it/s]"
     ]
    },
    {
     "name": "stdout",
     "output_type": "stream",
     "text": [
      "torch.Size([8, 2500])\n",
      "torch.Size([8, 2500])\n",
      "torch.Size([8, 2500])\n",
      "torch.Size([8, 2500])\n",
      "torch.Size([8, 2500])\n",
      "torch.Size([8, 2500])\n",
      "torch.Size([8, 2500])\n",
      "torch.Size([8, 2500])\n",
      "torch.Size([8, 2500])\n",
      "torch.Size([8, 2500])\n",
      "torch.Size([8, 2500])\n",
      "torch.Size([8, 2500])\n",
      "torch.Size([8, 2500])\n",
      "torch.Size([8, 2500])\n",
      "torch.Size([8, 2500])\n",
      "torch.Size([8, 2500])\n",
      "torch.Size([8, 2500])\n",
      "torch.Size([8, 2500])\n",
      "torch.Size([8, 2500])\n",
      "torch.Size([8, 2500])\n",
      "torch.Size([8, 2500])\n",
      "torch.Size([8, 2500])\n",
      "torch.Size([8, 2500])\n",
      "torch.Size([8, 2500])\n",
      "torch.Size([8, 2500])\n",
      "torch.Size([8, 2500])\n",
      "torch.Size([8, 2500])\n",
      "torch.Size([8, 2500])\n",
      "torch.Size([8, 2500])\n",
      "torch.Size([8, 2500])\n",
      "torch.Size([8, 2500])\n",
      "torch.Size([8, 2500])\n",
      "torch.Size([8, 2500])\n",
      "torch.Size([8, 2500])\n",
      "torch.Size([8, 2500])\n",
      "torch.Size([8, 2500])\n",
      "torch.Size([8, 2500])\n",
      "torch.Size([8, 2500])\n",
      "torch.Size([8, 2500])\n",
      "torch.Size([8, 2500])\n",
      "torch.Size([8, 2500])\n",
      "torch.Size([8, 2500])\n",
      "torch.Size([8, 2500])\n",
      "torch.Size([8, 2500])\n",
      "torch.Size([8, 2500])\n"
     ]
    },
    {
     "name": "stderr",
     "output_type": "stream",
     "text": [
      "  2%|▏         | 245/15000 [00:01<01:07, 218.37it/s]"
     ]
    },
    {
     "name": "stdout",
     "output_type": "stream",
     "text": [
      "torch.Size([8, 2500])\n",
      "torch.Size([8, 2500])\n",
      "torch.Size([8, 2500])\n",
      "torch.Size([8, 2500])\n",
      "torch.Size([8, 2500])\n",
      "torch.Size([8, 2500])\n",
      "torch.Size([8, 2500])\n",
      "torch.Size([8, 2500])\n",
      "torch.Size([8, 2500])\n",
      "torch.Size([8, 2500])\n",
      "torch.Size([8, 2500])\n",
      "torch.Size([8, 2500])\n",
      "torch.Size([8, 2500])\n",
      "torch.Size([8, 2500])\n",
      "torch.Size([8, 2500])\n",
      "torch.Size([8, 2500])\n",
      "torch.Size([8, 2500])\n",
      "torch.Size([8, 2500])\n",
      "torch.Size([8, 2500])\n",
      "torch.Size([8, 2500])\n",
      "torch.Size([8, 2500])\n",
      "torch.Size([8, 2500])\n",
      "torch.Size([8, 2500])\n",
      "torch.Size([8, 2500])\n",
      "torch.Size([8, 2500])\n",
      "torch.Size([8, 2500])\n",
      "torch.Size([8, 2500])\n",
      "torch.Size([8, 2500])\n",
      "torch.Size([8, 2500])\n",
      "torch.Size([8, 2500])\n",
      "torch.Size([8, 2500])\n",
      "torch.Size([8, 2500])\n",
      "torch.Size([8, 2500])\n",
      "torch.Size([8, 2500])\n",
      "torch.Size([8, 2500])\n",
      "torch.Size([8, 2500])\n",
      "torch.Size([8, 2500])\n",
      "torch.Size([8, 2500])\n",
      "torch.Size([8, 2500])\n",
      "torch.Size([8, 2500])\n",
      "torch.Size([8, 2500])\n",
      "torch.Size([8, 2500])\n",
      "torch.Size([8, 2500])\n",
      "torch.Size([8, 2500])\n",
      "torch.Size([8, 2500])\n"
     ]
    },
    {
     "name": "stderr",
     "output_type": "stream",
     "text": [
      "  2%|▏         | 291/15000 [00:01<01:06, 220.15it/s]"
     ]
    },
    {
     "name": "stdout",
     "output_type": "stream",
     "text": [
      "torch.Size([8, 2500])\n",
      "torch.Size([8, 2500])\n",
      "torch.Size([8, 2500])\n",
      "torch.Size([8, 2500])\n",
      "torch.Size([8, 2500])\n",
      "torch.Size([8, 2500])\n",
      "torch.Size([8, 2500])\n",
      "torch.Size([8, 2500])\n",
      "torch.Size([8, 2500])\n",
      "torch.Size([8, 2500])\n",
      "torch.Size([8, 2500])\n",
      "torch.Size([8, 2500])\n",
      "torch.Size([8, 2500])\n",
      "torch.Size([8, 2500])\n",
      "torch.Size([8, 2500])\n",
      "torch.Size([8, 2500])\n",
      "torch.Size([8, 2500])\n",
      "torch.Size([8, 2500])\n",
      "torch.Size([8, 2500])\n",
      "torch.Size([8, 2500])\n",
      "torch.Size([8, 2500])\n",
      "torch.Size([8, 2500])\n",
      "torch.Size([8, 2500])\n",
      "torch.Size([8, 2500])\n",
      "torch.Size([8, 2500])\n",
      "torch.Size([8, 2500])\n",
      "torch.Size([8, 2500])\n",
      "torch.Size([8, 2500])\n",
      "torch.Size([8, 2500])\n",
      "torch.Size([8, 2500])\n",
      "torch.Size([8, 2500])\n",
      "torch.Size([8, 2500])\n",
      "torch.Size([8, 2500])\n",
      "torch.Size([8, 2500])\n",
      "torch.Size([8, 2500])\n",
      "torch.Size([8, 2500])\n",
      "torch.Size([8, 2500])\n",
      "torch.Size([8, 2500])\n",
      "torch.Size([8, 2500])\n",
      "torch.Size([8, 2500])\n",
      "torch.Size([8, 2500])\n",
      "torch.Size([8, 2500])\n",
      "torch.Size([8, 2500])\n",
      "torch.Size([8, 2500])\n",
      "torch.Size([8, 2500])\n"
     ]
    },
    {
     "name": "stderr",
     "output_type": "stream",
     "text": [
      "  2%|▏         | 337/15000 [00:01<01:06, 220.27it/s]"
     ]
    },
    {
     "name": "stdout",
     "output_type": "stream",
     "text": [
      "torch.Size([8, 2500])\n",
      "torch.Size([8, 2500])\n",
      "torch.Size([8, 2500])\n",
      "torch.Size([8, 2500])\n",
      "torch.Size([8, 2500])\n",
      "torch.Size([8, 2500])\n",
      "torch.Size([8, 2500])\n",
      "torch.Size([8, 2500])\n",
      "torch.Size([8, 2500])\n",
      "torch.Size([8, 2500])\n",
      "torch.Size([8, 2500])\n",
      "torch.Size([8, 2500])\n",
      "torch.Size([8, 2500])\n",
      "torch.Size([8, 2500])\n",
      "torch.Size([8, 2500])\n",
      "torch.Size([8, 2500])\n",
      "torch.Size([8, 2500])\n",
      "torch.Size([8, 2500])\n",
      "torch.Size([8, 2500])\n",
      "torch.Size([8, 2500])\n",
      "torch.Size([8, 2500])\n",
      "torch.Size([8, 2500])\n",
      "torch.Size([8, 2500])\n",
      "torch.Size([8, 2500])\n",
      "torch.Size([8, 2500])\n",
      "torch.Size([8, 2500])\n",
      "torch.Size([8, 2500])\n",
      "torch.Size([8, 2500])\n",
      "torch.Size([8, 2500])\n",
      "torch.Size([8, 2500])\n",
      "torch.Size([8, 2500])\n",
      "torch.Size([8, 2500])\n",
      "torch.Size([8, 2500])\n",
      "torch.Size([8, 2500])\n",
      "torch.Size([8, 2500])\n",
      "torch.Size([8, 2500])\n",
      "torch.Size([8, 2500])\n",
      "torch.Size([8, 2500])\n",
      "torch.Size([8, 2500])\n",
      "torch.Size([8, 2500])\n",
      "torch.Size([8, 2500])\n",
      "torch.Size([8, 2500])\n",
      "torch.Size([8, 2500])\n",
      "torch.Size([8, 2500])\n",
      "torch.Size([8, 2500])\n"
     ]
    },
    {
     "name": "stderr",
     "output_type": "stream",
     "text": [
      "  3%|▎         | 383/15000 [00:01<01:06, 220.58it/s]"
     ]
    },
    {
     "name": "stdout",
     "output_type": "stream",
     "text": [
      "torch.Size([8, 2500])\n",
      "torch.Size([8, 2500])\n",
      "torch.Size([8, 2500])\n",
      "torch.Size([8, 2500])\n",
      "torch.Size([8, 2500])\n",
      "torch.Size([8, 2500])\n",
      "torch.Size([8, 2500])\n",
      "torch.Size([8, 2500])\n",
      "torch.Size([8, 2500])\n",
      "torch.Size([8, 2500])\n",
      "torch.Size([8, 2500])\n",
      "torch.Size([8, 2500])\n",
      "torch.Size([8, 2500])\n",
      "torch.Size([8, 2500])\n",
      "torch.Size([8, 2500])\n",
      "torch.Size([8, 2500])\n",
      "torch.Size([8, 2500])\n",
      "torch.Size([8, 2500])\n",
      "torch.Size([8, 2500])\n",
      "torch.Size([8, 2500])\n",
      "torch.Size([8, 2500])\n",
      "torch.Size([8, 2500])\n",
      "torch.Size([8, 2500])\n",
      "torch.Size([8, 2500])\n",
      "torch.Size([8, 2500])\n",
      "torch.Size([8, 2500])\n",
      "torch.Size([8, 2500])\n",
      "torch.Size([8, 2500])\n",
      "torch.Size([8, 2500])\n",
      "torch.Size([8, 2500])\n",
      "torch.Size([8, 2500])\n",
      "torch.Size([8, 2500])\n",
      "torch.Size([8, 2500])\n",
      "torch.Size([8, 2500])\n",
      "torch.Size([8, 2500])\n",
      "torch.Size([8, 2500])\n",
      "torch.Size([8, 2500])\n",
      "torch.Size([8, 2500])\n",
      "torch.Size([8, 2500])\n",
      "torch.Size([8, 2500])\n",
      "torch.Size([8, 2500])\n",
      "torch.Size([8, 2500])\n",
      "torch.Size([8, 2500])\n",
      "torch.Size([8, 2500])\n",
      "torch.Size([8, 2500])\n"
     ]
    },
    {
     "name": "stderr",
     "output_type": "stream",
     "text": [
      "  3%|▎         | 429/15000 [00:01<01:05, 220.80it/s]"
     ]
    },
    {
     "name": "stdout",
     "output_type": "stream",
     "text": [
      "torch.Size([8, 2500])\n",
      "torch.Size([8, 2500])\n",
      "torch.Size([8, 2500])\n",
      "torch.Size([8, 2500])\n",
      "torch.Size([8, 2500])\n",
      "torch.Size([8, 2500])\n",
      "torch.Size([8, 2500])\n",
      "torch.Size([8, 2500])\n",
      "torch.Size([8, 2500])\n",
      "torch.Size([8, 2500])\n",
      "torch.Size([8, 2500])\n",
      "torch.Size([8, 2500])\n",
      "torch.Size([8, 2500])\n",
      "torch.Size([8, 2500])\n",
      "torch.Size([8, 2500])\n",
      "torch.Size([8, 2500])\n",
      "torch.Size([8, 2500])\n",
      "torch.Size([8, 2500])\n",
      "torch.Size([8, 2500])\n",
      "torch.Size([8, 2500])\n",
      "torch.Size([8, 2500])\n",
      "torch.Size([8, 2500])\n",
      "torch.Size([8, 2500])\n",
      "torch.Size([8, 2500])\n",
      "torch.Size([8, 2500])\n",
      "torch.Size([8, 2500])\n",
      "torch.Size([8, 2500])\n",
      "torch.Size([8, 2500])\n",
      "torch.Size([8, 2500])\n",
      "torch.Size([8, 2500])\n",
      "torch.Size([8, 2500])\n",
      "torch.Size([8, 2500])\n",
      "torch.Size([8, 2500])\n",
      "torch.Size([8, 2500])\n",
      "torch.Size([8, 2500])\n",
      "torch.Size([8, 2500])\n",
      "torch.Size([8, 2500])\n",
      "torch.Size([8, 2500])\n",
      "torch.Size([8, 2500])\n",
      "torch.Size([8, 2500])\n",
      "torch.Size([8, 2500])\n",
      "torch.Size([8, 2500])\n",
      "torch.Size([8, 2500])\n",
      "torch.Size([8, 2500])\n"
     ]
    },
    {
     "name": "stderr",
     "output_type": "stream",
     "text": [
      "  3%|▎         | 475/15000 [00:02<01:05, 220.47it/s]"
     ]
    },
    {
     "name": "stdout",
     "output_type": "stream",
     "text": [
      "torch.Size([8, 2500])\n",
      "torch.Size([8, 2500])\n",
      "torch.Size([8, 2500])\n",
      "torch.Size([8, 2500])\n",
      "torch.Size([8, 2500])\n",
      "torch.Size([8, 2500])\n",
      "torch.Size([8, 2500])\n",
      "torch.Size([8, 2500])\n",
      "torch.Size([8, 2500])\n",
      "torch.Size([8, 2500])\n",
      "torch.Size([8, 2500])\n",
      "torch.Size([8, 2500])\n",
      "torch.Size([8, 2500])\n",
      "torch.Size([8, 2500])\n",
      "torch.Size([8, 2500])\n",
      "torch.Size([8, 2500])\n",
      "torch.Size([8, 2500])\n",
      "torch.Size([8, 2500])\n",
      "torch.Size([8, 2500])\n",
      "torch.Size([8, 2500])\n",
      "torch.Size([8, 2500])\n",
      "torch.Size([8, 2500])\n",
      "torch.Size([8, 2500])\n",
      "torch.Size([8, 2500])\n",
      "torch.Size([8, 2500])\n",
      "torch.Size([8, 2500])\n",
      "torch.Size([8, 2500])\n",
      "torch.Size([8, 2500])\n",
      "torch.Size([8, 2500])\n",
      "torch.Size([8, 2500])\n",
      "torch.Size([8, 2500])\n",
      "torch.Size([8, 2500])\n",
      "torch.Size([8, 2500])\n",
      "torch.Size([8, 2500])\n",
      "torch.Size([8, 2500])\n",
      "torch.Size([8, 2500])\n",
      "torch.Size([8, 2500])\n",
      "torch.Size([8, 2500])\n",
      "torch.Size([8, 2500])\n",
      "torch.Size([8, 2500])\n",
      "torch.Size([8, 2500])\n",
      "torch.Size([8, 2500])\n",
      "torch.Size([8, 2500])\n",
      "torch.Size([8, 2500])\n",
      "torch.Size([8, 2500])\n"
     ]
    },
    {
     "name": "stderr",
     "output_type": "stream",
     "text": [
      "  3%|▎         | 520/15000 [00:02<01:06, 217.23it/s]"
     ]
    },
    {
     "name": "stdout",
     "output_type": "stream",
     "text": [
      "torch.Size([8, 2500])\n",
      "torch.Size([8, 2500])\n",
      "torch.Size([8, 2500])\n",
      "torch.Size([8, 2500])\n",
      "torch.Size([8, 2500])\n",
      "torch.Size([8, 2500])\n",
      "torch.Size([8, 2500])\n",
      "torch.Size([8, 2500])\n",
      "torch.Size([8, 2500])\n",
      "torch.Size([8, 2500])\n",
      "torch.Size([8, 2500])\n",
      "torch.Size([8, 2500])\n",
      "torch.Size([8, 2500])\n",
      "torch.Size([8, 2500])\n",
      "torch.Size([8, 2500])\n",
      "torch.Size([8, 2500])\n",
      "torch.Size([8, 2500])\n",
      "torch.Size([8, 2500])\n",
      "torch.Size([8, 2500])\n",
      "torch.Size([8, 2500])\n",
      "torch.Size([8, 2500])\n",
      "torch.Size([8, 2500])\n",
      "torch.Size([8, 2500])\n",
      "torch.Size([8, 2500])\n",
      "torch.Size([8, 2500])\n",
      "torch.Size([8, 2500])\n",
      "torch.Size([8, 2500])\n",
      "torch.Size([8, 2500])\n",
      "torch.Size([8, 2500])\n",
      "torch.Size([8, 2500])\n",
      "torch.Size([8, 2500])\n",
      "torch.Size([8, 2500])\n",
      "torch.Size([8, 2500])\n",
      "torch.Size([8, 2500])\n",
      "torch.Size([8, 2500])\n",
      "torch.Size([8, 2500])\n",
      "torch.Size([8, 2500])\n",
      "torch.Size([8, 2500])\n",
      "torch.Size([8, 2500])\n",
      "torch.Size([8, 2500])\n",
      "torch.Size([8, 2500])\n",
      "torch.Size([8, 2500])\n",
      "torch.Size([8, 2500])\n"
     ]
    },
    {
     "name": "stderr",
     "output_type": "stream",
     "text": [
      "  4%|▍         | 565/15000 [00:02<01:06, 217.16it/s]"
     ]
    },
    {
     "name": "stdout",
     "output_type": "stream",
     "text": [
      "torch.Size([8, 2500])\n",
      "torch.Size([8, 2500])\n",
      "torch.Size([8, 2500])\n",
      "torch.Size([8, 2500])\n",
      "torch.Size([8, 2500])\n",
      "torch.Size([8, 2500])\n",
      "torch.Size([8, 2500])\n",
      "torch.Size([8, 2500])\n",
      "torch.Size([8, 2500])\n",
      "torch.Size([8, 2500])\n",
      "torch.Size([8, 2500])\n",
      "torch.Size([8, 2500])\n",
      "torch.Size([8, 2500])\n",
      "torch.Size([8, 2500])\n",
      "torch.Size([8, 2500])\n",
      "torch.Size([8, 2500])\n",
      "torch.Size([8, 2500])\n",
      "torch.Size([8, 2500])\n",
      "torch.Size([8, 2500])\n",
      "torch.Size([8, 2500])\n",
      "torch.Size([8, 2500])\n",
      "torch.Size([8, 2500])\n",
      "torch.Size([8, 2500])\n",
      "torch.Size([8, 2500])\n",
      "torch.Size([8, 2500])\n",
      "torch.Size([8, 2500])\n",
      "torch.Size([8, 2500])\n",
      "torch.Size([8, 2500])\n",
      "torch.Size([8, 2500])\n",
      "torch.Size([8, 2500])\n",
      "torch.Size([8, 2500])\n",
      "torch.Size([8, 2500])\n",
      "torch.Size([8, 2500])\n",
      "torch.Size([8, 2500])\n",
      "torch.Size([8, 2500])\n",
      "torch.Size([8, 2500])\n",
      "torch.Size([8, 2500])\n",
      "torch.Size([8, 2500])\n",
      "torch.Size([8, 2500])\n",
      "torch.Size([8, 2500])\n",
      "torch.Size([8, 2500])\n",
      "torch.Size([8, 2500])\n",
      "torch.Size([8, 2500])\n",
      "torch.Size([8, 2500])\n",
      "torch.Size([8, 2500])\n"
     ]
    },
    {
     "name": "stderr",
     "output_type": "stream",
     "text": [
      "  4%|▍         | 610/15000 [00:02<01:05, 219.73it/s]"
     ]
    },
    {
     "name": "stdout",
     "output_type": "stream",
     "text": [
      "torch.Size([8, 2500])\n",
      "torch.Size([8, 2500])\n",
      "torch.Size([8, 2500])\n",
      "torch.Size([8, 2500])\n",
      "torch.Size([8, 2500])\n",
      "torch.Size([8, 2500])\n",
      "torch.Size([8, 2500])\n",
      "torch.Size([8, 2500])\n",
      "torch.Size([8, 2500])\n",
      "torch.Size([8, 2500])\n",
      "torch.Size([8, 2500])\n",
      "torch.Size([8, 2500])\n",
      "torch.Size([8, 2500])\n",
      "torch.Size([8, 2500])\n",
      "torch.Size([8, 2500])\n",
      "torch.Size([8, 2500])\n",
      "torch.Size([8, 2500])\n",
      "torch.Size([8, 2500])\n",
      "torch.Size([8, 2500])\n",
      "torch.Size([8, 2500])\n",
      "torch.Size([8, 2500])\n",
      "torch.Size([8, 2500])\n",
      "torch.Size([8, 2500])\n",
      "torch.Size([8, 2500])\n",
      "torch.Size([8, 2500])\n",
      "torch.Size([8, 2500])\n",
      "torch.Size([8, 2500])\n",
      "torch.Size([8, 2500])\n",
      "torch.Size([8, 2500])\n",
      "torch.Size([8, 2500])\n",
      "torch.Size([8, 2500])\n",
      "torch.Size([8, 2500])\n",
      "torch.Size([8, 2500])\n",
      "torch.Size([8, 2500])\n",
      "torch.Size([8, 2500])\n",
      "torch.Size([8, 2500])\n",
      "torch.Size([8, 2500])\n",
      "torch.Size([8, 2500])\n",
      "torch.Size([8, 2500])\n",
      "torch.Size([8, 2500])\n",
      "torch.Size([8, 2500])\n",
      "torch.Size([8, 2500])\n",
      "torch.Size([8, 2500])\n",
      "torch.Size([8, 2500])\n",
      "torch.Size([8, 2500])\n"
     ]
    },
    {
     "name": "stderr",
     "output_type": "stream",
     "text": [
      "  4%|▍         | 654/15000 [00:02<01:05, 218.79it/s]"
     ]
    },
    {
     "name": "stdout",
     "output_type": "stream",
     "text": [
      "torch.Size([8, 2500])\n",
      "torch.Size([8, 2500])\n",
      "torch.Size([8, 2500])\n",
      "torch.Size([8, 2500])\n",
      "torch.Size([8, 2500])\n",
      "torch.Size([8, 2500])\n",
      "torch.Size([8, 2500])\n",
      "torch.Size([8, 2500])\n",
      "torch.Size([8, 2500])\n",
      "torch.Size([8, 2500])\n",
      "torch.Size([8, 2500])\n",
      "torch.Size([8, 2500])\n",
      "torch.Size([8, 2500])\n",
      "torch.Size([8, 2500])\n",
      "torch.Size([8, 2500])\n",
      "torch.Size([8, 2500])\n",
      "torch.Size([8, 2500])\n",
      "torch.Size([8, 2500])\n",
      "torch.Size([8, 2500])\n",
      "torch.Size([8, 2500])\n",
      "torch.Size([8, 2500])\n",
      "torch.Size([8, 2500])\n",
      "torch.Size([8, 2500])\n",
      "torch.Size([8, 2500])\n",
      "torch.Size([8, 2500])\n",
      "torch.Size([8, 2500])\n",
      "torch.Size([8, 2500])\n",
      "torch.Size([8, 2500])\n",
      "torch.Size([8, 2500])\n",
      "torch.Size([8, 2500])\n",
      "torch.Size([8, 2500])\n",
      "torch.Size([8, 2500])\n",
      "torch.Size([8, 2500])\n",
      "torch.Size([8, 2500])\n",
      "torch.Size([8, 2500])\n",
      "torch.Size([8, 2500])\n",
      "torch.Size([8, 2500])\n",
      "torch.Size([8, 2500])\n",
      "torch.Size([8, 2500])\n",
      "torch.Size([8, 2500])\n",
      "torch.Size([8, 2500])\n",
      "torch.Size([8, 2500])\n",
      "torch.Size([8, 2500])\n",
      "torch.Size([8, 2500])\n"
     ]
    },
    {
     "name": "stderr",
     "output_type": "stream",
     "text": [
      "  5%|▍         | 698/15000 [00:03<01:08, 209.25it/s]"
     ]
    },
    {
     "name": "stdout",
     "output_type": "stream",
     "text": [
      "torch.Size([8, 2500])\n",
      "torch.Size([8, 2500])\n",
      "torch.Size([8, 2500])\n",
      "torch.Size([8, 2500])\n",
      "torch.Size([8, 2500])\n",
      "torch.Size([8, 2500])\n",
      "torch.Size([8, 2500])\n",
      "torch.Size([8, 2500])\n",
      "torch.Size([8, 2500])\n",
      "torch.Size([8, 2500])\n",
      "torch.Size([8, 2500])\n",
      "torch.Size([8, 2500])\n",
      "torch.Size([8, 2500])\n",
      "torch.Size([8, 2500])\n",
      "torch.Size([8, 2500])\n",
      "torch.Size([8, 2500])\n",
      "torch.Size([8, 2500])\n",
      "torch.Size([8, 2500])\n",
      "torch.Size([8, 2500])\n",
      "torch.Size([8, 2500])\n",
      "torch.Size([8, 2500])\n",
      "torch.Size([8, 2500])\n",
      "torch.Size([8, 2500])\n",
      "torch.Size([8, 2500])\n",
      "torch.Size([8, 2500])\n",
      "torch.Size([8, 2500])\n",
      "torch.Size([8, 2500])\n",
      "torch.Size([8, 2500])\n",
      "torch.Size([8, 2500])\n",
      "torch.Size([8, 2500])\n",
      "torch.Size([8, 2500])\n",
      "torch.Size([8, 2500])\n",
      "torch.Size([8, 2500])\n",
      "torch.Size([8, 2500])\n",
      "torch.Size([8, 2500])\n",
      "torch.Size([8, 2500])\n",
      "torch.Size([8, 2500])\n",
      "torch.Size([8, 2500])\n",
      "torch.Size([8, 2500])\n",
      "torch.Size([8, 2500])\n"
     ]
    },
    {
     "name": "stderr",
     "output_type": "stream",
     "text": [
      "  5%|▍         | 740/15000 [00:03<01:11, 199.78it/s]"
     ]
    },
    {
     "name": "stdout",
     "output_type": "stream",
     "text": [
      "torch.Size([8, 2500])\n",
      "torch.Size([8, 2500])\n",
      "torch.Size([8, 2500])\n",
      "torch.Size([8, 2500])\n",
      "torch.Size([8, 2500])\n",
      "torch.Size([8, 2500])\n",
      "torch.Size([8, 2500])\n",
      "torch.Size([8, 2500])\n",
      "torch.Size([8, 2500])\n",
      "torch.Size([8, 2500])\n",
      "torch.Size([8, 2500])\n",
      "torch.Size([8, 2500])\n",
      "torch.Size([8, 2500])\n",
      "torch.Size([8, 2500])\n",
      "torch.Size([8, 2500])\n",
      "torch.Size([8, 2500])\n",
      "torch.Size([8, 2500])\n",
      "torch.Size([8, 2500])\n",
      "torch.Size([8, 2500])\n",
      "torch.Size([8, 2500])\n",
      "torch.Size([8, 2500])\n",
      "torch.Size([8, 2500])\n",
      "torch.Size([8, 2500])\n",
      "torch.Size([8, 2500])\n",
      "torch.Size([8, 2500])\n",
      "torch.Size([8, 2500])\n",
      "torch.Size([8, 2500])\n",
      "torch.Size([8, 2500])\n",
      "torch.Size([8, 2500])\n",
      "torch.Size([8, 2500])\n",
      "torch.Size([8, 2500])\n",
      "torch.Size([8, 2500])\n",
      "torch.Size([8, 2500])\n",
      "torch.Size([8, 2500])\n",
      "torch.Size([8, 2500])\n",
      "torch.Size([8, 2500])\n",
      "torch.Size([8, 2500])\n",
      "torch.Size([8, 2500])\n",
      "torch.Size([8, 2500])\n"
     ]
    },
    {
     "name": "stderr",
     "output_type": "stream",
     "text": [
      "  5%|▍         | 746/15000 [00:03<01:06, 215.31it/s]\n"
     ]
    },
    {
     "ename": "KeyboardInterrupt",
     "evalue": "",
     "output_type": "error",
     "traceback": [
      "\u001B[0;31m---------------------------------------------------------------------------\u001B[0m",
      "\u001B[0;31mKeyboardInterrupt\u001B[0m                         Traceback (most recent call last)",
      "Input \u001B[0;32mIn [22]\u001B[0m, in \u001B[0;36m<cell line: 10>\u001B[0;34m()\u001B[0m\n\u001B[1;32m      7\u001B[0m embed_classifier \u001B[38;5;241m=\u001B[39m EmbeddingClassifier()\n\u001B[1;32m      8\u001B[0m optimizer \u001B[38;5;241m=\u001B[39m Adam(embed_classifier\u001B[38;5;241m.\u001B[39mparameters(), lr\u001B[38;5;241m=\u001B[39mlearning_rate)\n\u001B[0;32m---> 10\u001B[0m \u001B[43mTrainModel\u001B[49m\u001B[43m(\u001B[49m\u001B[43membed_classifier\u001B[49m\u001B[43m,\u001B[49m\u001B[43m \u001B[49m\u001B[43mloss_fn\u001B[49m\u001B[43m,\u001B[49m\u001B[43m \u001B[49m\u001B[43moptimizer\u001B[49m\u001B[43m,\u001B[49m\u001B[43m \u001B[49m\u001B[43mtrain_loader\u001B[49m\u001B[43m,\u001B[49m\u001B[43m \u001B[49m\u001B[43mtest_loader\u001B[49m\u001B[43m,\u001B[49m\u001B[43m \u001B[49m\u001B[43mepochs\u001B[49m\u001B[43m)\u001B[49m\n",
      "Input \u001B[0;32mIn [21]\u001B[0m, in \u001B[0;36mTrainModel\u001B[0;34m(model, loss_fn, optimizer, train_loader, val_loader, epochs)\u001B[0m\n\u001B[1;32m     32\u001B[0m     optimizer\u001B[38;5;241m.\u001B[39mzero_grad()\n\u001B[1;32m     33\u001B[0m     loss\u001B[38;5;241m.\u001B[39mbackward()\n\u001B[0;32m---> 34\u001B[0m     \u001B[43moptimizer\u001B[49m\u001B[38;5;241;43m.\u001B[39;49m\u001B[43mstep\u001B[49m\u001B[43m(\u001B[49m\u001B[43m)\u001B[49m\n\u001B[1;32m     36\u001B[0m \u001B[38;5;28;01mif\u001B[39;00m i\u001B[38;5;241m%\u001B[39m\u001B[38;5;241m5\u001B[39m\u001B[38;5;241m==\u001B[39m\u001B[38;5;241m0\u001B[39m:\n\u001B[1;32m     37\u001B[0m     \u001B[38;5;28mprint\u001B[39m(\u001B[38;5;124m\"\u001B[39m\u001B[38;5;124mTrain Loss : \u001B[39m\u001B[38;5;132;01m{:.3f}\u001B[39;00m\u001B[38;5;124m\"\u001B[39m\u001B[38;5;241m.\u001B[39mformat(torch\u001B[38;5;241m.\u001B[39mtensor(losses)\u001B[38;5;241m.\u001B[39mmean()))\n",
      "File \u001B[0;32m~/git/courses/venv/lib/python3.8/site-packages/torch/optim/optimizer.py:88\u001B[0m, in \u001B[0;36mOptimizer._hook_for_profile.<locals>.profile_hook_step.<locals>.wrapper\u001B[0;34m(*args, **kwargs)\u001B[0m\n\u001B[1;32m     86\u001B[0m profile_name \u001B[38;5;241m=\u001B[39m \u001B[38;5;124m\"\u001B[39m\u001B[38;5;124mOptimizer.step#\u001B[39m\u001B[38;5;132;01m{}\u001B[39;00m\u001B[38;5;124m.step\u001B[39m\u001B[38;5;124m\"\u001B[39m\u001B[38;5;241m.\u001B[39mformat(obj\u001B[38;5;241m.\u001B[39m\u001B[38;5;18m__class__\u001B[39m\u001B[38;5;241m.\u001B[39m\u001B[38;5;18m__name__\u001B[39m)\n\u001B[1;32m     87\u001B[0m \u001B[38;5;28;01mwith\u001B[39;00m torch\u001B[38;5;241m.\u001B[39mautograd\u001B[38;5;241m.\u001B[39mprofiler\u001B[38;5;241m.\u001B[39mrecord_function(profile_name):\n\u001B[0;32m---> 88\u001B[0m     \u001B[38;5;28;01mreturn\u001B[39;00m \u001B[43mfunc\u001B[49m\u001B[43m(\u001B[49m\u001B[38;5;241;43m*\u001B[39;49m\u001B[43margs\u001B[49m\u001B[43m,\u001B[49m\u001B[43m \u001B[49m\u001B[38;5;241;43m*\u001B[39;49m\u001B[38;5;241;43m*\u001B[39;49m\u001B[43mkwargs\u001B[49m\u001B[43m)\u001B[49m\n",
      "File \u001B[0;32m~/git/courses/venv/lib/python3.8/site-packages/torch/autograd/grad_mode.py:27\u001B[0m, in \u001B[0;36m_DecoratorContextManager.__call__.<locals>.decorate_context\u001B[0;34m(*args, **kwargs)\u001B[0m\n\u001B[1;32m     24\u001B[0m \u001B[38;5;129m@functools\u001B[39m\u001B[38;5;241m.\u001B[39mwraps(func)\n\u001B[1;32m     25\u001B[0m \u001B[38;5;28;01mdef\u001B[39;00m \u001B[38;5;21mdecorate_context\u001B[39m(\u001B[38;5;241m*\u001B[39margs, \u001B[38;5;241m*\u001B[39m\u001B[38;5;241m*\u001B[39mkwargs):\n\u001B[1;32m     26\u001B[0m     \u001B[38;5;28;01mwith\u001B[39;00m \u001B[38;5;28mself\u001B[39m\u001B[38;5;241m.\u001B[39mclone():\n\u001B[0;32m---> 27\u001B[0m         \u001B[38;5;28;01mreturn\u001B[39;00m \u001B[43mfunc\u001B[49m\u001B[43m(\u001B[49m\u001B[38;5;241;43m*\u001B[39;49m\u001B[43margs\u001B[49m\u001B[43m,\u001B[49m\u001B[43m \u001B[49m\u001B[38;5;241;43m*\u001B[39;49m\u001B[38;5;241;43m*\u001B[39;49m\u001B[43mkwargs\u001B[49m\u001B[43m)\u001B[49m\n",
      "File \u001B[0;32m~/git/courses/venv/lib/python3.8/site-packages/torch/optim/adam.py:141\u001B[0m, in \u001B[0;36mAdam.step\u001B[0;34m(self, closure)\u001B[0m\n\u001B[1;32m    138\u001B[0m             \u001B[38;5;66;03m# record the step after step update\u001B[39;00m\n\u001B[1;32m    139\u001B[0m             state_steps\u001B[38;5;241m.\u001B[39mappend(state[\u001B[38;5;124m'\u001B[39m\u001B[38;5;124mstep\u001B[39m\u001B[38;5;124m'\u001B[39m])\n\u001B[0;32m--> 141\u001B[0m     \u001B[43mF\u001B[49m\u001B[38;5;241;43m.\u001B[39;49m\u001B[43madam\u001B[49m\u001B[43m(\u001B[49m\u001B[43mparams_with_grad\u001B[49m\u001B[43m,\u001B[49m\n\u001B[1;32m    142\u001B[0m \u001B[43m           \u001B[49m\u001B[43mgrads\u001B[49m\u001B[43m,\u001B[49m\n\u001B[1;32m    143\u001B[0m \u001B[43m           \u001B[49m\u001B[43mexp_avgs\u001B[49m\u001B[43m,\u001B[49m\n\u001B[1;32m    144\u001B[0m \u001B[43m           \u001B[49m\u001B[43mexp_avg_sqs\u001B[49m\u001B[43m,\u001B[49m\n\u001B[1;32m    145\u001B[0m \u001B[43m           \u001B[49m\u001B[43mmax_exp_avg_sqs\u001B[49m\u001B[43m,\u001B[49m\n\u001B[1;32m    146\u001B[0m \u001B[43m           \u001B[49m\u001B[43mstate_steps\u001B[49m\u001B[43m,\u001B[49m\n\u001B[1;32m    147\u001B[0m \u001B[43m           \u001B[49m\u001B[43mamsgrad\u001B[49m\u001B[38;5;241;43m=\u001B[39;49m\u001B[43mgroup\u001B[49m\u001B[43m[\u001B[49m\u001B[38;5;124;43m'\u001B[39;49m\u001B[38;5;124;43mamsgrad\u001B[39;49m\u001B[38;5;124;43m'\u001B[39;49m\u001B[43m]\u001B[49m\u001B[43m,\u001B[49m\n\u001B[1;32m    148\u001B[0m \u001B[43m           \u001B[49m\u001B[43mbeta1\u001B[49m\u001B[38;5;241;43m=\u001B[39;49m\u001B[43mbeta1\u001B[49m\u001B[43m,\u001B[49m\n\u001B[1;32m    149\u001B[0m \u001B[43m           \u001B[49m\u001B[43mbeta2\u001B[49m\u001B[38;5;241;43m=\u001B[39;49m\u001B[43mbeta2\u001B[49m\u001B[43m,\u001B[49m\n\u001B[1;32m    150\u001B[0m \u001B[43m           \u001B[49m\u001B[43mlr\u001B[49m\u001B[38;5;241;43m=\u001B[39;49m\u001B[43mgroup\u001B[49m\u001B[43m[\u001B[49m\u001B[38;5;124;43m'\u001B[39;49m\u001B[38;5;124;43mlr\u001B[39;49m\u001B[38;5;124;43m'\u001B[39;49m\u001B[43m]\u001B[49m\u001B[43m,\u001B[49m\n\u001B[1;32m    151\u001B[0m \u001B[43m           \u001B[49m\u001B[43mweight_decay\u001B[49m\u001B[38;5;241;43m=\u001B[39;49m\u001B[43mgroup\u001B[49m\u001B[43m[\u001B[49m\u001B[38;5;124;43m'\u001B[39;49m\u001B[38;5;124;43mweight_decay\u001B[39;49m\u001B[38;5;124;43m'\u001B[39;49m\u001B[43m]\u001B[49m\u001B[43m,\u001B[49m\n\u001B[1;32m    152\u001B[0m \u001B[43m           \u001B[49m\u001B[43meps\u001B[49m\u001B[38;5;241;43m=\u001B[39;49m\u001B[43mgroup\u001B[49m\u001B[43m[\u001B[49m\u001B[38;5;124;43m'\u001B[39;49m\u001B[38;5;124;43meps\u001B[39;49m\u001B[38;5;124;43m'\u001B[39;49m\u001B[43m]\u001B[49m\u001B[43m,\u001B[49m\n\u001B[1;32m    153\u001B[0m \u001B[43m           \u001B[49m\u001B[43mmaximize\u001B[49m\u001B[38;5;241;43m=\u001B[39;49m\u001B[43mgroup\u001B[49m\u001B[43m[\u001B[49m\u001B[38;5;124;43m'\u001B[39;49m\u001B[38;5;124;43mmaximize\u001B[39;49m\u001B[38;5;124;43m'\u001B[39;49m\u001B[43m]\u001B[49m\u001B[43m)\u001B[49m\n\u001B[1;32m    154\u001B[0m \u001B[38;5;28;01mreturn\u001B[39;00m loss\n",
      "File \u001B[0;32m~/git/courses/venv/lib/python3.8/site-packages/torch/optim/_functional.py:110\u001B[0m, in \u001B[0;36madam\u001B[0;34m(params, grads, exp_avgs, exp_avg_sqs, max_exp_avg_sqs, state_steps, amsgrad, beta1, beta2, lr, weight_decay, eps, maximize)\u001B[0m\n\u001B[1;32m    105\u001B[0m     denom \u001B[38;5;241m=\u001B[39m (exp_avg_sq\u001B[38;5;241m.\u001B[39msqrt() \u001B[38;5;241m/\u001B[39m math\u001B[38;5;241m.\u001B[39msqrt(bias_correction2))\u001B[38;5;241m.\u001B[39madd_(eps)\n\u001B[1;32m    109\u001B[0m step_size \u001B[38;5;241m=\u001B[39m lr \u001B[38;5;241m/\u001B[39m bias_correction1\n\u001B[0;32m--> 110\u001B[0m \u001B[43mparam\u001B[49m\u001B[38;5;241;43m.\u001B[39;49m\u001B[43maddcdiv_\u001B[49m\u001B[43m(\u001B[49m\u001B[43mexp_avg\u001B[49m\u001B[43m,\u001B[49m\u001B[43m \u001B[49m\u001B[43mdenom\u001B[49m\u001B[43m,\u001B[49m\u001B[43m \u001B[49m\u001B[43mvalue\u001B[49m\u001B[38;5;241;43m=\u001B[39;49m\u001B[38;5;241;43m-\u001B[39;49m\u001B[43mstep_size\u001B[49m\u001B[43m)\u001B[49m\n",
      "\u001B[0;31mKeyboardInterrupt\u001B[0m: "
     ]
    }
   ],
   "source": [
    "from torch.optim import Adam\n",
    "\n",
    "epochs = 25\n",
    "learning_rate = 1e-3\n",
    "\n",
    "loss_fn = nn.CrossEntropyLoss()\n",
    "embed_classifier = EmbeddingClassifier()\n",
    "optimizer = Adam(embed_classifier.parameters(), lr=learning_rate)\n",
    "\n",
    "TrainModel(embed_classifier, loss_fn, optimizer, train_loader, test_loader, epochs)"
   ],
   "metadata": {
    "collapsed": false,
    "pycharm": {
     "name": "#%%\n"
    }
   }
  },
  {
   "cell_type": "code",
   "execution_count": null,
   "outputs": [],
   "source": [],
   "metadata": {
    "collapsed": false,
    "pycharm": {
     "name": "#%%\n"
    }
   }
  },
  {
   "cell_type": "code",
   "execution_count": null,
   "outputs": [],
   "source": [],
   "metadata": {
    "collapsed": false,
    "pycharm": {
     "name": "#%%\n"
    }
   }
  }
 ],
 "metadata": {
  "kernelspec": {
   "display_name": "Python 3",
   "language": "python",
   "name": "python3"
  },
  "language_info": {
   "codemirror_mode": {
    "name": "ipython",
    "version": 2
   },
   "file_extension": ".py",
   "mimetype": "text/x-python",
   "name": "python",
   "nbconvert_exporter": "python",
   "pygments_lexer": "ipython2",
   "version": "2.7.6"
  }
 },
 "nbformat": 4,
 "nbformat_minor": 0
}